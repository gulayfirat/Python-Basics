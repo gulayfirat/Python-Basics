{
 "cells": [
  {
   "cell_type": "code",
   "execution_count": 1,
   "id": "6fb49315-24da-480e-9ce7-b48b92022063",
   "metadata": {},
   "outputs": [],
   "source": [
    "# Restart Kernel and Run All Cell..."
   ]
  },
  {
   "cell_type": "code",
   "execution_count": 2,
   "id": "795b93db-ffb4-42c1-9781-1b80b848b4b8",
   "metadata": {},
   "outputs": [],
   "source": [
    "my_lis t= [10, 20, 30,40, 50, 60, 70]"
   ]
  },
  {
   "cell_type": "code",
   "execution_count": 3,
   "id": "b68b480b-0f09-4e4a-88dd-4b08419ec7ba",
   "metadata": {},
   "outputs": [
    {
     "name": "stdout",
     "output_type": "stream",
     "text": [
      "10\n",
      "20\n",
      "30\n",
      "40\n",
      "50\n",
      "60\n",
      "70\n"
     ]
    }
   ],
   "source": [
    "for i in my_list:\n",
    "    print(i)"
   ]
  },
  {
   "cell_type": "code",
   "execution_count": 4,
   "id": "1af21dc4-1878-4cb6-be04-540cc033cf6a",
   "metadata": {},
   "outputs": [],
   "source": [
    "# range : range(start, stop, step), note: default step = 1"
   ]
  },
  {
   "cell_type": "code",
   "execution_count": 5,
   "id": "7689f907-7deb-425a-8ded-5916c28ecbe0",
   "metadata": {},
   "outputs": [
    {
     "data": {
      "text/plain": [
       "[0, 1, 2, 3, 4, 5, 6, 7, 8, 9]"
      ]
     },
     "execution_count": 5,
     "metadata": {},
     "output_type": "execute_result"
    }
   ],
   "source": [
    "list(range(0,10))"
   ]
  },
  {
   "cell_type": "code",
   "execution_count": 6,
   "id": "06153bf6-f5db-43d2-aa27-eab014508fb1",
   "metadata": {},
   "outputs": [
    {
     "name": "stdout",
     "output_type": "stream",
     "text": [
      "0\n",
      "2\n",
      "4\n",
      "6\n",
      "8\n",
      "10\n",
      "12\n",
      "14\n",
      "16\n",
      "18\n",
      "20\n",
      "22\n",
      "24\n",
      "26\n",
      "28\n",
      "30\n",
      "32\n",
      "34\n",
      "36\n",
      "38\n"
     ]
    }
   ],
   "source": [
    "for num in list(range(0,20)):\n",
    "    print(num*2)"
   ]
  },
  {
   "cell_type": "code",
   "execution_count": 7,
   "id": "7597ac69-8523-418d-9bb5-169276c3d303",
   "metadata": {},
   "outputs": [
    {
     "data": {
      "text/plain": [
       "[5, 6, 7, 8, 9, 10, 11, 12, 13, 14, 15, 16, 17, 18, 19, 20, 21, 22, 23, 24]"
      ]
     },
     "execution_count": 7,
     "metadata": {},
     "output_type": "execute_result"
    }
   ],
   "source": [
    "list(range(5,25))"
   ]
  },
  {
   "cell_type": "code",
   "execution_count": 8,
   "id": "3d0ecf69-3179-4789-ac85-af4103805a17",
   "metadata": {},
   "outputs": [
    {
     "data": {
      "text/plain": [
       "[5, 7, 9, 11, 13, 15, 17, 19, 21, 23]"
      ]
     },
     "execution_count": 8,
     "metadata": {},
     "output_type": "execute_result"
    }
   ],
   "source": [
    "list(range(5,25,2))"
   ]
  },
  {
   "cell_type": "code",
   "execution_count": 9,
   "id": "db745688-525c-4076-afeb-6d3c4e4437ba",
   "metadata": {},
   "outputs": [],
   "source": [
    "my_list=[20,30,40,50,60]"
   ]
  },
  {
   "cell_type": "code",
   "execution_count": 10,
   "id": "15052769-6d57-4c98-b3bc-54505a672535",
   "metadata": {},
   "outputs": [
    {
     "name": "stdout",
     "output_type": "stream",
     "text": [
      "20\n",
      "30\n",
      "40\n",
      "50\n",
      "60\n"
     ]
    }
   ],
   "source": [
    "for i in range(len(my_list)):\n",
    "    print(my_list[i])"
   ]
  },
  {
   "cell_type": "code",
   "execution_count": 11,
   "id": "e0a1a8a0-ef50-49b7-9b5b-b02366e8f9a5",
   "metadata": {},
   "outputs": [],
   "source": [
    "# enumerate (index, value)"
   ]
  },
  {
   "cell_type": "code",
   "execution_count": 12,
   "id": "8658aaf8-fad0-47d3-ac04-7fa11a08bc06",
   "metadata": {},
   "outputs": [
    {
     "name": "stdout",
     "output_type": "stream",
     "text": [
      "(0, 20)\n",
      "(1, 30)\n",
      "(2, 40)\n",
      "(3, 50)\n",
      "(4, 60)\n"
     ]
    }
   ],
   "source": [
    "for element in enumerate(my_list):\n",
    "    print(element)"
   ]
  },
  {
   "cell_type": "code",
   "execution_count": 13,
   "id": "01c7e987-3b60-4395-acf8-7ec3c48dbd5c",
   "metadata": {},
   "outputs": [
    {
     "name": "stdout",
     "output_type": "stream",
     "text": [
      "20\n",
      "30\n",
      "40\n",
      "50\n",
      "60\n"
     ]
    }
   ],
   "source": [
    "for (index, value) in enumerate(my_list):\n",
    "    print(value)"
   ]
  },
  {
   "cell_type": "code",
   "execution_count": 14,
   "id": "c8cfb8ed-33ec-472c-bb32-851a04be3d74",
   "metadata": {},
   "outputs": [
    {
     "name": "stdout",
     "output_type": "stream",
     "text": [
      "0\n",
      "1\n",
      "2\n",
      "3\n",
      "4\n"
     ]
    }
   ],
   "source": [
    "for (index, value) in enumerate(my_list):\n",
    "    print(index)"
   ]
  },
  {
   "cell_type": "code",
   "execution_count": 15,
   "id": "c07b135d-852b-4fc6-989a-4094177ffe26",
   "metadata": {},
   "outputs": [],
   "source": [
    "# random"
   ]
  },
  {
   "cell_type": "code",
   "execution_count": 16,
   "id": "3d7f3cec-4bfd-4151-8598-de68e1bddd36",
   "metadata": {},
   "outputs": [],
   "source": [
    "from random import randint"
   ]
  },
  {
   "cell_type": "code",
   "execution_count": 17,
   "id": "f9d3ee15-a0ad-4079-96e4-f4d631a6917d",
   "metadata": {},
   "outputs": [
    {
     "data": {
      "text/plain": [
       "65"
      ]
     },
     "execution_count": 17,
     "metadata": {},
     "output_type": "execute_result"
    }
   ],
   "source": [
    "randint(0,100)"
   ]
  },
  {
   "cell_type": "code",
   "execution_count": 18,
   "id": "8ceb48d2-8eb4-4b43-83c9-972b6dd1fe57",
   "metadata": {},
   "outputs": [
    {
     "data": {
      "text/plain": [
       "54"
      ]
     },
     "execution_count": 18,
     "metadata": {},
     "output_type": "execute_result"
    }
   ],
   "source": [
    "randint(0,100)"
   ]
  },
  {
   "cell_type": "code",
   "execution_count": 19,
   "id": "eea119a2-d523-4f3d-bacc-436d03f52ec6",
   "metadata": {},
   "outputs": [
    {
     "data": {
      "text/plain": [
       "81"
      ]
     },
     "execution_count": 19,
     "metadata": {},
     "output_type": "execute_result"
    }
   ],
   "source": [
    "randint(0,100)"
   ]
  },
  {
   "cell_type": "code",
   "execution_count": 20,
   "id": "f5917556-d0fa-4ce7-a4f1-b8b3a7ff5ba2",
   "metadata": {},
   "outputs": [],
   "source": [
    "from random import shuffle"
   ]
  },
  {
   "cell_type": "code",
   "execution_count": 21,
   "id": "0b02618f-4e66-4e2f-a189-dfd5a0c2756c",
   "metadata": {},
   "outputs": [
    {
     "data": {
      "text/plain": [
       "[20, 30, 40, 50, 60]"
      ]
     },
     "execution_count": 21,
     "metadata": {},
     "output_type": "execute_result"
    }
   ],
   "source": [
    "my_list"
   ]
  },
  {
   "cell_type": "code",
   "execution_count": 22,
   "id": "8870c6b0-93c2-46d0-8b4b-d7f4b60a63e8",
   "metadata": {},
   "outputs": [],
   "source": [
    "shuffle(my_list)"
   ]
  },
  {
   "cell_type": "code",
   "execution_count": 23,
   "id": "215f5498-ff76-4e38-b646-dd75e927a7c5",
   "metadata": {},
   "outputs": [
    {
     "data": {
      "text/plain": [
       "[50, 20, 40, 60, 30]"
      ]
     },
     "execution_count": 23,
     "metadata": {},
     "output_type": "execute_result"
    }
   ],
   "source": [
    "my_list"
   ]
  },
  {
   "cell_type": "code",
   "execution_count": 24,
   "id": "98b12e64-0b18-4885-af37-a5a33c5743af",
   "metadata": {},
   "outputs": [],
   "source": [
    "shuffle(my_list)"
   ]
  },
  {
   "cell_type": "code",
   "execution_count": 25,
   "id": "283028c2-66c8-4b8f-bd79-9815ae522f7e",
   "metadata": {},
   "outputs": [
    {
     "data": {
      "text/plain": [
       "[30, 50, 60, 40, 20]"
      ]
     },
     "execution_count": 25,
     "metadata": {},
     "output_type": "execute_result"
    }
   ],
   "source": [
    "my_list"
   ]
  },
  {
   "cell_type": "code",
   "execution_count": 26,
   "id": "593400cd-26fe-4b60-b60c-53b18b08e393",
   "metadata": {},
   "outputs": [],
   "source": [
    "my_list=[10,20, 30, 40, 50, 60,70]"
   ]
  },
  {
   "cell_type": "code",
   "execution_count": 27,
   "id": "9add3097-60c1-407e-88a8-391693ff8ae9",
   "metadata": {},
   "outputs": [
    {
     "data": {
      "text/plain": [
       "0"
      ]
     },
     "execution_count": 27,
     "metadata": {},
     "output_type": "execute_result"
    }
   ],
   "source": [
    "randint(0, len(my_list))"
   ]
  },
  {
   "cell_type": "code",
   "execution_count": 28,
   "id": "ab9695b7-6bab-4dae-90da-317503cd39bc",
   "metadata": {},
   "outputs": [
    {
     "data": {
      "text/plain": [
       "40"
      ]
     },
     "execution_count": 28,
     "metadata": {},
     "output_type": "execute_result"
    }
   ],
   "source": [
    "my_list[randint(0, len(my_list)-1)]"
   ]
  },
  {
   "cell_type": "code",
   "execution_count": 29,
   "id": "4bdfdc02-ed93-4a41-b1ed-03739b23b61a",
   "metadata": {},
   "outputs": [
    {
     "data": {
      "text/plain": [
       "30"
      ]
     },
     "execution_count": 29,
     "metadata": {},
     "output_type": "execute_result"
    }
   ],
   "source": [
    "my_list[randint(0, len(my_list)-1)]"
   ]
  },
  {
   "cell_type": "code",
   "execution_count": 30,
   "id": "fc47b4de-c9c1-40a4-8812-6c50e9a6498f",
   "metadata": {},
   "outputs": [
    {
     "data": {
      "text/plain": [
       "70"
      ]
     },
     "execution_count": 30,
     "metadata": {},
     "output_type": "execute_result"
    }
   ],
   "source": [
    "my_list[randint(0, len(my_list)-1)]"
   ]
  },
  {
   "cell_type": "code",
   "execution_count": 31,
   "id": "d6d798da-654e-4d13-8d05-33eef0ba4e27",
   "metadata": {},
   "outputs": [],
   "source": [
    "# zip"
   ]
  },
  {
   "cell_type": "code",
   "execution_count": 32,
   "id": "2a3c143c-3e03-4f53-8a04-e64e7c8071d5",
   "metadata": {},
   "outputs": [],
   "source": [
    "food_list = [\"apple\",\"banana\", \"melon\"]"
   ]
  },
  {
   "cell_type": "code",
   "execution_count": 33,
   "id": "c79ab08b-e8b0-4bb9-b5a4-f1b182665f13",
   "metadata": {},
   "outputs": [],
   "source": [
    "calories_list = [100,150,200]"
   ]
  },
  {
   "cell_type": "code",
   "execution_count": 34,
   "id": "42cd8edb-e0d9-4e00-bea6-7599d7cff7eb",
   "metadata": {},
   "outputs": [],
   "source": [
    "day_list=[\"monday\", \"tuesday\",\"wednesday\"]"
   ]
  },
  {
   "cell_type": "code",
   "execution_count": 35,
   "id": "7e968554-d474-44df-a40a-623cc91c7892",
   "metadata": {},
   "outputs": [],
   "source": [
    "zipped_list=zip(food_list,calories_list,day_list)"
   ]
  },
  {
   "cell_type": "code",
   "execution_count": 36,
   "id": "941b5cae-f287-4ed2-bf15-c6bbc4f78e69",
   "metadata": {},
   "outputs": [
    {
     "data": {
      "text/plain": [
       "zip"
      ]
     },
     "execution_count": 36,
     "metadata": {},
     "output_type": "execute_result"
    }
   ],
   "source": [
    "type(zipped_list)"
   ]
  },
  {
   "cell_type": "code",
   "execution_count": 37,
   "id": "05fe8e52-f977-4c5f-9a2a-34ccf823b2e4",
   "metadata": {},
   "outputs": [],
   "source": [
    "zipped_list = list(zip(food_list,calories_list,day_list))"
   ]
  },
  {
   "cell_type": "code",
   "execution_count": 38,
   "id": "19d7751f-d2b0-4759-a3da-0d39e7f046a9",
   "metadata": {},
   "outputs": [
    {
     "data": {
      "text/plain": [
       "list"
      ]
     },
     "execution_count": 38,
     "metadata": {},
     "output_type": "execute_result"
    }
   ],
   "source": [
    "type(zipped_list)"
   ]
  },
  {
   "cell_type": "code",
   "execution_count": 39,
   "id": "f518409f-4ad4-4c63-b8ac-72206b1c9652",
   "metadata": {},
   "outputs": [
    {
     "data": {
      "text/plain": [
       "[('apple', 100, 'monday'),\n",
       " ('banana', 150, 'tuesday'),\n",
       " ('melon', 200, 'wednesday')]"
      ]
     },
     "execution_count": 39,
     "metadata": {},
     "output_type": "execute_result"
    }
   ],
   "source": [
    "zipped_list"
   ]
  },
  {
   "cell_type": "code",
   "execution_count": 40,
   "id": "ab389954-d695-4da7-862c-ea2ea942c6e8",
   "metadata": {},
   "outputs": [],
   "source": [
    "new_list=[]\n",
    "my_string=\"metallica\"\n",
    "for element in my_string:\n",
    "   new_list.append(element)"
   ]
  },
  {
   "cell_type": "code",
   "execution_count": 41,
   "id": "e0f918ec-be75-4582-a3ed-2f6bb35d7ad3",
   "metadata": {},
   "outputs": [
    {
     "data": {
      "text/plain": [
       "['m', 'e', 't', 'a', 'l', 'l', 'i', 'c', 'a']"
      ]
     },
     "execution_count": 41,
     "metadata": {},
     "output_type": "execute_result"
    }
   ],
   "source": [
    "new_list"
   ]
  },
  {
   "cell_type": "code",
   "execution_count": 42,
   "id": "81817b8d-0c06-40ea-a8b2-33d1b185241d",
   "metadata": {},
   "outputs": [],
   "source": [
    "#list comprehension"
   ]
  },
  {
   "cell_type": "code",
   "execution_count": 43,
   "id": "2a0ceac4-2e32-413a-8e93-0417abb639cc",
   "metadata": {},
   "outputs": [],
   "source": [
    "new_list=[element for element in my_string]"
   ]
  },
  {
   "cell_type": "code",
   "execution_count": 44,
   "id": "33cc6a28-219d-491a-8006-de780f128763",
   "metadata": {},
   "outputs": [
    {
     "data": {
      "text/plain": [
       "['m', 'e', 't', 'a', 'l', 'l', 'i', 'c', 'a']"
      ]
     },
     "execution_count": 44,
     "metadata": {},
     "output_type": "execute_result"
    }
   ],
   "source": [
    "new_list"
   ]
  },
  {
   "cell_type": "code",
   "execution_count": 45,
   "id": "59239d06-412f-4e17-a2c3-5bc5e951e419",
   "metadata": {},
   "outputs": [],
   "source": [
    "number_list=[10,20,30,40,50,60,70]"
   ]
  },
  {
   "cell_type": "code",
   "execution_count": 46,
   "id": "a5ab85be-4fcf-4b9b-820f-925a29310a4c",
   "metadata": {},
   "outputs": [],
   "source": [
    "new_number_list=[num/2 for num in number_list]"
   ]
  },
  {
   "cell_type": "code",
   "execution_count": 47,
   "id": "7d59e404-0f97-4ba5-acb8-1a1de98efba6",
   "metadata": {},
   "outputs": [
    {
     "data": {
      "text/plain": [
       "[5.0, 10.0, 15.0, 20.0, 25.0, 30.0, 35.0]"
      ]
     },
     "execution_count": 47,
     "metadata": {},
     "output_type": "execute_result"
    }
   ],
   "source": [
    "new_number_list"
   ]
  },
  {
   "cell_type": "code",
   "execution_count": null,
   "id": "4d45c8a1-04bf-411f-a45f-b2212208e72c",
   "metadata": {},
   "outputs": [],
   "source": []
  }
 ],
 "metadata": {
  "kernelspec": {
   "display_name": "Python [conda env:base] *",
   "language": "python",
   "name": "conda-base-py"
  },
  "language_info": {
   "codemirror_mode": {
    "name": "ipython",
    "version": 3
   },
   "file_extension": ".py",
   "mimetype": "text/x-python",
   "name": "python",
   "nbconvert_exporter": "python",
   "pygments_lexer": "ipython3",
   "version": "3.12.7"
  }
 },
 "nbformat": 4,
 "nbformat_minor": 5
}
