{
 "cells": [
  {
   "cell_type": "code",
   "execution_count": 1,
   "id": "b2b4fcc9-2fbb-4c1f-b57e-6c148f1b23f3",
   "metadata": {},
   "outputs": [],
   "source": [
    "# tuple: almost the same as lists"
   ]
  },
  {
   "cell_type": "code",
   "execution_count": 2,
   "id": "7378858a-3955-4809-a457-67bbb0999eae",
   "metadata": {},
   "outputs": [],
   "source": [
    "myList=[10,\"a\",\"b\",3.14]"
   ]
  },
  {
   "cell_type": "code",
   "execution_count": 3,
   "id": "8bb06a04-cc9e-403a-b373-d9c60a3d0cc0",
   "metadata": {},
   "outputs": [
    {
     "data": {
      "text/plain": [
       "10"
      ]
     },
     "execution_count": 3,
     "metadata": {},
     "output_type": "execute_result"
    }
   ],
   "source": [
    "myList[0] # 10"
   ]
  },
  {
   "cell_type": "code",
   "execution_count": 4,
   "id": "1d216db5-58dc-455b-9e8c-b4224ad75b26",
   "metadata": {},
   "outputs": [],
   "source": [
    "myList[0 ]= 100"
   ]
  },
  {
   "cell_type": "code",
   "execution_count": 5,
   "id": "c6bdd1a5-6d13-4436-99ee-d2f48f26a10a",
   "metadata": {},
   "outputs": [
    {
     "data": {
      "text/plain": [
       "[100, 'a', 'b', 3.14]"
      ]
     },
     "execution_count": 5,
     "metadata": {},
     "output_type": "execute_result"
    }
   ],
   "source": [
    "myList # [100, 'a', 'b', 3.14]"
   ]
  },
  {
   "cell_type": "code",
   "execution_count": 6,
   "id": "fe4d3af5-8d22-455c-92b8-898b2ef991d7",
   "metadata": {},
   "outputs": [],
   "source": [
    "#Tuple "
   ]
  },
  {
   "cell_type": "code",
   "execution_count": 7,
   "id": "cabd909a-1668-49de-915c-40017acf64d8",
   "metadata": {},
   "outputs": [],
   "source": [
    "myTuple=(10,\"a\",\"b\",3.14)"
   ]
  },
  {
   "cell_type": "code",
   "execution_count": 8,
   "id": "7742185b-1fd6-4944-96fa-9a050cbb9677",
   "metadata": {},
   "outputs": [
    {
     "data": {
      "text/plain": [
       "tuple"
      ]
     },
     "execution_count": 8,
     "metadata": {},
     "output_type": "execute_result"
    }
   ],
   "source": [
    "type(myTuple) # tuple"
   ]
  },
  {
   "cell_type": "code",
   "execution_count": 9,
   "id": "28321e5f-4016-4673-8c0c-a253f447077f",
   "metadata": {},
   "outputs": [
    {
     "data": {
      "text/plain": [
       "10"
      ]
     },
     "execution_count": 9,
     "metadata": {},
     "output_type": "execute_result"
    }
   ],
   "source": [
    "myTuple[0] # 10"
   ]
  },
  {
   "cell_type": "code",
   "execution_count": 10,
   "id": "ba5a8647-608c-4574-a616-2dd85f91ffbd",
   "metadata": {},
   "outputs": [],
   "source": [
    "#immutable"
   ]
  },
  {
   "cell_type": "code",
   "execution_count": 11,
   "id": "975a30d6-da66-41d7-b0e3-2d02eeada95c",
   "metadata": {},
   "outputs": [],
   "source": [
    "# myTuple[0] = 100 # TypeError: 'tuple' object does not support item assignment"
   ]
  },
  {
   "cell_type": "code",
   "execution_count": 12,
   "id": "385aac18-c12d-4b9e-b09e-180924415779",
   "metadata": {},
   "outputs": [
    {
     "data": {
      "text/plain": [
       "(10, 'a', 'b', 3.14)"
      ]
     },
     "execution_count": 12,
     "metadata": {},
     "output_type": "execute_result"
    }
   ],
   "source": [
    "myTuple  # (10, 'a', 'b', 3.14)"
   ]
  },
  {
   "cell_type": "code",
   "execution_count": 13,
   "id": "6c664def-38fe-4dcf-ba92-6254e360acf4",
   "metadata": {},
   "outputs": [
    {
     "data": {
      "text/plain": [
       "1"
      ]
     },
     "execution_count": 13,
     "metadata": {},
     "output_type": "execute_result"
    }
   ],
   "source": [
    "myTuple.index(\"a\") # 1"
   ]
  },
  {
   "cell_type": "code",
   "execution_count": 14,
   "id": "cb48ca74-d82f-4c3c-81db-f053d723d276",
   "metadata": {},
   "outputs": [
    {
     "data": {
      "text/plain": [
       "1"
      ]
     },
     "execution_count": 14,
     "metadata": {},
     "output_type": "execute_result"
    }
   ],
   "source": [
    "myTuple.count(\"a\") # 1"
   ]
  },
  {
   "cell_type": "code",
   "execution_count": 15,
   "id": "31f7ee47-816e-47ca-a5e9-183fe94c7719",
   "metadata": {},
   "outputs": [],
   "source": [
    "resultTuple = (10,100,20)"
   ]
  },
  {
   "cell_type": "code",
   "execution_count": 16,
   "id": "e5352d9c-68f8-4662-a74e-2771cd3db2f5",
   "metadata": {},
   "outputs": [
    {
     "data": {
      "text/plain": [
       "(10, 100, 20)"
      ]
     },
     "execution_count": 16,
     "metadata": {},
     "output_type": "execute_result"
    }
   ],
   "source": [
    "resultTuple # (10, 100, 20)"
   ]
  },
  {
   "cell_type": "code",
   "execution_count": 17,
   "id": "6dface0a-fb9d-4ded-bfd8-992b0188fbb1",
   "metadata": {},
   "outputs": [],
   "source": [
    "resultList = list(resultTuple)"
   ]
  },
  {
   "cell_type": "code",
   "execution_count": 18,
   "id": "50781fb6-88a1-488b-8fdb-049ae4c43e88",
   "metadata": {},
   "outputs": [
    {
     "data": {
      "text/plain": [
       "[10, 100, 20]"
      ]
     },
     "execution_count": 18,
     "metadata": {},
     "output_type": "execute_result"
    }
   ],
   "source": [
    "resultList # [10, 100, 20]"
   ]
  }
 ],
 "metadata": {
  "kernelspec": {
   "display_name": "Python [conda env:base] *",
   "language": "python",
   "name": "conda-base-py"
  },
  "language_info": {
   "codemirror_mode": {
    "name": "ipython",
    "version": 3
   },
   "file_extension": ".py",
   "mimetype": "text/x-python",
   "name": "python",
   "nbconvert_exporter": "python",
   "pygments_lexer": "ipython3",
   "version": "3.12.7"
  }
 },
 "nbformat": 4,
 "nbformat_minor": 5
}
