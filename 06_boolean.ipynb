{
 "cells": [
  {
   "cell_type": "code",
   "execution_count": 1,
   "id": "6ab145af-ffa2-4a8b-ad5e-700925b93cb0",
   "metadata": {},
   "outputs": [],
   "source": [
    "#Boolean: only True/False "
   ]
  },
  {
   "cell_type": "code",
   "execution_count": 2,
   "id": "647bce97-f00f-4043-9534-3f9d74a75b14",
   "metadata": {},
   "outputs": [],
   "source": [
    "myBoolean = True"
   ]
  },
  {
   "cell_type": "code",
   "execution_count": 3,
   "id": "a2a7cc16-1f3a-4d4f-b341-d76702fb21f1",
   "metadata": {},
   "outputs": [
    {
     "data": {
      "text/plain": [
       "True"
      ]
     },
     "execution_count": 3,
     "metadata": {},
     "output_type": "execute_result"
    }
   ],
   "source": [
    "myBoolean # True"
   ]
  },
  {
   "cell_type": "code",
   "execution_count": 4,
   "id": "983495ed-1251-4e33-aa8b-caa73a5e7b28",
   "metadata": {},
   "outputs": [
    {
     "data": {
      "text/plain": [
       "bool"
      ]
     },
     "execution_count": 4,
     "metadata": {},
     "output_type": "execute_result"
    }
   ],
   "source": [
    "type(myBoolean) # bool"
   ]
  },
  {
   "cell_type": "code",
   "execution_count": 5,
   "id": "074c07d1-b2d7-4105-b54d-6eeec4c111bd",
   "metadata": {},
   "outputs": [],
   "source": [
    "myBoolean = False"
   ]
  },
  {
   "cell_type": "code",
   "execution_count": 6,
   "id": "7f338077-1ffc-4812-8e72-79f13595d483",
   "metadata": {},
   "outputs": [
    {
     "data": {
      "text/plain": [
       "False"
      ]
     },
     "execution_count": 6,
     "metadata": {},
     "output_type": "execute_result"
    }
   ],
   "source": [
    "myBoolean # False"
   ]
  },
  {
   "cell_type": "code",
   "execution_count": 7,
   "id": "0b8c6903-ab11-42b9-ad79-6de5cc2853d6",
   "metadata": {},
   "outputs": [
    {
     "data": {
      "text/plain": [
       "True"
      ]
     },
     "execution_count": 7,
     "metadata": {},
     "output_type": "execute_result"
    }
   ],
   "source": [
    "5>3 # True"
   ]
  },
  {
   "cell_type": "code",
   "execution_count": 8,
   "id": "10a2c2ec-ece5-4512-a14d-853638c3fc3d",
   "metadata": {},
   "outputs": [
    {
     "data": {
      "text/plain": [
       "False"
      ]
     },
     "execution_count": 8,
     "metadata": {},
     "output_type": "execute_result"
    }
   ],
   "source": [
    "3>5 # False"
   ]
  },
  {
   "cell_type": "code",
   "execution_count": 9,
   "id": "04c86eab-7ce8-4180-ac56-1c268b83d2e2",
   "metadata": {},
   "outputs": [
    {
     "data": {
      "text/plain": [
       "False"
      ]
     },
     "execution_count": 9,
     "metadata": {},
     "output_type": "execute_result"
    }
   ],
   "source": [
    "2<1 # False"
   ]
  },
  {
   "cell_type": "code",
   "execution_count": 24,
   "id": "f996f3cc-9598-43f0-9797-a97809b077d3",
   "metadata": {},
   "outputs": [
    {
     "name": "stdin",
     "output_type": "stream",
     "text": [
      "age:  20\n"
     ]
    }
   ],
   "source": [
    "age = int(input(\"age: \")) "
   ]
  },
  {
   "cell_type": "code",
   "execution_count": 11,
   "id": "74d15d81-fa80-471e-99b3-ce64e60a0c6c",
   "metadata": {},
   "outputs": [
    {
     "data": {
      "text/plain": [
       "True"
      ]
     },
     "execution_count": 11,
     "metadata": {},
     "output_type": "execute_result"
    }
   ],
   "source": [
    "age>18 "
   ]
  },
  {
   "cell_type": "code",
   "execution_count": null,
   "id": "37edbcd9-c736-4d55-bfc7-573df980b4db",
   "metadata": {},
   "outputs": [],
   "source": []
  }
 ],
 "metadata": {
  "kernelspec": {
   "display_name": "Python [conda env:base] *",
   "language": "python",
   "name": "conda-base-py"
  },
  "language_info": {
   "codemirror_mode": {
    "name": "ipython",
    "version": 3
   },
   "file_extension": ".py",
   "mimetype": "text/x-python",
   "name": "python",
   "nbconvert_exporter": "python",
   "pygments_lexer": "ipython3",
   "version": "3.12.7"
  }
 },
 "nbformat": 4,
 "nbformat_minor": 5
}
