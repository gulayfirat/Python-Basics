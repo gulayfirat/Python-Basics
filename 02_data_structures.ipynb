{
 "cells": [
  {
   "cell_type": "markdown",
   "id": "3fb5c00c-f1d6-4525-9225-f01a2546196a",
   "metadata": {},
   "source": [
    "# Data Structures"
   ]
  },
  {
   "cell_type": "code",
   "execution_count": 2,
   "id": "9877a33e-b931-4d74-b021-93f0a0ab7ee0",
   "metadata": {},
   "outputs": [],
   "source": [
    "# 1:index"
   ]
  },
  {
   "cell_type": "code",
   "execution_count": 3,
   "id": "bb16b43c-bf1e-4e7e-89f5-f0f0cd50493d",
   "metadata": {},
   "outputs": [],
   "source": [
    "myString =\"hello python\""
   ]
  },
  {
   "cell_type": "code",
   "execution_count": 4,
   "id": "beb98009-ee96-4818-9e7c-37a95537ab04",
   "metadata": {},
   "outputs": [
    {
     "data": {
      "text/plain": [
       "'h'"
      ]
     },
     "execution_count": 4,
     "metadata": {},
     "output_type": "execute_result"
    }
   ],
   "source": [
    "myString[0]  # 'h'"
   ]
  },
  {
   "cell_type": "code",
   "execution_count": 5,
   "id": "80f6adaf-d72f-4310-9841-66aa6931f341",
   "metadata": {},
   "outputs": [
    {
     "data": {
      "text/plain": [
       "'p'"
      ]
     },
     "execution_count": 5,
     "metadata": {},
     "output_type": "execute_result"
    }
   ],
   "source": [
    "myString[6] # 'p'"
   ]
  },
  {
   "cell_type": "code",
   "execution_count": 6,
   "id": "7b02c119-f90f-4f1f-b946-a85a3cbbaf7a",
   "metadata": {},
   "outputs": [
    {
     "data": {
      "text/plain": [
       "' '"
      ]
     },
     "execution_count": 6,
     "metadata": {},
     "output_type": "execute_result"
    }
   ],
   "source": [
    "myString[5] # ' '"
   ]
  },
  {
   "cell_type": "code",
   "execution_count": 7,
   "id": "964b59d1-dfb1-4df0-94e7-9edc52e995cb",
   "metadata": {},
   "outputs": [
    {
     "data": {
      "text/plain": [
       "12"
      ]
     },
     "execution_count": 7,
     "metadata": {},
     "output_type": "execute_result"
    }
   ],
   "source": [
    "len(myString) # 12  (lenght)"
   ]
  },
  {
   "cell_type": "code",
   "execution_count": 8,
   "id": "9863f48e-1d48-4bc0-8e5f-067d22701063",
   "metadata": {},
   "outputs": [
    {
     "data": {
      "text/plain": [
       "11"
      ]
     },
     "execution_count": 8,
     "metadata": {},
     "output_type": "execute_result"
    }
   ],
   "source": [
    "lastIndex= len(myString)-1 \n",
    "lastIndex #11"
   ]
  },
  {
   "cell_type": "code",
   "execution_count": 9,
   "id": "e197f767-a49e-4a38-99a4-600a96e82d29",
   "metadata": {},
   "outputs": [
    {
     "data": {
      "text/plain": [
       "'n'"
      ]
     },
     "execution_count": 9,
     "metadata": {},
     "output_type": "execute_result"
    }
   ],
   "source": [
    "myString[lastIndex] # n"
   ]
  },
  {
   "cell_type": "code",
   "execution_count": 10,
   "id": "bf597ee1-61e5-48a2-aae6-19ee27f1611c",
   "metadata": {},
   "outputs": [
    {
     "data": {
      "text/plain": [
       "'o'"
      ]
     },
     "execution_count": 10,
     "metadata": {},
     "output_type": "execute_result"
    }
   ],
   "source": [
    "myString[-2] # last 2. letter 'o'"
   ]
  },
  {
   "cell_type": "code",
   "execution_count": 11,
   "id": "2b61bae6-4ae5-4d4a-a0c5-07e8ed264b63",
   "metadata": {},
   "outputs": [],
   "source": [
    "# 2: Slicing?"
   ]
  },
  {
   "cell_type": "code",
   "execution_count": 12,
   "id": "f7ce1ac3-fbb8-4b8f-9005-bffcc4b9a4a2",
   "metadata": {},
   "outputs": [
    {
     "data": {
      "text/plain": [
       "'AB'"
      ]
     },
     "execution_count": 12,
     "metadata": {},
     "output_type": "execute_result"
    }
   ],
   "source": [
    "\"A\"+\"B\" # 'AB'"
   ]
  },
  {
   "cell_type": "code",
   "execution_count": 13,
   "id": "d32d0b37-a01b-47a2-9a14-4e1d6473d417",
   "metadata": {},
   "outputs": [],
   "source": [
    "name = \"python\""
   ]
  },
  {
   "cell_type": "code",
   "execution_count": 14,
   "id": "e34152c3-fc3d-46e2-9abc-1809aa000c28",
   "metadata": {},
   "outputs": [],
   "source": [
    "surname = \"programming\""
   ]
  },
  {
   "cell_type": "code",
   "execution_count": 15,
   "id": "b70c2530-48ba-4275-b7b7-593cb26dbc1c",
   "metadata": {},
   "outputs": [],
   "source": [
    "fullname = name + \" \" + surname"
   ]
  },
  {
   "cell_type": "code",
   "execution_count": 16,
   "id": "83a78978-169b-464e-848a-982fad26b5cb",
   "metadata": {},
   "outputs": [
    {
     "data": {
      "text/plain": [
       "'python programming'"
      ]
     },
     "execution_count": 16,
     "metadata": {},
     "output_type": "execute_result"
    }
   ],
   "source": [
    "fullname #'python programming'"
   ]
  },
  {
   "cell_type": "code",
   "execution_count": 17,
   "id": "31b74e8b-4e46-4d24-953a-e363c3f42334",
   "metadata": {},
   "outputs": [
    {
     "data": {
      "text/plain": [
       "'aaaaaaaaaa'"
      ]
     },
     "execution_count": 17,
     "metadata": {},
     "output_type": "execute_result"
    }
   ],
   "source": [
    "\"a\"*10 # 'aaaaaaaaaa'"
   ]
  },
  {
   "cell_type": "code",
   "execution_count": 18,
   "id": "35a1a042-4c8e-4e55-97a4-085f9dde3fee",
   "metadata": {},
   "outputs": [],
   "source": [
    "barCode=\"ABCDE123123982\""
   ]
  },
  {
   "cell_type": "code",
   "execution_count": 19,
   "id": "047e7f97-ecc7-4229-ac8c-12b3e38f9552",
   "metadata": {},
   "outputs": [
    {
     "data": {
      "text/plain": [
       "'ABC'"
      ]
     },
     "execution_count": 19,
     "metadata": {},
     "output_type": "execute_result"
    }
   ],
   "source": [
    "barCode[0]+barCode[1]+barCode[2] #'ABC'"
   ]
  },
  {
   "cell_type": "code",
   "execution_count": 20,
   "id": "1dc8005b-24b6-4d29-8eb2-80bc91fa1872",
   "metadata": {},
   "outputs": [
    {
     "data": {
      "text/plain": [
       "'ABCDE123123982'"
      ]
     },
     "execution_count": 20,
     "metadata": {},
     "output_type": "execute_result"
    }
   ],
   "source": [
    "barCode[::] #'ABCDE123123982'"
   ]
  },
  {
   "cell_type": "code",
   "execution_count": 21,
   "id": "d0fce521-780d-49ee-888a-806b8478e186",
   "metadata": {},
   "outputs": [
    {
     "data": {
      "text/plain": [
       "'DE123123982'"
      ]
     },
     "execution_count": 21,
     "metadata": {},
     "output_type": "execute_result"
    }
   ],
   "source": [
    "barCode[3::] # 'DE123123982' (Slicing)"
   ]
  },
  {
   "cell_type": "code",
   "execution_count": 22,
   "id": "2497e5f0-371b-4b46-b9d5-5b50db1e0967",
   "metadata": {},
   "outputs": [],
   "source": [
    "# barCode[starting index: stoping index: stepping index] "
   ]
  },
  {
   "cell_type": "code",
   "execution_count": 23,
   "id": "a0e52863-49e5-47cc-8eb5-a2cb639cb5c6",
   "metadata": {},
   "outputs": [
    {
     "data": {
      "text/plain": [
       "'ABC'"
      ]
     },
     "execution_count": 23,
     "metadata": {},
     "output_type": "execute_result"
    }
   ],
   "source": [
    "barCode[:3:] #'ABC'"
   ]
  },
  {
   "cell_type": "code",
   "execution_count": 24,
   "id": "537d120f-4381-4495-933b-baf1c1494ae1",
   "metadata": {},
   "outputs": [
    {
     "data": {
      "text/plain": [
       "'ABCDE'"
      ]
     },
     "execution_count": 24,
     "metadata": {},
     "output_type": "execute_result"
    }
   ],
   "source": [
    "barCode[:5:]"
   ]
  },
  {
   "cell_type": "code",
   "execution_count": 25,
   "id": "46488cd0-3820-4e1f-9b6e-a9500607c44a",
   "metadata": {},
   "outputs": [
    {
     "data": {
      "text/plain": [
       "'ACE2138'"
      ]
     },
     "execution_count": 25,
     "metadata": {},
     "output_type": "execute_result"
    }
   ],
   "source": [
    "barCode[::2]"
   ]
  },
  {
   "cell_type": "code",
   "execution_count": 26,
   "id": "b775cc76-f581-4a12-911b-facb98755b38",
   "metadata": {},
   "outputs": [
    {
     "data": {
      "text/plain": [
       "'AD228'"
      ]
     },
     "execution_count": 26,
     "metadata": {},
     "output_type": "execute_result"
    }
   ],
   "source": [
    "barCode[::3]"
   ]
  },
  {
   "cell_type": "code",
   "execution_count": 27,
   "id": "e7a990ed-73d4-40d4-adbb-942726d80b21",
   "metadata": {},
   "outputs": [
    {
     "data": {
      "text/plain": [
       "'DE123123982'"
      ]
     },
     "execution_count": 27,
     "metadata": {},
     "output_type": "execute_result"
    }
   ],
   "source": [
    "barCode[3::]"
   ]
  },
  {
   "cell_type": "code",
   "execution_count": 28,
   "id": "6870d8f4-f581-4834-a06e-465b4c1d821c",
   "metadata": {},
   "outputs": [
    {
     "data": {
      "text/plain": [
       "'DE'"
      ]
     },
     "execution_count": 28,
     "metadata": {},
     "output_type": "execute_result"
    }
   ],
   "source": [
    "barCode[3:5] # [::]-> [:]  (steping is optional)"
   ]
  },
  {
   "cell_type": "code",
   "execution_count": 29,
   "id": "598f4f55-13d2-472c-96bf-855884bd0ae8",
   "metadata": {},
   "outputs": [
    {
     "data": {
      "text/plain": [
       "'BD13'"
      ]
     },
     "execution_count": 29,
     "metadata": {},
     "output_type": "execute_result"
    }
   ],
   "source": [
    "barCode[1:9:2] # 'BD13'"
   ]
  },
  {
   "cell_type": "code",
   "execution_count": 30,
   "id": "716c1c44-1f37-481b-9b8a-b88c3c0aa6b7",
   "metadata": {},
   "outputs": [
    {
     "data": {
      "text/plain": [
       "'289321321EDCBA'"
      ]
     },
     "execution_count": 30,
     "metadata": {},
     "output_type": "execute_result"
    }
   ],
   "source": [
    "barCode[::-1] # '289321321EDCBA'"
   ]
  },
  {
   "cell_type": "code",
   "execution_count": 31,
   "id": "a65b1c0e-d1f9-4a5c-860a-5d804c9f6517",
   "metadata": {},
   "outputs": [],
   "source": [
    "name = \"python programming\""
   ]
  },
  {
   "cell_type": "code",
   "execution_count": 32,
   "id": "b6195a7c-b22a-4584-8515-4dfd759749bc",
   "metadata": {},
   "outputs": [
    {
     "name": "stdout",
     "output_type": "stream",
     "text": [
      "Help on built-in function index:\n",
      "\n",
      "index(...) method of builtins.str instance\n",
      "    S.index(sub[, start[, end]]) -> int\n",
      "\n",
      "    Return the lowest index in S where substring sub is found,\n",
      "    such that sub is contained within S[start:end].  Optional\n",
      "    arguments start and end are interpreted as in slice notation.\n",
      "\n",
      "    Raises ValueError when the substring is not found.\n",
      "\n"
     ]
    }
   ],
   "source": [
    "help(name.index)"
   ]
  },
  {
   "cell_type": "code",
   "execution_count": 33,
   "id": "09e9bf26-84a6-4a30-b9e3-82f056995731",
   "metadata": {},
   "outputs": [
    {
     "data": {
      "text/plain": [
       "0"
      ]
     },
     "execution_count": 33,
     "metadata": {},
     "output_type": "execute_result"
    }
   ],
   "source": [
    "name.index(\"p\") # 0"
   ]
  },
  {
   "cell_type": "code",
   "execution_count": 34,
   "id": "c54c5b7b-f485-46fb-94dd-7f6367ccaf1c",
   "metadata": {},
   "outputs": [
    {
     "data": {
      "text/plain": [
       "['python', 'programming']"
      ]
     },
     "execution_count": 34,
     "metadata": {},
     "output_type": "execute_result"
    }
   ],
   "source": [
    "name.split() # ['python', 'programming'] ,if no arguments are given leave blank"
   ]
  },
  {
   "cell_type": "code",
   "execution_count": 35,
   "id": "c25af8f6-cf2c-4d11-8f8e-ba0d5e8a7820",
   "metadata": {},
   "outputs": [
    {
     "data": {
      "text/plain": [
       "list"
      ]
     },
     "execution_count": 35,
     "metadata": {},
     "output_type": "execute_result"
    }
   ],
   "source": [
    "type(name.split()) # list"
   ]
  },
  {
   "cell_type": "code",
   "execution_count": 36,
   "id": "6d2c485d-15d8-43ae-b5ca-0aa6071138e0",
   "metadata": {},
   "outputs": [],
   "source": [
    "# 3.Lists"
   ]
  },
  {
   "cell_type": "markdown",
   "id": "d711035f-85a4-4d89-b56a-cf800d01ff4f",
   "metadata": {},
   "source": [
    "myString= \"hello python\""
   ]
  },
  {
   "cell_type": "code",
   "execution_count": 38,
   "id": "43e170a7-6830-4868-a325-aff43cd6cabf",
   "metadata": {},
   "outputs": [
    {
     "data": {
      "text/plain": [
       "['hello', 'python']"
      ]
     },
     "execution_count": 38,
     "metadata": {},
     "output_type": "execute_result"
    }
   ],
   "source": [
    "myString.split() # ['hello', 'python']"
   ]
  },
  {
   "cell_type": "code",
   "execution_count": 39,
   "id": "c2cccb53-94ba-4154-bf15-0b0c4b284a04",
   "metadata": {},
   "outputs": [
    {
     "data": {
      "text/plain": [
       "list"
      ]
     },
     "execution_count": 39,
     "metadata": {},
     "output_type": "execute_result"
    }
   ],
   "source": [
    "type(myString.split()) # list"
   ]
  },
  {
   "cell_type": "code",
   "execution_count": 40,
   "id": "8360df95-bc16-4d4d-92b2-34cdf1c25699",
   "metadata": {},
   "outputs": [
    {
     "data": {
      "text/plain": [
       "'hello python'"
      ]
     },
     "execution_count": 40,
     "metadata": {},
     "output_type": "execute_result"
    }
   ],
   "source": [
    "myString # 'hello python'"
   ]
  },
  {
   "cell_type": "code",
   "execution_count": 41,
   "id": "267a0665-8bc8-41dc-b627-24574ee55fe4",
   "metadata": {},
   "outputs": [
    {
     "data": {
      "text/plain": [
       "'h'"
      ]
     },
     "execution_count": 41,
     "metadata": {},
     "output_type": "execute_result"
    }
   ],
   "source": [
    "myString[0] # 'h'"
   ]
  },
  {
   "cell_type": "code",
   "execution_count": 42,
   "id": "292313dc-2d4e-4177-a1bc-a03814bcac70",
   "metadata": {},
   "outputs": [],
   "source": [
    "#immutable -> myString[0] = a !Error"
   ]
  },
  {
   "cell_type": "code",
   "execution_count": 43,
   "id": "86c9e521-3a41-4887-9a7d-d31c3dd30cc6",
   "metadata": {},
   "outputs": [],
   "source": [
    "myList=[10,20,30]"
   ]
  },
  {
   "cell_type": "code",
   "execution_count": 44,
   "id": "0ac1646c-3079-4d54-b5c9-1c3b45c9571b",
   "metadata": {},
   "outputs": [
    {
     "data": {
      "text/plain": [
       "list"
      ]
     },
     "execution_count": 44,
     "metadata": {},
     "output_type": "execute_result"
    }
   ],
   "source": [
    "type(myList) # list"
   ]
  },
  {
   "cell_type": "code",
   "execution_count": 45,
   "id": "ef34234c-84c4-4cab-bb5f-31c91a6ce6a4",
   "metadata": {},
   "outputs": [],
   "source": [
    "x=10\n",
    "y=20\n",
    "z=40"
   ]
  },
  {
   "cell_type": "code",
   "execution_count": 46,
   "id": "c279aef1-bab7-4a0b-bef5-2fb90ec2adab",
   "metadata": {},
   "outputs": [],
   "source": [
    "myList=[x,y,z]"
   ]
  },
  {
   "cell_type": "code",
   "execution_count": 47,
   "id": "b6b46501-749e-4b65-a63b-23174b8d54d2",
   "metadata": {},
   "outputs": [
    {
     "data": {
      "text/plain": [
       "[10, 20, 40]"
      ]
     },
     "execution_count": 47,
     "metadata": {},
     "output_type": "execute_result"
    }
   ],
   "source": [
    "myList # [10, 20, 40]"
   ]
  },
  {
   "cell_type": "code",
   "execution_count": 48,
   "id": "bc934172-d232-4ae2-8985-527b2a8044c6",
   "metadata": {},
   "outputs": [],
   "source": [
    "myList=[10,20,30,40,50,60,70]"
   ]
  },
  {
   "cell_type": "code",
   "execution_count": 49,
   "id": "0fb99277-631f-49b2-b1f4-97b07a1a1de1",
   "metadata": {},
   "outputs": [
    {
     "data": {
      "text/plain": [
       "10"
      ]
     },
     "execution_count": 49,
     "metadata": {},
     "output_type": "execute_result"
    }
   ],
   "source": [
    "myList[0] # 10"
   ]
  },
  {
   "cell_type": "code",
   "execution_count": 50,
   "id": "a8202ee7-ddc4-4096-a727-629cd59e8579",
   "metadata": {},
   "outputs": [
    {
     "data": {
      "text/plain": [
       "list"
      ]
     },
     "execution_count": 50,
     "metadata": {},
     "output_type": "execute_result"
    }
   ],
   "source": [
    "type(myList) # list"
   ]
  },
  {
   "cell_type": "code",
   "execution_count": 51,
   "id": "54cbc462-986b-49c2-9453-5a0b5ca9931a",
   "metadata": {},
   "outputs": [
    {
     "data": {
      "text/plain": [
       "int"
      ]
     },
     "execution_count": 51,
     "metadata": {},
     "output_type": "execute_result"
    }
   ],
   "source": [
    "type(myList[0]) # int"
   ]
  },
  {
   "cell_type": "code",
   "execution_count": 52,
   "id": "7e8b2f59-06fc-486a-b730-c1e8c0a629e2",
   "metadata": {},
   "outputs": [],
   "source": [
    "myList[0] = 100"
   ]
  },
  {
   "cell_type": "code",
   "execution_count": 53,
   "id": "2032687a-6a89-4744-b2cf-564301c01d4b",
   "metadata": {},
   "outputs": [],
   "source": [
    "#mutable"
   ]
  },
  {
   "cell_type": "code",
   "execution_count": 54,
   "id": "88827df0-5148-43f2-9e62-b0b54dd2c887",
   "metadata": {},
   "outputs": [
    {
     "data": {
      "text/plain": [
       "[100, 20, 30, 40, 50, 60, 70]"
      ]
     },
     "execution_count": 54,
     "metadata": {},
     "output_type": "execute_result"
    }
   ],
   "source": [
    "myList #[100, 20, 30, 40, 50, 60, 70]"
   ]
  },
  {
   "cell_type": "code",
   "execution_count": 55,
   "id": "03fdfb6d-deab-4e37-9926-1d88f3d8755c",
   "metadata": {},
   "outputs": [
    {
     "data": {
      "text/plain": [
       "7"
      ]
     },
     "execution_count": 55,
     "metadata": {},
     "output_type": "execute_result"
    }
   ],
   "source": [
    "len(myList) #7"
   ]
  },
  {
   "cell_type": "code",
   "execution_count": 56,
   "id": "c1e55b09-7f3a-4b8a-8e8e-9f1084a367be",
   "metadata": {},
   "outputs": [
    {
     "data": {
      "text/plain": [
       "70"
      ]
     },
     "execution_count": 56,
     "metadata": {},
     "output_type": "execute_result"
    }
   ],
   "source": [
    "myList[len(myList)-1] # 70"
   ]
  },
  {
   "cell_type": "code",
   "execution_count": 57,
   "id": "ffc4ecb3-69de-4d68-bc53-0fe6c5deb5fe",
   "metadata": {},
   "outputs": [
    {
     "data": {
      "text/plain": [
       "70"
      ]
     },
     "execution_count": 57,
     "metadata": {},
     "output_type": "execute_result"
    }
   ],
   "source": [
    "myList[-1] # 70"
   ]
  },
  {
   "cell_type": "code",
   "execution_count": 58,
   "id": "3662fa71-d2dc-4c63-be11-e67ffd3f1f46",
   "metadata": {},
   "outputs": [
    {
     "data": {
      "text/plain": [
       "60"
      ]
     },
     "execution_count": 58,
     "metadata": {},
     "output_type": "execute_result"
    }
   ],
   "source": [
    "myList[-2] # 60"
   ]
  },
  {
   "cell_type": "code",
   "execution_count": 59,
   "id": "a8a53930-adff-44ea-a2c5-549c0a5fa37e",
   "metadata": {},
   "outputs": [],
   "source": [
    "myList.append(80)"
   ]
  },
  {
   "cell_type": "code",
   "execution_count": 60,
   "id": "333015cd-6e4d-4abd-a294-d9ce8a8ec224",
   "metadata": {},
   "outputs": [
    {
     "data": {
      "text/plain": [
       "[100, 20, 30, 40, 50, 60, 70, 80]"
      ]
     },
     "execution_count": 60,
     "metadata": {},
     "output_type": "execute_result"
    }
   ],
   "source": [
    "myList # [100, 20, 30, 40, 50, 60, 70, 80]"
   ]
  },
  {
   "cell_type": "code",
   "execution_count": 61,
   "id": "0ff42a62-1452-46c0-9e8a-16629ca22b7d",
   "metadata": {},
   "outputs": [],
   "source": [
    "#Append\n",
    "myList.append(1)"
   ]
  },
  {
   "cell_type": "code",
   "execution_count": 62,
   "id": "7a4b81bb-2237-4752-bd1c-f138fec72f45",
   "metadata": {},
   "outputs": [
    {
     "data": {
      "text/plain": [
       "[100, 20, 30, 40, 50, 60, 70, 80, 1]"
      ]
     },
     "execution_count": 62,
     "metadata": {},
     "output_type": "execute_result"
    }
   ],
   "source": [
    "myList  # [100, 20, 30, 40, 50, 60, 70, 80, 1]"
   ]
  },
  {
   "cell_type": "code",
   "execution_count": 63,
   "id": "3629001c-3697-4aaa-8ed2-459c4695fa62",
   "metadata": {},
   "outputs": [
    {
     "data": {
      "text/plain": [
       "9"
      ]
     },
     "execution_count": 63,
     "metadata": {},
     "output_type": "execute_result"
    }
   ],
   "source": [
    "len(myList) # 9"
   ]
  },
  {
   "cell_type": "code",
   "execution_count": 64,
   "id": "477e955c-d527-460c-ac30-af18fe685985",
   "metadata": {},
   "outputs": [
    {
     "data": {
      "text/plain": [
       "1"
      ]
     },
     "execution_count": 64,
     "metadata": {},
     "output_type": "execute_result"
    }
   ],
   "source": [
    "myList.count(20) # 1"
   ]
  },
  {
   "cell_type": "code",
   "execution_count": 65,
   "id": "357f6d41-1c0a-479b-a56a-6b28f14bae82",
   "metadata": {},
   "outputs": [
    {
     "data": {
      "text/plain": [
       "0"
      ]
     },
     "execution_count": 65,
     "metadata": {},
     "output_type": "execute_result"
    }
   ],
   "source": [
    "myList.count(25) # 0"
   ]
  },
  {
   "cell_type": "code",
   "execution_count": 66,
   "id": "d8c3c9ab-0146-4635-9231-cda14be9a7c2",
   "metadata": {},
   "outputs": [
    {
     "data": {
      "text/plain": [
       "1"
      ]
     },
     "execution_count": 66,
     "metadata": {},
     "output_type": "execute_result"
    }
   ],
   "source": [
    "myList.count(40) # 1"
   ]
  },
  {
   "cell_type": "code",
   "execution_count": 67,
   "id": "7b409ea3-eb7d-45d0-9232-945d23c368b0",
   "metadata": {},
   "outputs": [],
   "source": [
    "myList.insert(2, 35) # 2. index -> 35 added"
   ]
  },
  {
   "cell_type": "code",
   "execution_count": 68,
   "id": "ca3f2f80-91d0-4d36-bc0a-1c8800590378",
   "metadata": {},
   "outputs": [
    {
     "data": {
      "text/plain": [
       "[100, 20, 35, 30, 40, 50, 60, 70, 80, 1]"
      ]
     },
     "execution_count": 68,
     "metadata": {},
     "output_type": "execute_result"
    }
   ],
   "source": [
    "myList # [100, 20, 35, 30, 40, 50, 60, 70, 80, 1]"
   ]
  },
  {
   "cell_type": "code",
   "execution_count": 69,
   "id": "db9a1c20-d10d-4b6d-b325-29bbf9f90c15",
   "metadata": {},
   "outputs": [
    {
     "data": {
      "text/plain": [
       "1"
      ]
     },
     "execution_count": 69,
     "metadata": {},
     "output_type": "execute_result"
    }
   ],
   "source": [
    "myList.pop() # 1"
   ]
  },
  {
   "cell_type": "code",
   "execution_count": 70,
   "id": "a6500ed9-ea41-42c4-ab56-776e559c2c26",
   "metadata": {},
   "outputs": [
    {
     "data": {
      "text/plain": [
       "[100, 20, 35, 30, 40, 50, 60, 70, 80]"
      ]
     },
     "execution_count": 70,
     "metadata": {},
     "output_type": "execute_result"
    }
   ],
   "source": [
    "myList # [100, 20, 35, 30, 40, 50, 60, 70, 80]"
   ]
  },
  {
   "cell_type": "code",
   "execution_count": 71,
   "id": "a2676e55-f1dd-47f7-ac85-ae09bbad1e0f",
   "metadata": {},
   "outputs": [],
   "source": [
    "myList.remove(40)"
   ]
  },
  {
   "cell_type": "code",
   "execution_count": 72,
   "id": "46a7f502-e23d-4b4f-9bbf-1d014e7194b3",
   "metadata": {},
   "outputs": [
    {
     "data": {
      "text/plain": [
       "[100, 20, 35, 30, 50, 60, 70, 80]"
      ]
     },
     "execution_count": 72,
     "metadata": {},
     "output_type": "execute_result"
    }
   ],
   "source": [
    "myList # [100, 20, 35, 30, 50, 60, 70, 80]"
   ]
  },
  {
   "cell_type": "code",
   "execution_count": 73,
   "id": "16db46b8-db6b-44f9-b60b-2214aefa5c61",
   "metadata": {},
   "outputs": [],
   "source": [
    "myList.reverse()"
   ]
  },
  {
   "cell_type": "code",
   "execution_count": 74,
   "id": "197371bd-dc22-4fcc-bdf2-7747a30bf6e8",
   "metadata": {},
   "outputs": [
    {
     "data": {
      "text/plain": [
       "[80, 70, 60, 50, 30, 35, 20, 100]"
      ]
     },
     "execution_count": 74,
     "metadata": {},
     "output_type": "execute_result"
    }
   ],
   "source": [
    "myList # [100, 20, 30, 40, 50, 60, 70, 80]"
   ]
  },
  {
   "cell_type": "code",
   "execution_count": 75,
   "id": "b2ddd719-7cf4-42e9-bb66-83a2373d7865",
   "metadata": {},
   "outputs": [],
   "source": [
    "myList.sort()"
   ]
  },
  {
   "cell_type": "code",
   "execution_count": 76,
   "id": "4f18dd1c-52a4-47f4-98f9-7a1487386b81",
   "metadata": {},
   "outputs": [
    {
     "data": {
      "text/plain": [
       "[20, 30, 35, 50, 60, 70, 80, 100]"
      ]
     },
     "execution_count": 76,
     "metadata": {},
     "output_type": "execute_result"
    }
   ],
   "source": [
    "myList # [20, 30, 35, 50, 60, 70, 80, 100]"
   ]
  },
  {
   "cell_type": "code",
   "execution_count": 77,
   "id": "005f704d-5258-40e6-9d68-2dd7ca54bcc2",
   "metadata": {},
   "outputs": [],
   "source": [
    "# data request from user"
   ]
  },
  {
   "cell_type": "code",
   "execution_count": 78,
   "id": "a8d759a4-559b-43ca-beae-144b86662187",
   "metadata": {},
   "outputs": [
    {
     "name": "stdin",
     "output_type": "stream",
     "text": [
      "enter x: 10\n"
     ]
    }
   ],
   "source": [
    "x=input(\"enter x:\")"
   ]
  },
  {
   "cell_type": "code",
   "execution_count": 79,
   "id": "06fa2eb2-9cb7-4dc0-9f64-029712a93b3b",
   "metadata": {},
   "outputs": [
    {
     "data": {
      "text/plain": [
       "'10'"
      ]
     },
     "execution_count": 79,
     "metadata": {},
     "output_type": "execute_result"
    }
   ],
   "source": [
    "x"
   ]
  },
  {
   "cell_type": "code",
   "execution_count": 80,
   "id": "56310edd-e6ef-4592-abd1-f5686ef9c874",
   "metadata": {},
   "outputs": [
    {
     "name": "stdin",
     "output_type": "stream",
     "text": [
      "enter y: 10\n"
     ]
    }
   ],
   "source": [
    "y=input(\"enter y:\") "
   ]
  },
  {
   "cell_type": "code",
   "execution_count": 81,
   "id": "fe9db094-7321-45b3-9dac-88d829ff98de",
   "metadata": {},
   "outputs": [
    {
     "data": {
      "text/plain": [
       "'10'"
      ]
     },
     "execution_count": 81,
     "metadata": {},
     "output_type": "execute_result"
    }
   ],
   "source": [
    "y"
   ]
  },
  {
   "cell_type": "code",
   "execution_count": 82,
   "id": "ef1fe95e-3ee4-4616-9319-e52566435693",
   "metadata": {},
   "outputs": [
    {
     "name": "stdin",
     "output_type": "stream",
     "text": [
      "input z: 10\n"
     ]
    }
   ],
   "source": [
    "z= input(\"input z:\")"
   ]
  },
  {
   "cell_type": "code",
   "execution_count": 83,
   "id": "2afa90b1-ee47-417b-84d7-4852b76fcc8a",
   "metadata": {},
   "outputs": [
    {
     "data": {
      "text/plain": [
       "'10'"
      ]
     },
     "execution_count": 83,
     "metadata": {},
     "output_type": "execute_result"
    }
   ],
   "source": [
    "z"
   ]
  },
  {
   "cell_type": "code",
   "execution_count": 84,
   "id": "6f459a70-7ac6-4f63-b164-168a7efd4d58",
   "metadata": {},
   "outputs": [],
   "source": [
    "inputList=[]"
   ]
  },
  {
   "cell_type": "code",
   "execution_count": 85,
   "id": "dfd6f6a6-e26c-4e18-8b66-6897e5b8838d",
   "metadata": {},
   "outputs": [
    {
     "data": {
      "text/plain": [
       "list"
      ]
     },
     "execution_count": 85,
     "metadata": {},
     "output_type": "execute_result"
    }
   ],
   "source": [
    "type(inputList) # list"
   ]
  },
  {
   "cell_type": "code",
   "execution_count": 86,
   "id": "d0d9d5f5-ca62-4183-90b6-ca49a2ed9290",
   "metadata": {},
   "outputs": [
    {
     "data": {
      "text/plain": [
       "[]"
      ]
     },
     "execution_count": 86,
     "metadata": {},
     "output_type": "execute_result"
    }
   ],
   "source": [
    "inputList # []"
   ]
  },
  {
   "cell_type": "code",
   "execution_count": 87,
   "id": "1ccbb552-8557-4d69-bc1a-de23105cf3db",
   "metadata": {},
   "outputs": [],
   "source": [
    "inputList.append(x)\n",
    "inputList.append(y)\n",
    "inputList.append(z)"
   ]
  },
  {
   "cell_type": "code",
   "execution_count": 88,
   "id": "61a34b10-ee2f-4cf0-bf7a-18b615160880",
   "metadata": {},
   "outputs": [
    {
     "data": {
      "text/plain": [
       "['10', '10', '10']"
      ]
     },
     "execution_count": 88,
     "metadata": {},
     "output_type": "execute_result"
    }
   ],
   "source": [
    "inputList # ['10', '20', '30']"
   ]
  },
  {
   "cell_type": "code",
   "execution_count": 89,
   "id": "8b329b65-1669-4753-a39c-ba6f00e724d0",
   "metadata": {},
   "outputs": [
    {
     "data": {
      "text/plain": [
       "'10'"
      ]
     },
     "execution_count": 89,
     "metadata": {},
     "output_type": "execute_result"
    }
   ],
   "source": [
    "inputList[1] # '20'"
   ]
  },
  {
   "cell_type": "code",
   "execution_count": 90,
   "id": "7169d888-a8a9-404f-8341-04f85787cc2b",
   "metadata": {},
   "outputs": [
    {
     "data": {
      "text/plain": [
       "'1010'"
      ]
     },
     "execution_count": 90,
     "metadata": {},
     "output_type": "execute_result"
    }
   ],
   "source": [
    "inputList[1]*2 # '2020'"
   ]
  },
  {
   "cell_type": "code",
   "execution_count": 91,
   "id": "c81d9c2f-b87a-43d4-80a4-c43e90ca0a20",
   "metadata": {},
   "outputs": [
    {
     "data": {
      "text/plain": [
       "str"
      ]
     },
     "execution_count": 91,
     "metadata": {},
     "output_type": "execute_result"
    }
   ],
   "source": [
    "type(inputList[1]) #str"
   ]
  },
  {
   "cell_type": "code",
   "execution_count": 92,
   "id": "8211fd16-50b4-46cf-93d3-9bb2e3bfe0a6",
   "metadata": {},
   "outputs": [],
   "source": [
    "#Data Type Conversion"
   ]
  },
  {
   "cell_type": "code",
   "execution_count": 93,
   "id": "a45438e8-7fa9-4dd4-90ca-8ef1e05a7e8c",
   "metadata": {},
   "outputs": [],
   "source": [
    "myInteger=50"
   ]
  },
  {
   "cell_type": "code",
   "execution_count": 94,
   "id": "68628365-3cad-48ae-bd50-286198353968",
   "metadata": {},
   "outputs": [
    {
     "data": {
      "text/plain": [
       "'50'"
      ]
     },
     "execution_count": 94,
     "metadata": {},
     "output_type": "execute_result"
    }
   ],
   "source": [
    "str(myInteger) # '50'"
   ]
  },
  {
   "cell_type": "code",
   "execution_count": 95,
   "id": "e8dc1cde-15a0-47ae-9aa8-41bc40099d10",
   "metadata": {},
   "outputs": [],
   "source": [
    "myString=\"40\""
   ]
  },
  {
   "cell_type": "code",
   "execution_count": 96,
   "id": "b630479f-4368-4c33-8b92-9d0a406b4dd8",
   "metadata": {},
   "outputs": [
    {
     "data": {
      "text/plain": [
       "40"
      ]
     },
     "execution_count": 96,
     "metadata": {},
     "output_type": "execute_result"
    }
   ],
   "source": [
    "int(myString) #40"
   ]
  },
  {
   "cell_type": "code",
   "execution_count": 97,
   "id": "37ddabdf-97f2-43af-90aa-e010be277fff",
   "metadata": {},
   "outputs": [
    {
     "data": {
      "text/plain": [
       "40.0"
      ]
     },
     "execution_count": 97,
     "metadata": {},
     "output_type": "execute_result"
    }
   ],
   "source": [
    "float(myString) #40.0"
   ]
  },
  {
   "cell_type": "code",
   "execution_count": 98,
   "id": "aea5fba4-d57b-45c5-b44e-7eccdf17e3fb",
   "metadata": {},
   "outputs": [
    {
     "data": {
      "text/plain": [
       "['10', '10', '10']"
      ]
     },
     "execution_count": 98,
     "metadata": {},
     "output_type": "execute_result"
    }
   ],
   "source": [
    "inputList"
   ]
  },
  {
   "cell_type": "code",
   "execution_count": 99,
   "id": "524048b5-9a45-47be-9224-9ca90d035b45",
   "metadata": {},
   "outputs": [
    {
     "data": {
      "text/plain": [
       "20"
      ]
     },
     "execution_count": 99,
     "metadata": {},
     "output_type": "execute_result"
    }
   ],
   "source": [
    " int(inputList[1]) *2"
   ]
  },
  {
   "cell_type": "code",
   "execution_count": 100,
   "id": "319a56d8-2b89-4c3f-809c-1fc8bb004432",
   "metadata": {},
   "outputs": [
    {
     "data": {
      "text/plain": [
       "\"['10', '10', '10']\""
      ]
     },
     "execution_count": 100,
     "metadata": {},
     "output_type": "execute_result"
    }
   ],
   "source": [
    "str(inputList)"
   ]
  },
  {
   "cell_type": "code",
   "execution_count": 102,
   "id": "7d519d02-1411-4cf3-ba76-08d3ac1b946c",
   "metadata": {},
   "outputs": [
    {
     "data": {
      "text/plain": [
       "['10', '10', '10']"
      ]
     },
     "execution_count": 102,
     "metadata": {},
     "output_type": "execute_result"
    }
   ],
   "source": [
    "inputList"
   ]
  },
  {
   "cell_type": "code",
   "execution_count": 103,
   "id": "198c6cac-e411-4eeb-9f5c-771af52cb609",
   "metadata": {},
   "outputs": [],
   "source": [
    "nameList=[\"atil\", \"atlas\", \"a\", \"b\"]"
   ]
  },
  {
   "cell_type": "code",
   "execution_count": 104,
   "id": "7aab9d4b-43ca-4ff5-be7d-3b4eaa2f43f0",
   "metadata": {},
   "outputs": [
    {
     "data": {
      "text/plain": [
       "list"
      ]
     },
     "execution_count": 104,
     "metadata": {},
     "output_type": "execute_result"
    }
   ],
   "source": [
    "type(nameList) # list"
   ]
  },
  {
   "cell_type": "code",
   "execution_count": 105,
   "id": "a59fee95-13df-4458-bdbe-1faf952c9a5d",
   "metadata": {},
   "outputs": [],
   "source": [
    "floatList=[3.14, 2.5, 10.2, 100.123]"
   ]
  },
  {
   "cell_type": "code",
   "execution_count": 106,
   "id": "8a53bead-0f92-4c91-b462-7415b7023983",
   "metadata": {},
   "outputs": [
    {
     "data": {
      "text/plain": [
       "list"
      ]
     },
     "execution_count": 106,
     "metadata": {},
     "output_type": "execute_result"
    }
   ],
   "source": [
    "type(floatList) # list"
   ]
  },
  {
   "cell_type": "code",
   "execution_count": 107,
   "id": "479bb241-f3b3-4e0e-a9e1-cc7fd737eef5",
   "metadata": {},
   "outputs": [],
   "source": [
    "mixedList=[\"atil\", 100,3, 3.14]"
   ]
  },
  {
   "cell_type": "code",
   "execution_count": 108,
   "id": "263b83ba-e731-42a5-a431-bc5bb0b8d75d",
   "metadata": {},
   "outputs": [
    {
     "data": {
      "text/plain": [
       "list"
      ]
     },
     "execution_count": 108,
     "metadata": {},
     "output_type": "execute_result"
    }
   ],
   "source": [
    "type(mixedList)"
   ]
  },
  {
   "cell_type": "code",
   "execution_count": 109,
   "id": "f2395e3b-4db6-45ab-913f-a82f23791bf1",
   "metadata": {},
   "outputs": [],
   "source": [
    "list1=[10,20,30]\n",
    "list2=[40,50,60]"
   ]
  },
  {
   "cell_type": "code",
   "execution_count": 110,
   "id": "dcf602df-9715-4c5a-a6ac-278e4219ca1f",
   "metadata": {},
   "outputs": [
    {
     "data": {
      "text/plain": [
       "[10, 20, 30, 40, 50, 60]"
      ]
     },
     "execution_count": 110,
     "metadata": {},
     "output_type": "execute_result"
    }
   ],
   "source": [
    "list1+list2"
   ]
  },
  {
   "cell_type": "code",
   "execution_count": 111,
   "id": "75a0ea4e-3ed2-4b54-90f6-e4b4a641d6ba",
   "metadata": {},
   "outputs": [
    {
     "data": {
      "text/plain": [
       "[10, 20, 30, 10, 20, 30]"
      ]
     },
     "execution_count": 111,
     "metadata": {},
     "output_type": "execute_result"
    }
   ],
   "source": [
    "list1*2 #[10, 20, 30, 10, 20, 30]\n"
   ]
  },
  {
   "cell_type": "code",
   "execution_count": 112,
   "id": "0cd5e1f3-76ff-4f6b-a989-7fb9d72fbf70",
   "metadata": {},
   "outputs": [
    {
     "data": {
      "text/plain": [
       "['atil', 100, 3, 3.14]"
      ]
     },
     "execution_count": 112,
     "metadata": {},
     "output_type": "execute_result"
    }
   ],
   "source": [
    "mixedList"
   ]
  },
  {
   "cell_type": "code",
   "execution_count": 113,
   "id": "dff5edd9-b68a-462a-b113-0c43ce4a2966",
   "metadata": {},
   "outputs": [
    {
     "data": {
      "text/plain": [
       "int"
      ]
     },
     "execution_count": 113,
     "metadata": {},
     "output_type": "execute_result"
    }
   ],
   "source": [
    "type(mixedList[1])"
   ]
  },
  {
   "cell_type": "code",
   "execution_count": 114,
   "id": "4bcc878a-380c-4641-b96a-7b171c6530b1",
   "metadata": {},
   "outputs": [
    {
     "data": {
      "text/plain": [
       "str"
      ]
     },
     "execution_count": 114,
     "metadata": {},
     "output_type": "execute_result"
    }
   ],
   "source": [
    "type(mixedList[0])"
   ]
  },
  {
   "cell_type": "code",
   "execution_count": 115,
   "id": "6b1e67e1-f0b0-422f-829e-29682aa776de",
   "metadata": {},
   "outputs": [
    {
     "data": {
      "text/plain": [
       "int"
      ]
     },
     "execution_count": 115,
     "metadata": {},
     "output_type": "execute_result"
    }
   ],
   "source": [
    "type(mixedList[2])"
   ]
  },
  {
   "cell_type": "code",
   "execution_count": 116,
   "id": "4563d800-4f76-444a-95d0-6bd1a59b04b4",
   "metadata": {},
   "outputs": [],
   "source": [
    "#nestedList"
   ]
  },
  {
   "cell_type": "code",
   "execution_count": 117,
   "id": "3fa7e04b-2edd-4fe8-bb2d-6e7165e2125c",
   "metadata": {},
   "outputs": [],
   "source": [
    "myNestedList=[10,20,3.14, \"ali\",[1,2,3]]"
   ]
  },
  {
   "cell_type": "code",
   "execution_count": 118,
   "id": "3dd366a4-2c19-4799-ac8c-58b20a2e3016",
   "metadata": {},
   "outputs": [
    {
     "data": {
      "text/plain": [
       "10"
      ]
     },
     "execution_count": 118,
     "metadata": {},
     "output_type": "execute_result"
    }
   ],
   "source": [
    "myNestedList[0] # 10"
   ]
  },
  {
   "cell_type": "code",
   "execution_count": 119,
   "id": "82ac4f6b-3e6c-4ebc-93af-5d6627c27f95",
   "metadata": {},
   "outputs": [
    {
     "data": {
      "text/plain": [
       "20"
      ]
     },
     "execution_count": 119,
     "metadata": {},
     "output_type": "execute_result"
    }
   ],
   "source": [
    "myNestedList[1] # 20"
   ]
  },
  {
   "cell_type": "code",
   "execution_count": 120,
   "id": "b7adb0ea-c46f-405d-b49c-8a0d46a7e2d9",
   "metadata": {},
   "outputs": [
    {
     "data": {
      "text/plain": [
       "3.14"
      ]
     },
     "execution_count": 120,
     "metadata": {},
     "output_type": "execute_result"
    }
   ],
   "source": [
    "myNestedList[2] # 3.14"
   ]
  },
  {
   "cell_type": "code",
   "execution_count": 121,
   "id": "6274c9b5-9a34-4253-a828-56977e94a6bd",
   "metadata": {},
   "outputs": [
    {
     "data": {
      "text/plain": [
       "'ali'"
      ]
     },
     "execution_count": 121,
     "metadata": {},
     "output_type": "execute_result"
    }
   ],
   "source": [
    "myNestedList[3] # 'ali'"
   ]
  },
  {
   "cell_type": "code",
   "execution_count": 122,
   "id": "2ae7e574-b1d2-491c-9f87-6a3ea226b680",
   "metadata": {},
   "outputs": [
    {
     "data": {
      "text/plain": [
       "[1, 2, 3]"
      ]
     },
     "execution_count": 122,
     "metadata": {},
     "output_type": "execute_result"
    }
   ],
   "source": [
    "myNestedList[4] # [1, 2, 3]"
   ]
  },
  {
   "cell_type": "code",
   "execution_count": 123,
   "id": "d96adcd2-6264-4836-8228-5771d6d2c205",
   "metadata": {},
   "outputs": [],
   "source": [
    "x=myNestedList[4]"
   ]
  },
  {
   "cell_type": "code",
   "execution_count": 124,
   "id": "648c82b6-02a8-42e3-9a23-4b78e915e9dc",
   "metadata": {},
   "outputs": [
    {
     "data": {
      "text/plain": [
       "[1, 2, 3]"
      ]
     },
     "execution_count": 124,
     "metadata": {},
     "output_type": "execute_result"
    }
   ],
   "source": [
    "x # [1, 2, 3]"
   ]
  },
  {
   "cell_type": "code",
   "execution_count": 125,
   "id": "ee154f4c-64e8-474d-b27b-b427c56cdd56",
   "metadata": {},
   "outputs": [],
   "source": [
    "smallList=myNestedList[4]"
   ]
  },
  {
   "cell_type": "code",
   "execution_count": 126,
   "id": "42f8b125-cf54-49d3-a631-326cf9ba5af9",
   "metadata": {},
   "outputs": [
    {
     "data": {
      "text/plain": [
       "[1, 2, 3]"
      ]
     },
     "execution_count": 126,
     "metadata": {},
     "output_type": "execute_result"
    }
   ],
   "source": [
    "smallList # [1, 2, 3]"
   ]
  },
  {
   "cell_type": "code",
   "execution_count": 127,
   "id": "60f41eef-aa6e-49f8-99b1-cb928efa802a",
   "metadata": {},
   "outputs": [
    {
     "data": {
      "text/plain": [
       "list"
      ]
     },
     "execution_count": 127,
     "metadata": {},
     "output_type": "execute_result"
    }
   ],
   "source": [
    "type(smallList) # list"
   ]
  },
  {
   "cell_type": "code",
   "execution_count": 128,
   "id": "2fa56e05-a27d-406d-89c9-5be03cde0533",
   "metadata": {},
   "outputs": [
    {
     "data": {
      "text/plain": [
       "[10, 20, 3.14, 'ali', [1, 2, 3]]"
      ]
     },
     "execution_count": 128,
     "metadata": {},
     "output_type": "execute_result"
    }
   ],
   "source": [
    "myNestedList # [10, 20, 3.14, 'ali', [1, 2, 3]]"
   ]
  },
  {
   "cell_type": "code",
   "execution_count": 130,
   "id": "ee963baf-9d55-4677-8d97-ca218b07e6dc",
   "metadata": {},
   "outputs": [
    {
     "data": {
      "text/plain": [
       "[1, 2, 3]"
      ]
     },
     "execution_count": 130,
     "metadata": {},
     "output_type": "execute_result"
    }
   ],
   "source": [
    "myNestedList[4] # [1, 2, 3]"
   ]
  },
  {
   "cell_type": "code",
   "execution_count": 132,
   "id": "fb95b905-981b-4265-ad16-90b8eec6a882",
   "metadata": {},
   "outputs": [],
   "source": [
    "smallList=myNestedList[-1]"
   ]
  },
  {
   "cell_type": "code",
   "execution_count": 133,
   "id": "fd5bb216-6dec-46b4-9f27-13e379e3e14c",
   "metadata": {},
   "outputs": [
    {
     "data": {
      "text/plain": [
       "2"
      ]
     },
     "execution_count": 133,
     "metadata": {},
     "output_type": "execute_result"
    }
   ],
   "source": [
    "smallList[1] # 2"
   ]
  },
  {
   "cell_type": "code",
   "execution_count": 134,
   "id": "4c3b0379-0dbf-409f-a99e-abbb4eb0eb61",
   "metadata": {},
   "outputs": [
    {
     "data": {
      "text/plain": [
       "3"
      ]
     },
     "execution_count": 134,
     "metadata": {},
     "output_type": "execute_result"
    }
   ],
   "source": [
    "myNestedList[4][2] # 3"
   ]
  },
  {
   "cell_type": "code",
   "execution_count": 135,
   "id": "b2c08000-49e1-42d5-84e8-9f0bfa7225f4",
   "metadata": {},
   "outputs": [],
   "source": [
    "lastList=[\"a\", \"b\",[\"c\", \"d\",\"e\"],\"f\"]"
   ]
  },
  {
   "cell_type": "code",
   "execution_count": 136,
   "id": "6f141238-d5fb-4a93-8adb-6b6b3b568b31",
   "metadata": {},
   "outputs": [
    {
     "data": {
      "text/plain": [
       "4"
      ]
     },
     "execution_count": 136,
     "metadata": {},
     "output_type": "execute_result"
    }
   ],
   "source": [
    "len(lastList) # 4"
   ]
  },
  {
   "cell_type": "code",
   "execution_count": 137,
   "id": "73cb3c3e-6ef9-441e-bfb1-9da0c7ee3622",
   "metadata": {},
   "outputs": [
    {
     "data": {
      "text/plain": [
       "'b'"
      ]
     },
     "execution_count": 137,
     "metadata": {},
     "output_type": "execute_result"
    }
   ],
   "source": [
    "lastList[1] # 'b'"
   ]
  },
  {
   "cell_type": "code",
   "execution_count": 138,
   "id": "587551e2-b112-4d38-b75d-2d07de192157",
   "metadata": {},
   "outputs": [
    {
     "data": {
      "text/plain": [
       "['c', 'd', 'e']"
      ]
     },
     "execution_count": 138,
     "metadata": {},
     "output_type": "execute_result"
    }
   ],
   "source": [
    "lastList[2] # ['c', 'd', 'e']"
   ]
  },
  {
   "cell_type": "code",
   "execution_count": 139,
   "id": "9c039304-b5fd-40eb-bb71-743cc182eb0e",
   "metadata": {},
   "outputs": [
    {
     "data": {
      "text/plain": [
       "'d'"
      ]
     },
     "execution_count": 139,
     "metadata": {},
     "output_type": "execute_result"
    }
   ],
   "source": [
    "lastList[2][1] # 'd'"
   ]
  },
  {
   "cell_type": "code",
   "execution_count": 140,
   "id": "0df5f3fb-bcf4-4229-898f-2dfa0752479c",
   "metadata": {},
   "outputs": [],
   "source": [
    "firstList = [10,20,30,40,50,60,70]"
   ]
  },
  {
   "cell_type": "code",
   "execution_count": 141,
   "id": "23d8298c-0ec4-4052-ab74-91d69847bc4d",
   "metadata": {},
   "outputs": [
    {
     "data": {
      "text/plain": [
       "[10, 20, 30, 40, 50, 60, 70]"
      ]
     },
     "execution_count": 141,
     "metadata": {},
     "output_type": "execute_result"
    }
   ],
   "source": [
    "firstList[::] # ['c', 'd', 'e']"
   ]
  },
  {
   "cell_type": "code",
   "execution_count": 142,
   "id": "90d0b5d0-d28e-49b6-8eab-7d628177835d",
   "metadata": {},
   "outputs": [
    {
     "data": {
      "text/plain": [
       "[30, 40, 50, 60, 70]"
      ]
     },
     "execution_count": 142,
     "metadata": {},
     "output_type": "execute_result"
    }
   ],
   "source": [
    "firstList[2::] # [30, 40, 50, 60, 70]"
   ]
  },
  {
   "cell_type": "code",
   "execution_count": 143,
   "id": "82eae367-7357-436f-a4f1-22b7b60df223",
   "metadata": {},
   "outputs": [
    {
     "data": {
      "text/plain": [
       "[10, 20, 30, 40, 50]"
      ]
     },
     "execution_count": 143,
     "metadata": {},
     "output_type": "execute_result"
    }
   ],
   "source": [
    "firstList[:5:] # [10, 20, 30, 40, 50]"
   ]
  },
  {
   "cell_type": "code",
   "execution_count": 144,
   "id": "b2c8d85d-3d15-4bf9-8c61-91f6d493cf82",
   "metadata": {},
   "outputs": [
    {
     "data": {
      "text/plain": [
       "[10, 30, 50, 70]"
      ]
     },
     "execution_count": 144,
     "metadata": {},
     "output_type": "execute_result"
    }
   ],
   "source": [
    "firstList[::2] # [10, 30, 50, 70]"
   ]
  },
  {
   "cell_type": "code",
   "execution_count": 145,
   "id": "63a32569-553a-407d-81ed-a7e9984999f3",
   "metadata": {},
   "outputs": [
    {
     "data": {
      "text/plain": [
       "[20, 40, 60]"
      ]
     },
     "execution_count": 145,
     "metadata": {},
     "output_type": "execute_result"
    }
   ],
   "source": [
    "firstList[1:6:2] # [20, 40, 60]"
   ]
  },
  {
   "cell_type": "code",
   "execution_count": null,
   "id": "5ea0057d-c931-4751-9bac-9cbe2fce18a9",
   "metadata": {},
   "outputs": [],
   "source": []
  }
 ],
 "metadata": {
  "kernelspec": {
   "display_name": "Python [conda env:base] *",
   "language": "python",
   "name": "conda-base-py"
  },
  "language_info": {
   "codemirror_mode": {
    "name": "ipython",
    "version": 3
   },
   "file_extension": ".py",
   "mimetype": "text/x-python",
   "name": "python",
   "nbconvert_exporter": "python",
   "pygments_lexer": "ipython3",
   "version": "3.12.7"
  }
 },
 "nbformat": 4,
 "nbformat_minor": 5
}
