{
 "cells": [
  {
   "cell_type": "code",
   "execution_count": 1,
   "id": "361cb459-b826-4bc8-a29a-dbfc30623d3b",
   "metadata": {},
   "outputs": [],
   "source": [
    "# if controls"
   ]
  },
  {
   "cell_type": "code",
   "execution_count": 2,
   "id": "9815d4a0-5d5e-45a8-98b8-f3f03068e2a5",
   "metadata": {},
   "outputs": [],
   "source": [
    "x=5\n",
    "y=2"
   ]
  },
  {
   "cell_type": "code",
   "execution_count": 3,
   "id": "f6912c95-9e81-4660-ad93-f25660f15003",
   "metadata": {},
   "outputs": [
    {
     "data": {
      "text/plain": [
       "True"
      ]
     },
     "execution_count": 3,
     "metadata": {},
     "output_type": "execute_result"
    }
   ],
   "source": [
    "x>y # True"
   ]
  },
  {
   "cell_type": "code",
   "execution_count": 4,
   "id": "629d20c1-0c95-4e87-a1a7-3eed3d4fa447",
   "metadata": {},
   "outputs": [
    {
     "data": {
      "text/plain": [
       "False"
      ]
     },
     "execution_count": 4,
     "metadata": {},
     "output_type": "execute_result"
    }
   ],
   "source": [
    "x<y # False"
   ]
  },
  {
   "cell_type": "code",
   "execution_count": 5,
   "id": "a2b0cd24-6f10-48a8-8ff3-669b0cd3ce1e",
   "metadata": {},
   "outputs": [],
   "source": [
    "y=5"
   ]
  },
  {
   "cell_type": "code",
   "execution_count": 6,
   "id": "199d9622-0fb4-4c50-9d3b-1ebd8cc09368",
   "metadata": {},
   "outputs": [
    {
     "data": {
      "text/plain": [
       "True"
      ]
     },
     "execution_count": 6,
     "metadata": {},
     "output_type": "execute_result"
    }
   ],
   "source": [
    "x>=5 # True"
   ]
  },
  {
   "cell_type": "code",
   "execution_count": 7,
   "id": "a9c13bd4-38b5-413a-bcf5-805c298757a3",
   "metadata": {},
   "outputs": [
    {
     "data": {
      "text/plain": [
       "True"
      ]
     },
     "execution_count": 7,
     "metadata": {},
     "output_type": "execute_result"
    }
   ],
   "source": [
    "x<=5 # True"
   ]
  },
  {
   "cell_type": "code",
   "execution_count": 8,
   "id": "3464b532-5f0c-4196-8364-1e3126c3c360",
   "metadata": {},
   "outputs": [
    {
     "data": {
      "text/plain": [
       "True"
      ]
     },
     "execution_count": 8,
     "metadata": {},
     "output_type": "execute_result"
    }
   ],
   "source": [
    "x>=5.0 # True"
   ]
  },
  {
   "cell_type": "code",
   "execution_count": 9,
   "id": "428ab4b4-fe3b-4a0d-a3ca-4b3081717a30",
   "metadata": {},
   "outputs": [
    {
     "data": {
      "text/plain": [
       "False"
      ]
     },
     "execution_count": 9,
     "metadata": {},
     "output_type": "execute_result"
    }
   ],
   "source": [
    "x>=5.001 # False"
   ]
  },
  {
   "cell_type": "code",
   "execution_count": 10,
   "id": "9161c3f9-24f2-441d-a3b9-0c09be0a4338",
   "metadata": {},
   "outputs": [],
   "source": [
    "x=10\n",
    "y=8"
   ]
  },
  {
   "cell_type": "code",
   "execution_count": 11,
   "id": "5a053747-cde9-4dc8-851b-f56c3bef4596",
   "metadata": {},
   "outputs": [],
   "source": [
    "x=y"
   ]
  },
  {
   "cell_type": "code",
   "execution_count": 12,
   "id": "59f4dc35-f114-407c-a8a6-289096f3e6b3",
   "metadata": {},
   "outputs": [],
   "source": [
    "x=10"
   ]
  },
  {
   "cell_type": "code",
   "execution_count": 13,
   "id": "c961999b-8e2e-4981-b326-a58a7669b1a6",
   "metadata": {},
   "outputs": [
    {
     "data": {
      "text/plain": [
       "False"
      ]
     },
     "execution_count": 13,
     "metadata": {},
     "output_type": "execute_result"
    }
   ],
   "source": [
    "x==y # False"
   ]
  },
  {
   "cell_type": "code",
   "execution_count": 14,
   "id": "7745567f-2e71-4766-9f52-f01f415ee534",
   "metadata": {},
   "outputs": [
    {
     "data": {
      "text/plain": [
       "True"
      ]
     },
     "execution_count": 14,
     "metadata": {},
     "output_type": "execute_result"
    }
   ],
   "source": [
    "x!=y # True"
   ]
  },
  {
   "cell_type": "code",
   "execution_count": 15,
   "id": "512d8d7d-61f2-411c-aa69-da17527821d5",
   "metadata": {},
   "outputs": [
    {
     "data": {
      "text/plain": [
       "True"
      ]
     },
     "execution_count": 15,
     "metadata": {},
     "output_type": "execute_result"
    }
   ],
   "source": [
    "2>1 and 3>2 # True"
   ]
  },
  {
   "cell_type": "code",
   "execution_count": 16,
   "id": "b2caed95-80f8-4552-96ca-a047d16bffc2",
   "metadata": {},
   "outputs": [
    {
     "data": {
      "text/plain": [
       "False"
      ]
     },
     "execution_count": 16,
     "metadata": {},
     "output_type": "execute_result"
    }
   ],
   "source": [
    "2>1 and 3<2 # False"
   ]
  },
  {
   "cell_type": "code",
   "execution_count": 17,
   "id": "db8bcd9d-56e0-458e-8875-0100eb034110",
   "metadata": {},
   "outputs": [
    {
     "data": {
      "text/plain": [
       "True"
      ]
     },
     "execution_count": 17,
     "metadata": {},
     "output_type": "execute_result"
    }
   ],
   "source": [
    "True and True # True"
   ]
  },
  {
   "cell_type": "code",
   "execution_count": 18,
   "id": "206202b7-0a2f-45c5-8a36-6789295ea1cd",
   "metadata": {},
   "outputs": [
    {
     "data": {
      "text/plain": [
       "False"
      ]
     },
     "execution_count": 18,
     "metadata": {},
     "output_type": "execute_result"
    }
   ],
   "source": [
    "True and False # False"
   ]
  },
  {
   "cell_type": "code",
   "execution_count": 19,
   "id": "88d3c63f-eb6e-4abd-a0c7-e1a119f02bee",
   "metadata": {},
   "outputs": [
    {
     "data": {
      "text/plain": [
       "False"
      ]
     },
     "execution_count": 19,
     "metadata": {},
     "output_type": "execute_result"
    }
   ],
   "source": [
    "False and True # False"
   ]
  },
  {
   "cell_type": "code",
   "execution_count": 20,
   "id": "763a3b0e-511d-4d9e-9fae-cc391816db5e",
   "metadata": {},
   "outputs": [
    {
     "data": {
      "text/plain": [
       "False"
      ]
     },
     "execution_count": 20,
     "metadata": {},
     "output_type": "execute_result"
    }
   ],
   "source": [
    "False and False  # False"
   ]
  },
  {
   "cell_type": "code",
   "execution_count": 21,
   "id": "c0e3a862-6733-4f05-bb8e-909401b5dfc8",
   "metadata": {},
   "outputs": [
    {
     "data": {
      "text/plain": [
       "True"
      ]
     },
     "execution_count": 21,
     "metadata": {},
     "output_type": "execute_result"
    }
   ],
   "source": [
    "2>1 or 3<2 # True"
   ]
  },
  {
   "cell_type": "code",
   "execution_count": 22,
   "id": "5dffaab0-4674-44c8-806e-e5771e832c00",
   "metadata": {},
   "outputs": [
    {
     "data": {
      "text/plain": [
       "False"
      ]
     },
     "execution_count": 22,
     "metadata": {},
     "output_type": "execute_result"
    }
   ],
   "source": [
    "1>2 or 3<2 # False"
   ]
  },
  {
   "cell_type": "code",
   "execution_count": 23,
   "id": "f7e09c8f-4206-49bf-af9f-47d4c6ee07d7",
   "metadata": {},
   "outputs": [
    {
     "data": {
      "text/plain": [
       "False"
      ]
     },
     "execution_count": 23,
     "metadata": {},
     "output_type": "execute_result"
    }
   ],
   "source": [
    "not 1==1 # False"
   ]
  },
  {
   "cell_type": "code",
   "execution_count": 24,
   "id": "4d945b97-bafc-48d4-9054-b1d5d6fd38b7",
   "metadata": {},
   "outputs": [
    {
     "data": {
      "text/plain": [
       "True"
      ]
     },
     "execution_count": 24,
     "metadata": {},
     "output_type": "execute_result"
    }
   ],
   "source": [
    "10 in [10,20,30] # True"
   ]
  },
  {
   "cell_type": "code",
   "execution_count": 25,
   "id": "ab347ba2-0a6a-44d4-b741-04254a1b978b",
   "metadata": {},
   "outputs": [
    {
     "data": {
      "text/plain": [
       "True"
      ]
     },
     "execution_count": 25,
     "metadata": {},
     "output_type": "execute_result"
    }
   ],
   "source": [
    "5 not in [10,20,30] # True"
   ]
  },
  {
   "cell_type": "code",
   "execution_count": 26,
   "id": "430e358c-f4a0-4819-a62e-c7cc0a44040a",
   "metadata": {},
   "outputs": [
    {
     "data": {
      "text/plain": [
       "True"
      ]
     },
     "execution_count": 26,
     "metadata": {},
     "output_type": "execute_result"
    }
   ],
   "source": [
    "10 in {10,20,30} # True"
   ]
  },
  {
   "cell_type": "code",
   "execution_count": 27,
   "id": "db1d04af-74aa-4673-a413-807fdfd5b694",
   "metadata": {},
   "outputs": [],
   "source": [
    "my_dictionary = {\"a\":10,\"b\":20, \"c\":30}"
   ]
  },
  {
   "cell_type": "code",
   "execution_count": 28,
   "id": "73b50d01-79f9-4e91-b170-de172b69bf13",
   "metadata": {},
   "outputs": [
    {
     "data": {
      "text/plain": [
       "True"
      ]
     },
     "execution_count": 28,
     "metadata": {},
     "output_type": "execute_result"
    }
   ],
   "source": [
    "10 in my_dictionary.values() # True"
   ]
  },
  {
   "cell_type": "code",
   "execution_count": 29,
   "id": "02416bd3-75ae-4ffc-8624-58234ac9f414",
   "metadata": {},
   "outputs": [
    {
     "data": {
      "text/plain": [
       "False"
      ]
     },
     "execution_count": 29,
     "metadata": {},
     "output_type": "execute_result"
    }
   ],
   "source": [
    "10 in my_dictionary.keys() # False"
   ]
  },
  {
   "cell_type": "code",
   "execution_count": 30,
   "id": "832e7a5f-5320-47ca-a222-e4c4a46d7d6e",
   "metadata": {},
   "outputs": [
    {
     "data": {
      "text/plain": [
       "True"
      ]
     },
     "execution_count": 30,
     "metadata": {},
     "output_type": "execute_result"
    }
   ],
   "source": [
    "10 in (10,20,30) # True"
   ]
  },
  {
   "cell_type": "code",
   "execution_count": 31,
   "id": "47b929a0-732b-4e12-9111-ff70311d0303",
   "metadata": {},
   "outputs": [],
   "source": [
    "my_superhero=\"Batman\""
   ]
  },
  {
   "cell_type": "code",
   "execution_count": 32,
   "id": "8f270f94-52b4-46d2-8fd4-507c27d1a86a",
   "metadata": {},
   "outputs": [
    {
     "data": {
      "text/plain": [
       "True"
      ]
     },
     "execution_count": 32,
     "metadata": {},
     "output_type": "execute_result"
    }
   ],
   "source": [
    "my_superhero==\"Batman\" # True"
   ]
  },
  {
   "cell_type": "code",
   "execution_count": 33,
   "id": "b9c6210b-2219-4f36-94f0-64bcddb8b5b2",
   "metadata": {},
   "outputs": [
    {
     "data": {
      "text/plain": [
       "False"
      ]
     },
     "execution_count": 33,
     "metadata": {},
     "output_type": "execute_result"
    }
   ],
   "source": [
    "my_superhero==\"Superman\" # False"
   ]
  },
  {
   "cell_type": "code",
   "execution_count": 34,
   "id": "18d0e2fb-5d59-4a02-b175-072c8780309c",
   "metadata": {},
   "outputs": [
    {
     "name": "stdout",
     "output_type": "stream",
     "text": [
      "Batmannn\n",
      "if controls\n",
      "hello python\n"
     ]
    }
   ],
   "source": [
    "if my_superhero==\"Batman\":\n",
    "    print(\"Batmannn\")\n",
    "    print(\"if controls\")\n",
    "print(\"hello python\")\n",
    "\n",
    "# Batmannn\n",
    "# if controls\n",
    "# hello python"
   ]
  },
  {
   "cell_type": "code",
   "execution_count": 35,
   "id": "cd356e9c-ee90-4195-a933-f20581e1b3d1",
   "metadata": {},
   "outputs": [
    {
     "name": "stdout",
     "output_type": "stream",
     "text": [
      "hello python\n"
     ]
    }
   ],
   "source": [
    "if my_superhero==\"Superman\":\n",
    "    print(\"Batmannn\")\n",
    "    print(\"if controls\")\n",
    "print(\"hello python\")\n",
    "\n",
    "#hello python"
   ]
  },
  {
   "cell_type": "code",
   "execution_count": 36,
   "id": "0ff0c507-9995-46a6-af59-a7e7c57b3c8d",
   "metadata": {},
   "outputs": [
    {
     "name": "stdout",
     "output_type": "stream",
     "text": [
      "hello world\n"
     ]
    }
   ],
   "source": [
    "if 3>2:\n",
    "    print(\"hello world\")\n",
    "\n",
    "# hello world"
   ]
  },
  {
   "cell_type": "code",
   "execution_count": 37,
   "id": "4e22f30d-fc80-4c08-ba7a-2440445bb37e",
   "metadata": {},
   "outputs": [],
   "source": [
    "if 3>4:\n",
    "    print(\"hello world\")"
   ]
  },
  {
   "cell_type": "code",
   "execution_count": 38,
   "id": "68e5a18f-68e7-452e-a7b1-4f1f1eba0284",
   "metadata": {},
   "outputs": [
    {
     "name": "stdin",
     "output_type": "stream",
     "text": [
      "enter superhero:  Superman\n"
     ]
    }
   ],
   "source": [
    "my_superhero=input(\"enter superhero: \") # enter superhero:  Superman"
   ]
  },
  {
   "cell_type": "code",
   "execution_count": 39,
   "id": "64379336-0257-4c92-8ff2-714ef10f561b",
   "metadata": {},
   "outputs": [
    {
     "name": "stdout",
     "output_type": "stream",
     "text": [
      "Superman\n"
     ]
    }
   ],
   "source": [
    "if my_superhero==\"Superman\":\n",
    "    print(\"Superman\")\n",
    "elif my_superhero==\"Batman\":\n",
    "    print(\"Batman\")\n",
    "elif my_superhero==\"Aqueman\":\n",
    "    print(\"Aqueman\")\n",
    "elif my_superhero==\"Ironman\":\n",
    "    print(\"İronman\")\n",
    "else:\n",
    "    print(\":(\")"
   ]
  },
  {
   "cell_type": "code",
   "execution_count": 40,
   "id": "e196637f-f759-4961-bb78-498ba32c6727",
   "metadata": {},
   "outputs": [],
   "source": [
    "my_age=18"
   ]
  },
  {
   "cell_type": "code",
   "execution_count": 41,
   "id": "bf5e6671-5ed9-47fc-8c79-728317aa04ef",
   "metadata": {},
   "outputs": [
    {
     "name": "stdout",
     "output_type": "stream",
     "text": [
      "my_age<=18\n"
     ]
    }
   ],
   "source": [
    "if my_age<=18:\n",
    "    print(\"my_age<=18\")\n",
    "elif my_age>18 and my_age<=30:\n",
    "    print(\"18 - age - 30\")\n",
    "elif my_age>30 and my_age<=40:\n",
    "   print(\"30 - age - 40\")\n",
    "else:\n",
    "    print(\"age>40\")\n",
    "\n",
    "# my_age<=18"
   ]
  },
  {
   "cell_type": "code",
   "execution_count": 90,
   "id": "cda0ed71-fdff-49c7-8937-eabd413c0c2a",
   "metadata": {},
   "outputs": [
    {
     "name": "stdin",
     "output_type": "stream",
     "text": [
      "enter superhero:  Superman\n"
     ]
    }
   ],
   "source": [
    "my_superhero=input(\"enter superhero: \") # enter superhero:  Superman"
   ]
  },
  {
   "cell_type": "code",
   "execution_count": 43,
   "id": "fc10a0b5-9b15-4b72-b979-bb99602d7aac",
   "metadata": {},
   "outputs": [],
   "source": [
    "my_superhero_list=[\"Spider man\", \"Iron man\", \"Thor\", \"Black Widow\"]"
   ]
  },
  {
   "cell_type": "code",
   "execution_count": 44,
   "id": "4fc2e204-0192-4528-9c65-f4c50e369e58",
   "metadata": {},
   "outputs": [
    {
     "name": "stdout",
     "output_type": "stream",
     "text": [
      ":(\n"
     ]
    }
   ],
   "source": [
    "if my_superhero in  my_superhero_list:\n",
    "    print(\":)\")\n",
    "else:\n",
    "    print(\":(\")\n",
    "\n",
    "# :("
   ]
  },
  {
   "cell_type": "code",
   "execution_count": null,
   "id": "8411ef6f-3af1-4b28-ac1f-65a7068b7bff",
   "metadata": {},
   "outputs": [],
   "source": []
  }
 ],
 "metadata": {
  "kernelspec": {
   "display_name": "Python [conda env:base] *",
   "language": "python",
   "name": "conda-base-py"
  },
  "language_info": {
   "codemirror_mode": {
    "name": "ipython",
    "version": 3
   },
   "file_extension": ".py",
   "mimetype": "text/x-python",
   "name": "python",
   "nbconvert_exporter": "python",
   "pygments_lexer": "ipython3",
   "version": "3.12.7"
  }
 },
 "nbformat": 4,
 "nbformat_minor": 5
}
