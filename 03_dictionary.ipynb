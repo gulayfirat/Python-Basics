{
 "cells": [
  {
   "cell_type": "code",
   "execution_count": null,
   "id": "ca86fec7-f91a-4f2a-9d80-3173073808b4",
   "metadata": {},
   "outputs": [],
   "source": [
    "#key-value"
   ]
  },
  {
   "cell_type": "code",
   "execution_count": 2,
   "id": "3f7dbcc7-cc07-4ec6-b7ca-9670d70875f5",
   "metadata": {},
   "outputs": [],
   "source": [
    "fitness_dictinary={\"banana\":100,\"apple\":150}"
   ]
  },
  {
   "cell_type": "code",
   "execution_count": 4,
   "id": "a1d1497b-08b1-406b-b58e-69b3b3025582",
   "metadata": {},
   "outputs": [
    {
     "data": {
      "text/plain": [
       "dict"
      ]
     },
     "execution_count": 4,
     "metadata": {},
     "output_type": "execute_result"
    }
   ],
   "source": [
    "type(fitness_dictinary) # dict"
   ]
  },
  {
   "cell_type": "code",
   "execution_count": 6,
   "id": "0ed87305-2c4b-4b7f-96fd-677726dd2bd7",
   "metadata": {},
   "outputs": [
    {
     "data": {
      "text/plain": [
       "100"
      ]
     },
     "execution_count": 6,
     "metadata": {},
     "output_type": "execute_result"
    }
   ],
   "source": [
    "fitness_dictinary[\"banana\"] # 100"
   ]
  },
  {
   "cell_type": "code",
   "execution_count": 8,
   "id": "c2102efa-41c6-4369-9b0d-92781285bf7f",
   "metadata": {},
   "outputs": [
    {
     "data": {
      "text/plain": [
       "150"
      ]
     },
     "execution_count": 8,
     "metadata": {},
     "output_type": "execute_result"
    }
   ],
   "source": [
    "fitness_dictinary[\"apple\"] # 150"
   ]
  },
  {
   "cell_type": "code",
   "execution_count": 10,
   "id": "e4a322b1-384b-4e6f-9c67-037003d21d18",
   "metadata": {},
   "outputs": [
    {
     "data": {
      "text/plain": [
       "dict_keys(['banana', 'apple'])"
      ]
     },
     "execution_count": 10,
     "metadata": {},
     "output_type": "execute_result"
    }
   ],
   "source": [
    "fitness_dictinary.keys() # dict_keys(['banana', 'apple'])"
   ]
  },
  {
   "cell_type": "code",
   "execution_count": 12,
   "id": "ca808e1b-7c7f-4609-aa23-6ee380dd4361",
   "metadata": {},
   "outputs": [
    {
     "data": {
      "text/plain": [
       "dict_values([100, 150])"
      ]
     },
     "execution_count": 12,
     "metadata": {},
     "output_type": "execute_result"
    }
   ],
   "source": [
    "fitness_dictinary.values() # dict_values([100, 150])"
   ]
  },
  {
   "cell_type": "code",
   "execution_count": 14,
   "id": "46611195-6cca-4715-b6ab-4c10db076c63",
   "metadata": {},
   "outputs": [
    {
     "data": {
      "text/plain": [
       "[100, 150]"
      ]
     },
     "execution_count": 14,
     "metadata": {},
     "output_type": "execute_result"
    }
   ],
   "source": [
    "list(fitness_dictinary.values()) # [100, 150]"
   ]
  },
  {
   "cell_type": "code",
   "execution_count": 16,
   "id": "d966648d-e3c8-44c9-8110-927941b90b59",
   "metadata": {},
   "outputs": [
    {
     "data": {
      "text/plain": [
       "{'banana': 100, 'apple': 150}"
      ]
     },
     "execution_count": 16,
     "metadata": {},
     "output_type": "execute_result"
    }
   ],
   "source": [
    "fitness_dictinary # {'banana': 100, 'apple': 150}"
   ]
  },
  {
   "cell_type": "code",
   "execution_count": 18,
   "id": "51eb3dc5-5bec-45fd-a2f6-4790bf6f578c",
   "metadata": {},
   "outputs": [],
   "source": [
    "fitness_dictinary[\"banana\"] = 200"
   ]
  },
  {
   "cell_type": "code",
   "execution_count": 20,
   "id": "f64a999f-f2ed-4125-bdfe-5ef5fe2d017a",
   "metadata": {},
   "outputs": [
    {
     "data": {
      "text/plain": [
       "{'banana': 200, 'apple': 150}"
      ]
     },
     "execution_count": 20,
     "metadata": {},
     "output_type": "execute_result"
    }
   ],
   "source": [
    "fitness_dictinary # {'banana': 200, 'apple': 150}"
   ]
  },
  {
   "cell_type": "code",
   "execution_count": 22,
   "id": "50faa40b-3017-4641-8887-309b43095cd4",
   "metadata": {},
   "outputs": [],
   "source": [
    "fitness_dictinary[\"melon\"] = 300 "
   ]
  },
  {
   "cell_type": "code",
   "execution_count": 24,
   "id": "87fbdf64-870c-4820-a77d-b138fe3af240",
   "metadata": {},
   "outputs": [
    {
     "data": {
      "text/plain": [
       "{'banana': 200, 'apple': 150, 'melon': 300}"
      ]
     },
     "execution_count": 24,
     "metadata": {},
     "output_type": "execute_result"
    }
   ],
   "source": [
    "fitness_dictinary # {'banana': 200, 'apple': 150, 'melon': 300}"
   ]
  },
  {
   "cell_type": "code",
   "execution_count": 28,
   "id": "31e30d2e-1cd1-4250-a58d-7b04bee7d497",
   "metadata": {},
   "outputs": [
    {
     "data": {
      "text/plain": [
       "0"
      ]
     },
     "execution_count": 28,
     "metadata": {},
     "output_type": "execute_result"
    }
   ],
   "source": [
    "fitness_dictinary.get(\"appl\",0) #if get value error; value=0"
   ]
  },
  {
   "cell_type": "code",
   "execution_count": 30,
   "id": "deddf8e7-cb3b-47e2-9112-75ea4e874215",
   "metadata": {},
   "outputs": [],
   "source": [
    "my_dictionary={100:\"a\",200:\"c\", 300:\"c\"} "
   ]
  },
  {
   "cell_type": "code",
   "execution_count": 34,
   "id": "1893ed40-7bb5-4936-86eb-ffc5b95d6b5f",
   "metadata": {},
   "outputs": [
    {
     "data": {
      "text/plain": [
       "'a'"
      ]
     },
     "execution_count": 34,
     "metadata": {},
     "output_type": "execute_result"
    }
   ],
   "source": [
    "my_dictionary[100] # 'a'"
   ]
  },
  {
   "cell_type": "code",
   "execution_count": 36,
   "id": "8a58bfe1-d5ca-4e15-b0c5-cf049a30028d",
   "metadata": {},
   "outputs": [
    {
     "data": {
      "text/plain": [
       "'c'"
      ]
     },
     "execution_count": 36,
     "metadata": {},
     "output_type": "execute_result"
    }
   ],
   "source": [
    "my_dictionary[200] # 'c'"
   ]
  },
  {
   "cell_type": "code",
   "execution_count": 42,
   "id": "9b18e59c-baaf-4c1a-89fb-203f385c11bc",
   "metadata": {},
   "outputs": [],
   "source": [
    "my_dictionary = {\"key1\":\"value1\", \"key2\":\"value2\", \"key3\": \"value3\"}"
   ]
  },
  {
   "cell_type": "code",
   "execution_count": 44,
   "id": "400a4739-36ee-4d43-b834-4516a6d592bc",
   "metadata": {},
   "outputs": [
    {
     "data": {
      "text/plain": [
       "'value1'"
      ]
     },
     "execution_count": 44,
     "metadata": {},
     "output_type": "execute_result"
    }
   ],
   "source": [
    "my_dictionary[\"key1\"] # 'value1'"
   ]
  },
  {
   "cell_type": "code",
   "execution_count": 52,
   "id": "287da46a-b81e-4616-b4d0-1184f6907698",
   "metadata": {},
   "outputs": [],
   "source": [
    "my_mixed_dictionary = {\"key1\":100,\"key2\":3.14,\"key3\":[10,20,30]}"
   ]
  },
  {
   "cell_type": "code",
   "execution_count": 54,
   "id": "7af55889-b7f8-413e-900e-6094af5ec67b",
   "metadata": {},
   "outputs": [
    {
     "data": {
      "text/plain": [
       "20"
      ]
     },
     "execution_count": 54,
     "metadata": {},
     "output_type": "execute_result"
    }
   ],
   "source": [
    "my_mixed_dictionary[\"key3\"][1] # 20"
   ]
  },
  {
   "cell_type": "code",
   "execution_count": 56,
   "id": "b4f051b1-089b-4266-8703-5342e5fe3f88",
   "metadata": {},
   "outputs": [],
   "source": [
    "last_dictionary={\"k1\":10, \"k2\":[10,20,30,40], \"k3\":\"string value\", \"k4\":{\"a\":100, \"b\":200}} "
   ]
  },
  {
   "cell_type": "code",
   "execution_count": 60,
   "id": "4db11ab1-5c7f-44f9-84ad-32f242199901",
   "metadata": {},
   "outputs": [
    {
     "data": {
      "text/plain": [
       "30"
      ]
     },
     "execution_count": 60,
     "metadata": {},
     "output_type": "execute_result"
    }
   ],
   "source": [
    "last_dictionary[\"k2\"][2] # 30"
   ]
  },
  {
   "cell_type": "code",
   "execution_count": 64,
   "id": "0f30fb31-8378-406b-ad04-c2241f1d50c3",
   "metadata": {},
   "outputs": [
    {
     "data": {
      "text/plain": [
       "200"
      ]
     },
     "execution_count": 64,
     "metadata": {},
     "output_type": "execute_result"
    }
   ],
   "source": [
    "last_dictionary[\"k4\"][\"b\"] # 200"
   ]
  },
  {
   "cell_type": "code",
   "execution_count": null,
   "id": "f06221ef-aff0-404f-9c08-fa01f4894997",
   "metadata": {},
   "outputs": [],
   "source": []
  }
 ],
 "metadata": {
  "kernelspec": {
   "display_name": "Python [conda env:base] *",
   "language": "python",
   "name": "conda-base-py"
  },
  "language_info": {
   "codemirror_mode": {
    "name": "ipython",
    "version": 3
   },
   "file_extension": ".py",
   "mimetype": "text/x-python",
   "name": "python",
   "nbconvert_exporter": "python",
   "pygments_lexer": "ipython3",
   "version": "3.12.7"
  }
 },
 "nbformat": 4,
 "nbformat_minor": 5
}
