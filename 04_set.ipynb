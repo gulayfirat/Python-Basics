{
 "cells": [
  {
   "cell_type": "code",
   "execution_count": 1,
   "id": "edfe1460-00a6-41b4-a48e-f1be9dc6a34e",
   "metadata": {},
   "outputs": [],
   "source": [
    "# set: unique elements, unordered"
   ]
  },
  {
   "cell_type": "code",
   "execution_count": 2,
   "id": "05a7f0f8-7828-4c7a-bbbe-b5c969712589",
   "metadata": {},
   "outputs": [],
   "source": [
    "myList=[10,20,30,10,20,40,10,20,40]"
   ]
  },
  {
   "cell_type": "code",
   "execution_count": 3,
   "id": "aa1f9827-e8ed-4570-bd34-2dcf0e512c30",
   "metadata": {},
   "outputs": [
    {
     "data": {
      "text/plain": [
       "9"
      ]
     },
     "execution_count": 3,
     "metadata": {},
     "output_type": "execute_result"
    }
   ],
   "source": [
    "len(myList) # 9"
   ]
  },
  {
   "cell_type": "code",
   "execution_count": 4,
   "id": "28b3ebbd-6674-4664-abc4-fc0f7eb4e49a",
   "metadata": {},
   "outputs": [
    {
     "data": {
      "text/plain": [
       "[10, 20, 30, 10, 20, 40, 10, 20, 40]"
      ]
     },
     "execution_count": 4,
     "metadata": {},
     "output_type": "execute_result"
    }
   ],
   "source": [
    "myList # [10, 20, 30, 10, 20, 40, 10, 20, 40]"
   ]
  },
  {
   "cell_type": "code",
   "execution_count": 5,
   "id": "c8aeb5e9-30db-43bd-adf7-b64a06b879ef",
   "metadata": {},
   "outputs": [],
   "source": [
    "mySet = set(myList) "
   ]
  },
  {
   "cell_type": "code",
   "execution_count": 6,
   "id": "1ada6598-3afa-4394-a3be-d81ebacd2085",
   "metadata": {},
   "outputs": [
    {
     "data": {
      "text/plain": [
       "{10, 20, 30, 40}"
      ]
     },
     "execution_count": 6,
     "metadata": {},
     "output_type": "execute_result"
    }
   ],
   "source": [
    "mySet # {10, 20, 30, 40}"
   ]
  },
  {
   "cell_type": "code",
   "execution_count": 7,
   "id": "caa0714c-fe8d-4992-bad6-4b285bb2a2a2",
   "metadata": {},
   "outputs": [],
   "source": [
    "mySet = {10,20,30,10,20,40,10,20,40}"
   ]
  },
  {
   "cell_type": "code",
   "execution_count": 8,
   "id": "6e633fb8-dab5-4709-82e9-44468db1c37f",
   "metadata": {},
   "outputs": [
    {
     "data": {
      "text/plain": [
       "{10, 20, 30, 40}"
      ]
     },
     "execution_count": 8,
     "metadata": {},
     "output_type": "execute_result"
    }
   ],
   "source": [
    "mySet # {10, 20, 30, 40}"
   ]
  },
  {
   "cell_type": "code",
   "execution_count": 9,
   "id": "7a7718ce-7e36-4ae9-bf43-f8953f610fef",
   "metadata": {},
   "outputs": [],
   "source": [
    "mySet.add(10) "
   ]
  },
  {
   "cell_type": "code",
   "execution_count": 10,
   "id": "408e2525-b220-44c5-ac32-9b0c0760da9a",
   "metadata": {},
   "outputs": [
    {
     "data": {
      "text/plain": [
       "{10, 20, 30, 40}"
      ]
     },
     "execution_count": 10,
     "metadata": {},
     "output_type": "execute_result"
    }
   ],
   "source": [
    "mySet # {10, 20, 30, 40}"
   ]
  },
  {
   "cell_type": "code",
   "execution_count": 11,
   "id": "cf0cf3a3-36eb-4fd2-afd3-1675eedc0e13",
   "metadata": {},
   "outputs": [],
   "source": [
    "mySet.add(50) "
   ]
  },
  {
   "cell_type": "code",
   "execution_count": 12,
   "id": "6c0c0ed6-6b3f-415f-9269-b6886e276308",
   "metadata": {},
   "outputs": [],
   "source": [
    "mySet2 = {30,40,50,60,70}"
   ]
  },
  {
   "cell_type": "code",
   "execution_count": 13,
   "id": "571ad8dc-cbe6-4cda-8a33-786480bd66df",
   "metadata": {},
   "outputs": [
    {
     "data": {
      "text/plain": [
       "{10, 20, 30, 40, 50, 60, 70}"
      ]
     },
     "execution_count": 13,
     "metadata": {},
     "output_type": "execute_result"
    }
   ],
   "source": [
    "mySet.union(mySet2)  # {10, 20, 30, 40, 50, 60, 70}"
   ]
  },
  {
   "cell_type": "code",
   "execution_count": 14,
   "id": "5095082f-11d9-4b4d-bbd4-19fefdeed8fe",
   "metadata": {},
   "outputs": [
    {
     "data": {
      "text/plain": [
       "{30, 40, 50}"
      ]
     },
     "execution_count": 14,
     "metadata": {},
     "output_type": "execute_result"
    }
   ],
   "source": [
    "mySet.intersection(mySet2) # {30, 40, 50}"
   ]
  },
  {
   "cell_type": "code",
   "execution_count": 15,
   "id": "704fe04b-875b-404a-bff8-2908e5ee087c",
   "metadata": {},
   "outputs": [],
   "source": [
    "countryList = [\"de\",\"fr\",\"tr\",\"fr\",\"tr\",\"tr\",\"de\",\"nl\",\"de\",\"tr\"]"
   ]
  },
  {
   "cell_type": "code",
   "execution_count": 16,
   "id": "1225c14c-8cb7-4c34-b6db-720eacc0c52d",
   "metadata": {},
   "outputs": [
    {
     "data": {
      "text/plain": [
       "10"
      ]
     },
     "execution_count": 16,
     "metadata": {},
     "output_type": "execute_result"
    }
   ],
   "source": [
    "len(countryList) # 10"
   ]
  },
  {
   "cell_type": "code",
   "execution_count": 17,
   "id": "99279f36-f456-4b7e-9ee0-36824de740e6",
   "metadata": {},
   "outputs": [
    {
     "data": {
      "text/plain": [
       "{'de', 'fr', 'nl', 'tr'}"
      ]
     },
     "execution_count": 17,
     "metadata": {},
     "output_type": "execute_result"
    }
   ],
   "source": [
    "set(countryList) # {'de', 'fr', 'nl', 'tr'}"
   ]
  },
  {
   "cell_type": "code",
   "execution_count": 18,
   "id": "dadee6f6-8663-4388-9483-12a3612d8c54",
   "metadata": {},
   "outputs": [
    {
     "data": {
      "text/plain": [
       "4"
      ]
     },
     "execution_count": 18,
     "metadata": {},
     "output_type": "execute_result"
    }
   ],
   "source": [
    "len(set(countryList)) # 4"
   ]
  },
  {
   "cell_type": "code",
   "execution_count": 19,
   "id": "af046178-ad99-4e5f-9777-acabb78ff3b4",
   "metadata": {},
   "outputs": [],
   "source": [
    "mySet={}"
   ]
  },
  {
   "cell_type": "code",
   "execution_count": 20,
   "id": "fbd8bee2-7e50-46a7-9542-169db71ec469",
   "metadata": {},
   "outputs": [
    {
     "data": {
      "text/plain": [
       "dict"
      ]
     },
     "execution_count": 20,
     "metadata": {},
     "output_type": "execute_result"
    }
   ],
   "source": [
    "type(mySet) # dict"
   ]
  },
  {
   "cell_type": "code",
   "execution_count": 21,
   "id": "c47c5ddd-8268-46ed-b423-c2aab54d599b",
   "metadata": {},
   "outputs": [],
   "source": [
    "emptySet = set()"
   ]
  },
  {
   "cell_type": "code",
   "execution_count": 22,
   "id": "a9a78b34-909b-428f-b902-c7e495455746",
   "metadata": {},
   "outputs": [
    {
     "data": {
      "text/plain": [
       "set"
      ]
     },
     "execution_count": 22,
     "metadata": {},
     "output_type": "execute_result"
    }
   ],
   "source": [
    "type(emptySet) # set"
   ]
  },
  {
   "cell_type": "code",
   "execution_count": 23,
   "id": "759ecaf1-cea7-49ec-a57c-ed33eb76ef45",
   "metadata": {},
   "outputs": [
    {
     "data": {
      "text/plain": [
       "0"
      ]
     },
     "execution_count": 23,
     "metadata": {},
     "output_type": "execute_result"
    }
   ],
   "source": [
    "len(emptySet) # 0"
   ]
  },
  {
   "cell_type": "code",
   "execution_count": 24,
   "id": "31f8af43-8e67-48a7-96dd-03b0d5988353",
   "metadata": {},
   "outputs": [],
   "source": [
    "emptySet.add(10)\n",
    "emptySet.add(20)\n",
    "emptySet.add(30)"
   ]
  },
  {
   "cell_type": "code",
   "execution_count": 25,
   "id": "3f97b2f3-15c8-4304-860b-547ec382d673",
   "metadata": {},
   "outputs": [
    {
     "data": {
      "text/plain": [
       "{10, 20, 30}"
      ]
     },
     "execution_count": 25,
     "metadata": {},
     "output_type": "execute_result"
    }
   ],
   "source": [
    "emptySet # {10, 20, 30}"
   ]
  },
  {
   "cell_type": "code",
   "execution_count": null,
   "id": "05384b75-b12b-41aa-80f6-3037f97cad29",
   "metadata": {},
   "outputs": [],
   "source": []
  }
 ],
 "metadata": {
  "kernelspec": {
   "display_name": "Python [conda env:base] *",
   "language": "python",
   "name": "conda-base-py"
  },
  "language_info": {
   "codemirror_mode": {
    "name": "ipython",
    "version": 3
   },
   "file_extension": ".py",
   "mimetype": "text/x-python",
   "name": "python",
   "nbconvert_exporter": "python",
   "pygments_lexer": "ipython3",
   "version": "3.12.7"
  }
 },
 "nbformat": 4,
 "nbformat_minor": 5
}
