{
 "cells": [
  {
   "cell_type": "code",
   "execution_count": 1,
   "id": "7e5c66d0-44b9-4470-af40-bbbd9e63c0c3",
   "metadata": {},
   "outputs": [],
   "source": [
    "# Restart Kernel and Run All Cell..."
   ]
  },
  {
   "cell_type": "code",
   "execution_count": 2,
   "id": "44951e78-b447-4dd5-a376-7717e273de12",
   "metadata": {},
   "outputs": [
    {
     "name": "stdin",
     "output_type": "stream",
     "text": [
      "enter age:  20\n"
     ]
    }
   ],
   "source": [
    "age=input(\"enter age: \")"
   ]
  },
  {
   "cell_type": "code",
   "execution_count": 3,
   "id": "090c5b06-c0b0-41ce-a755-6eb47d7d4904",
   "metadata": {},
   "outputs": [
    {
     "data": {
      "text/plain": [
       "'20'"
      ]
     },
     "execution_count": 3,
     "metadata": {},
     "output_type": "execute_result"
    }
   ],
   "source": [
    "age"
   ]
  },
  {
   "cell_type": "code",
   "execution_count": 4,
   "id": "dfe413b9-0b30-4997-a218-898b7752f197",
   "metadata": {},
   "outputs": [
    {
     "data": {
      "text/plain": [
       "40"
      ]
     },
     "execution_count": 4,
     "metadata": {},
     "output_type": "execute_result"
    }
   ],
   "source": [
    "int(age)*2 # get ValueError error(if input is string) "
   ]
  },
  {
   "cell_type": "code",
   "execution_count": 5,
   "id": "2f0487c5-f287-4367-a64d-fa1bc4cd630b",
   "metadata": {},
   "outputs": [],
   "source": [
    "# try - except"
   ]
  },
  {
   "cell_type": "code",
   "execution_count": 6,
   "id": "42760488-4291-4cc2-ba5d-d59b47430434",
   "metadata": {},
   "outputs": [
    {
     "name": "stdin",
     "output_type": "stream",
     "text": [
      "enter age:  20\n"
     ]
    },
    {
     "name": "stdout",
     "output_type": "stream",
     "text": [
      "40\n"
     ]
    }
   ],
   "source": [
    "while True:\n",
    "    try:\n",
    "        myAge=int(input(\"enter age: \"))\n",
    "        print(myAge*2)\n",
    "        break\n",
    "    except:\n",
    "        print(\"enter your age\")\n"
   ]
  },
  {
   "cell_type": "code",
   "execution_count": null,
   "id": "073ed4d9-7bbe-4b81-be3d-21c9b45000c0",
   "metadata": {},
   "outputs": [],
   "source": []
  },
  {
   "cell_type": "code",
   "execution_count": null,
   "id": "177e199f-98cc-4ebc-8b84-d13e4249ff5c",
   "metadata": {},
   "outputs": [],
   "source": []
  }
 ],
 "metadata": {
  "kernelspec": {
   "display_name": "Python [conda env:base] *",
   "language": "python",
   "name": "conda-base-py"
  },
  "language_info": {
   "codemirror_mode": {
    "name": "ipython",
    "version": 3
   },
   "file_extension": ".py",
   "mimetype": "text/x-python",
   "name": "python",
   "nbconvert_exporter": "python",
   "pygments_lexer": "ipython3",
   "version": "3.12.7"
  }
 },
 "nbformat": 4,
 "nbformat_minor": 5
}
