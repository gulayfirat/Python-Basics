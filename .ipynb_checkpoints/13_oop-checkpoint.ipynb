{
 "cells": [
  {
   "cell_type": "markdown",
   "id": "6c822868-4a58-417b-a8a9-2e553ac9f36d",
   "metadata": {},
   "source": [
    "# Inheritance"
   ]
  },
  {
   "cell_type": "code",
   "execution_count": 2,
   "id": "7008b770-9241-4f8a-ba22-c82d8236dd34",
   "metadata": {},
   "outputs": [],
   "source": [
    "class Musician():\n",
    "    def __init__(self, name):\n",
    "        self.name=name\n",
    "        print(\"Musician class\")\n",
    "    def test1(self):\n",
    "        print(\"test1...\")\n",
    "    def test2(self):\n",
    "        print(\"test2...\")"
   ]
  },
  {
   "cell_type": "code",
   "execution_count": 3,
   "id": "79a03e7f-149c-43f8-a33a-fac58cdac77d",
   "metadata": {},
   "outputs": [
    {
     "name": "stdout",
     "output_type": "stream",
     "text": [
      "Musician class\n"
     ]
    }
   ],
   "source": [
    "ali = Musician(\"Ali\")"
   ]
  },
  {
   "cell_type": "code",
   "execution_count": 4,
   "id": "39ea594d-7e4f-4bcd-ac08-769ef63c24c8",
   "metadata": {},
   "outputs": [
    {
     "data": {
      "text/plain": [
       "'Ali'"
      ]
     },
     "execution_count": 4,
     "metadata": {},
     "output_type": "execute_result"
    }
   ],
   "source": [
    "ali.name"
   ]
  },
  {
   "cell_type": "code",
   "execution_count": 5,
   "id": "4cddb91c-bce1-4edf-9e45-3aa88577efe6",
   "metadata": {},
   "outputs": [
    {
     "name": "stdout",
     "output_type": "stream",
     "text": [
      "test1...\n"
     ]
    }
   ],
   "source": [
    "ali.test1()"
   ]
  },
  {
   "cell_type": "code",
   "execution_count": 6,
   "id": "06de5e6c-2030-4a6e-961f-b39438257f4b",
   "metadata": {},
   "outputs": [
    {
     "name": "stdout",
     "output_type": "stream",
     "text": [
      "test2...\n"
     ]
    }
   ],
   "source": [
    "ali.test2()"
   ]
  },
  {
   "cell_type": "code",
   "execution_count": 7,
   "id": "6a235d70-17a0-4e44-bc84-274f4e4e243b",
   "metadata": {},
   "outputs": [],
   "source": [
    "class MusicianPlus(Musician):\n",
    "    def __init__(self, name):\n",
    "        Musician.__init__(self,name)\n",
    "        print(\"Musician Plus\")\n",
    "    def test3(self):\n",
    "        print(\"test3...\")\n",
    "    #override\n",
    "    def test1(self):\n",
    "        print(\"override test1... \")"
   ]
  },
  {
   "cell_type": "code",
   "execution_count": 8,
   "id": "b5a2d782-7049-4a39-a629-4065b3b617fa",
   "metadata": {},
   "outputs": [
    {
     "name": "stdout",
     "output_type": "stream",
     "text": [
      "Musician class\n",
      "Musician Plus\n"
     ]
    }
   ],
   "source": [
    "ayse = MusicianPlus(\"Ayse\")"
   ]
  },
  {
   "cell_type": "code",
   "execution_count": 9,
   "id": "f03aded1-d0ee-42e7-b34a-186db8c79328",
   "metadata": {},
   "outputs": [
    {
     "data": {
      "text/plain": [
       "'Ayse'"
      ]
     },
     "execution_count": 9,
     "metadata": {},
     "output_type": "execute_result"
    }
   ],
   "source": [
    "ayse.name"
   ]
  },
  {
   "cell_type": "code",
   "execution_count": 10,
   "id": "76378a7a-f6e7-4549-9ad0-0363e6aa158f",
   "metadata": {},
   "outputs": [
    {
     "name": "stdout",
     "output_type": "stream",
     "text": [
      "test1...test1...test1\n"
     ]
    }
   ],
   "source": [
    "ayse.test1()"
   ]
  },
  {
   "cell_type": "code",
   "execution_count": 11,
   "id": "94e4d259-5d43-479b-a6ad-0d5223d00038",
   "metadata": {},
   "outputs": [
    {
     "name": "stdout",
     "output_type": "stream",
     "text": [
      "test2...\n"
     ]
    }
   ],
   "source": [
    "ayse.test2()"
   ]
  },
  {
   "cell_type": "code",
   "execution_count": 12,
   "id": "dbc01531-c25a-47e0-ab08-16e2c41c4913",
   "metadata": {},
   "outputs": [
    {
     "name": "stdout",
     "output_type": "stream",
     "text": [
      "test3...\n"
     ]
    }
   ],
   "source": [
    "ayse.test3()"
   ]
  },
  {
   "cell_type": "code",
   "execution_count": 13,
   "id": "a1f8bae3-888c-446a-ab1f-edb39fc2c0ee",
   "metadata": {},
   "outputs": [],
   "source": [
    "ayse.name = \"Ayse2\""
   ]
  },
  {
   "cell_type": "code",
   "execution_count": 14,
   "id": "1c73bf99-a11e-4152-b516-21e9da908389",
   "metadata": {},
   "outputs": [
    {
     "data": {
      "text/plain": [
       "__main__.MusicianPlus"
      ]
     },
     "execution_count": 14,
     "metadata": {},
     "output_type": "execute_result"
    }
   ],
   "source": [
    "type(ayse)"
   ]
  },
  {
   "cell_type": "code",
   "execution_count": 15,
   "id": "671016dc-991c-4a87-87ca-b0d026799162",
   "metadata": {},
   "outputs": [
    {
     "name": "stdout",
     "output_type": "stream",
     "text": [
      "test1...\n"
     ]
    }
   ],
   "source": [
    "ali.test1()"
   ]
  },
  {
   "cell_type": "markdown",
   "id": "714076b3-4f4f-45a4-a7c9-226b6d397261",
   "metadata": {},
   "source": [
    "# Polymorphism"
   ]
  },
  {
   "cell_type": "code",
   "execution_count": 17,
   "id": "d3d09136-a595-4dd3-9ef3-8a4e60315fbc",
   "metadata": {},
   "outputs": [],
   "source": [
    "class Banana():\n",
    "    def __init__(self,name):\n",
    "        self.name=name\n",
    "    def info(self):\n",
    "        return f\"100 calories {self.name}\"\n",
    "\n",
    "class Apple():\n",
    "    def __init__(self,name):\n",
    "        self.name=name\n",
    "        \n",
    "    def info(self):\n",
    "        return f\"150 calories {self.name}\""
   ]
  },
  {
   "cell_type": "code",
   "execution_count": 18,
   "id": "197186dc-272f-4094-aca7-b92d491ecf20",
   "metadata": {},
   "outputs": [],
   "source": [
    "banana = Banana(\"banana\")"
   ]
  },
  {
   "cell_type": "code",
   "execution_count": 19,
   "id": "bc1b6511-3ae7-4c61-a444-a5d88f5a79d1",
   "metadata": {},
   "outputs": [],
   "source": [
    "apple = Apple(\"apple\")"
   ]
  },
  {
   "cell_type": "code",
   "execution_count": 20,
   "id": "b8e31a56-eee3-4f88-9eab-be15d142ec8a",
   "metadata": {},
   "outputs": [
    {
     "data": {
      "text/plain": [
       "'100 calories banana'"
      ]
     },
     "execution_count": 20,
     "metadata": {},
     "output_type": "execute_result"
    }
   ],
   "source": [
    "banana.info()"
   ]
  },
  {
   "cell_type": "code",
   "execution_count": 21,
   "id": "a36df8b4-6c1f-4f26-8588-49d047362035",
   "metadata": {},
   "outputs": [
    {
     "data": {
      "text/plain": [
       "'150 calories apple'"
      ]
     },
     "execution_count": 21,
     "metadata": {},
     "output_type": "execute_result"
    }
   ],
   "source": [
    "apple.info()"
   ]
  },
  {
   "cell_type": "code",
   "execution_count": 22,
   "id": "2a5db8a2-c539-4175-9812-2af53831cfad",
   "metadata": {},
   "outputs": [],
   "source": [
    "fruitList=[banana, apple]"
   ]
  },
  {
   "cell_type": "code",
   "execution_count": 23,
   "id": "42770d38-0b9e-45a3-83c4-6974708f40a1",
   "metadata": {},
   "outputs": [
    {
     "name": "stdout",
     "output_type": "stream",
     "text": [
      "100 calories banana\n",
      "150 calories apple\n"
     ]
    }
   ],
   "source": [
    "for fruit in fruitList:\n",
    "    print(fruit.info())"
   ]
  },
  {
   "cell_type": "markdown",
   "id": "111cd582-83f9-427a-b8dc-aff7f4bf37d3",
   "metadata": {},
   "source": [
    "# Encapsulation"
   ]
  },
  {
   "cell_type": "code",
   "execution_count": 25,
   "id": "7f693ecc-ee7a-4493-9223-5362da0cf626",
   "metadata": {},
   "outputs": [],
   "source": [
    "class Phone():\n",
    "    def __init__(self, name, price):\n",
    "        self.name=name\n",
    "        self.__price=price #Encapsulation\n",
    "    def info(self):\n",
    "        print(f\"{self.name} price is: {self.__price}\")\n",
    "    def changePrice(self, price):\n",
    "        self.__price=price"
   ]
  },
  {
   "cell_type": "code",
   "execution_count": 26,
   "id": "054dbf68-d288-4dde-a2ab-6a31b5cbc484",
   "metadata": {},
   "outputs": [],
   "source": [
    "iphone=Phone(\"IPhone 14\", 500)"
   ]
  },
  {
   "cell_type": "code",
   "execution_count": 27,
   "id": "4ca78c15-6e42-4669-b08e-131a55a1b894",
   "metadata": {},
   "outputs": [
    {
     "name": "stdout",
     "output_type": "stream",
     "text": [
      "IPhone 14 price is: 500\n"
     ]
    }
   ],
   "source": [
    "iphone.info()"
   ]
  },
  {
   "cell_type": "code",
   "execution_count": 28,
   "id": "de8489e9-5b8d-451b-9883-e437cdd2deff",
   "metadata": {},
   "outputs": [],
   "source": [
    "iphone.price=400"
   ]
  },
  {
   "cell_type": "code",
   "execution_count": 29,
   "id": "2d33c490-039c-442a-b3ca-478242342aae",
   "metadata": {},
   "outputs": [],
   "source": [
    "iphone.__price=400"
   ]
  },
  {
   "cell_type": "code",
   "execution_count": 30,
   "id": "169499ea-319c-4488-b59f-77e29aa305ca",
   "metadata": {},
   "outputs": [
    {
     "name": "stdout",
     "output_type": "stream",
     "text": [
      "IPhone 14 price is: 500\n"
     ]
    }
   ],
   "source": [
    "iphone.info() # price  not changed"
   ]
  },
  {
   "cell_type": "code",
   "execution_count": 31,
   "id": "91e8e4c6-3b1f-44b3-a90f-4ba9961af32f",
   "metadata": {},
   "outputs": [],
   "source": [
    "iphone.changePrice(300)"
   ]
  },
  {
   "cell_type": "code",
   "execution_count": 32,
   "id": "9d662290-b422-4f6b-b1bf-5f7fd10727f1",
   "metadata": {},
   "outputs": [
    {
     "name": "stdout",
     "output_type": "stream",
     "text": [
      "IPhone 14 price is: 300\n"
     ]
    }
   ],
   "source": [
    "iphone.info()"
   ]
  },
  {
   "cell_type": "markdown",
   "id": "3b97d10e-2c0b-4637-8922-b390eff32eb2",
   "metadata": {},
   "source": [
    "# Abstraction"
   ]
  },
  {
   "cell_type": "code",
   "execution_count": 34,
   "id": "cd7dd0ff-8326-4012-86fa-722b6fee9763",
   "metadata": {},
   "outputs": [],
   "source": [
    "from abc import ABC, abstractmethod"
   ]
  },
  {
   "cell_type": "code",
   "execution_count": 35,
   "id": "6c12aa64-14b3-41da-ac4b-acb2afd83223",
   "metadata": {},
   "outputs": [],
   "source": [
    "class Car(ABC):\n",
    "    @abstractmethod\n",
    "    def maxSpeed():\n",
    "        pass"
   ]
  },
  {
   "cell_type": "code",
   "execution_count": null,
   "id": "b25ad5bf-420e-4fee-9cdc-cf1be6c625d0",
   "metadata": {},
   "outputs": [],
   "source": []
  },
  {
   "cell_type": "code",
   "execution_count": 36,
   "id": "e9bb05e8-67b5-4120-ab23-647a397f7373",
   "metadata": {},
   "outputs": [],
   "source": [
    "class  Tesla(Car):\n",
    "    def maxSpeed(self):\n",
    "        print(\"200km\")"
   ]
  },
  {
   "cell_type": "code",
   "execution_count": 37,
   "id": "7af6001a-0d11-4b1b-b324-2f7e2f4c51dd",
   "metadata": {},
   "outputs": [],
   "source": [
    "tesla=Tesla()"
   ]
  },
  {
   "cell_type": "code",
   "execution_count": 38,
   "id": "2bf0068d-734f-40ca-8e2a-ef57681235df",
   "metadata": {},
   "outputs": [
    {
     "name": "stdout",
     "output_type": "stream",
     "text": [
      "200km\n"
     ]
    }
   ],
   "source": [
    "tesla.maxSpeed()"
   ]
  },
  {
   "cell_type": "code",
   "execution_count": 39,
   "id": "da088ebd-59c7-4aad-a545-b8a43407093b",
   "metadata": {},
   "outputs": [],
   "source": [
    "class Mercedes(Car):\n",
    "    def maxSpeed(self):\n",
    "        print(\"300km\")"
   ]
  },
  {
   "cell_type": "code",
   "execution_count": 40,
   "id": "52f72579-fbcc-4a5d-8f9d-ce980b5113c8",
   "metadata": {},
   "outputs": [],
   "source": [
    "mercedes=Mercedes()"
   ]
  },
  {
   "cell_type": "code",
   "execution_count": 41,
   "id": "1a1c5c62-05c1-4b19-94ca-127c3362e995",
   "metadata": {},
   "outputs": [
    {
     "name": "stdout",
     "output_type": "stream",
     "text": [
      "300km\n"
     ]
    }
   ],
   "source": [
    "mercedes.maxSpeed()"
   ]
  },
  {
   "cell_type": "markdown",
   "id": "1e125900-65c3-477f-9de0-5b81b3fa1876",
   "metadata": {},
   "source": [
    "# Special Methods"
   ]
  },
  {
   "cell_type": "code",
   "execution_count": 43,
   "id": "366537b9-0e28-4d46-a219-fb39b82a04a3",
   "metadata": {},
   "outputs": [],
   "source": [
    "class Fruit():\n",
    "    def __init__(self, name, calories):\n",
    "        self.name=name\n",
    "        self.calories=calories\n",
    "    def __str__(self):\n",
    "        return f\"{self.name}: {self.calories}\"\n",
    "    def __len__(self):\n",
    "        return self.calories\n",
    "        "
   ]
  },
  {
   "cell_type": "code",
   "execution_count": 44,
   "id": "6182e13f-8926-45f1-866c-7d47183db6ab",
   "metadata": {},
   "outputs": [],
   "source": [
    "myFruit=Fruit(\"Banana\", 150)"
   ]
  },
  {
   "cell_type": "code",
   "execution_count": 45,
   "id": "4a6e72d6-df2f-4e71-afb8-f5a91d87bcfc",
   "metadata": {},
   "outputs": [
    {
     "data": {
      "text/plain": [
       "150"
      ]
     },
     "execution_count": 45,
     "metadata": {},
     "output_type": "execute_result"
    }
   ],
   "source": [
    "myFruit.calories"
   ]
  },
  {
   "cell_type": "code",
   "execution_count": 46,
   "id": "bd8b52cb-9b93-49da-afb6-bb44437f9cae",
   "metadata": {},
   "outputs": [
    {
     "data": {
      "text/plain": [
       "'Banana'"
      ]
     },
     "execution_count": 46,
     "metadata": {},
     "output_type": "execute_result"
    }
   ],
   "source": [
    "myFruit.name"
   ]
  },
  {
   "cell_type": "code",
   "execution_count": 47,
   "id": "4da7b120-94c3-40b5-b6ce-11c500c7df10",
   "metadata": {},
   "outputs": [
    {
     "name": "stdout",
     "output_type": "stream",
     "text": [
      "Banana: 150\n"
     ]
    }
   ],
   "source": [
    "print(myFruit)"
   ]
  },
  {
   "cell_type": "code",
   "execution_count": 48,
   "id": "c7f11fbd-216d-4bc9-85ea-15710d31ce10",
   "metadata": {},
   "outputs": [
    {
     "data": {
      "text/plain": [
       "150"
      ]
     },
     "execution_count": 48,
     "metadata": {},
     "output_type": "execute_result"
    }
   ],
   "source": [
    "len(myFruit)"
   ]
  },
  {
   "cell_type": "code",
   "execution_count": 49,
   "id": "f874b634-c4f7-488e-8815-8de8ecca828b",
   "metadata": {},
   "outputs": [],
   "source": [
    "class Train():\n",
    "    def __init__(self, name):\n",
    "        self.name=name\n",
    "    def __getitem__(self, key):\n",
    "        if key==\"a\":\n",
    "            return self.name\n",
    "        else:\n",
    "            return \"Not Found\"\n",
    "            \n"
   ]
  },
  {
   "cell_type": "code",
   "execution_count": 50,
   "id": "ef5291b3-4dcd-4949-a4bc-89358433caa8",
   "metadata": {},
   "outputs": [],
   "source": [
    "myTrain=Train(\"high speed train\")"
   ]
  },
  {
   "cell_type": "code",
   "execution_count": 51,
   "id": "02c2dc70-89f1-4a25-bf08-d9bfa7891f57",
   "metadata": {},
   "outputs": [
    {
     "data": {
      "text/plain": [
       "'high speed train'"
      ]
     },
     "execution_count": 51,
     "metadata": {},
     "output_type": "execute_result"
    }
   ],
   "source": [
    "myTrain[\"a\"]"
   ]
  },
  {
   "cell_type": "code",
   "execution_count": 52,
   "id": "a58b2836-0af6-44c2-89a8-ed79d8af5614",
   "metadata": {},
   "outputs": [
    {
     "data": {
      "text/plain": [
       "'Not Found'"
      ]
     },
     "execution_count": 52,
     "metadata": {},
     "output_type": "execute_result"
    }
   ],
   "source": [
    "myTrain[\"b\"]"
   ]
  },
  {
   "cell_type": "code",
   "execution_count": null,
   "id": "6c4595d5-0798-44aa-9325-21ee39cd8a11",
   "metadata": {},
   "outputs": [],
   "source": []
  }
 ],
 "metadata": {
  "kernelspec": {
   "display_name": "Python [conda env:base] *",
   "language": "python",
   "name": "conda-base-py"
  },
  "language_info": {
   "codemirror_mode": {
    "name": "ipython",
    "version": 3
   },
   "file_extension": ".py",
   "mimetype": "text/x-python",
   "name": "python",
   "nbconvert_exporter": "python",
   "pygments_lexer": "ipython3",
   "version": "3.12.7"
  }
 },
 "nbformat": 4,
 "nbformat_minor": 5
}
