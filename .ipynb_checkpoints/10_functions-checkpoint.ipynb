{
 "cells": [
  {
   "cell_type": "code",
   "execution_count": 1,
   "id": "f29547cb-738c-4e33-84d5-ab4f2ff489b3",
   "metadata": {},
   "outputs": [],
   "source": [
    "# Restart Kernel and Run All Cell..."
   ]
  },
  {
   "cell_type": "code",
   "execution_count": 2,
   "id": "49808fc1-f183-47e2-b8ba-74f2caf5cd40",
   "metadata": {},
   "outputs": [],
   "source": [
    "#Functions"
   ]
  },
  {
   "cell_type": "code",
   "execution_count": 3,
   "id": "f04c8b11-4939-4869-902b-1e140a95063f",
   "metadata": {},
   "outputs": [],
   "source": [
    "def hello_python():\n",
    "    print(\"hello\")\n",
    "    print(\"python\")"
   ]
  },
  {
   "cell_type": "code",
   "execution_count": 4,
   "id": "90781a2a-a739-484d-bd1c-7aa0268197df",
   "metadata": {},
   "outputs": [
    {
     "data": {
      "text/plain": [
       "<function __main__.hello_python()>"
      ]
     },
     "execution_count": 4,
     "metadata": {},
     "output_type": "execute_result"
    }
   ],
   "source": [
    "hello_python"
   ]
  },
  {
   "cell_type": "code",
   "execution_count": 5,
   "id": "9fcfb1f5-b835-446b-bb5d-ca54a67db564",
   "metadata": {},
   "outputs": [
    {
     "name": "stdout",
     "output_type": "stream",
     "text": [
      "hello\n",
      "python\n"
     ]
    }
   ],
   "source": [
    "hello_python()"
   ]
  },
  {
   "cell_type": "code",
   "execution_count": 6,
   "id": "3c03d3fa-3e0d-413c-90cf-cfc408e7ea61",
   "metadata": {},
   "outputs": [],
   "source": [
    "#input"
   ]
  },
  {
   "cell_type": "code",
   "execution_count": 7,
   "id": "d05fb303-d9c0-49f7-9138-805b93ad001b",
   "metadata": {},
   "outputs": [],
   "source": [
    "def hello_name(name):\n",
    "    print(name)"
   ]
  },
  {
   "cell_type": "code",
   "execution_count": 8,
   "id": "0897e474-c4e7-4f44-90d8-63c96c5ab09b",
   "metadata": {},
   "outputs": [
    {
     "name": "stdout",
     "output_type": "stream",
     "text": [
      "python\n"
     ]
    }
   ],
   "source": [
    "hello_name(\"python\")"
   ]
  },
  {
   "cell_type": "code",
   "execution_count": 9,
   "id": "4f9cf7b2-242d-417b-a95e-2d187be253c3",
   "metadata": {},
   "outputs": [
    {
     "name": "stdout",
     "output_type": "stream",
     "text": [
      "Java\n"
     ]
    }
   ],
   "source": [
    "hello_name(\"Java\")"
   ]
  },
  {
   "cell_type": "code",
   "execution_count": 10,
   "id": "4566d4f3-116e-4d00-842e-94a210daf34f",
   "metadata": {},
   "outputs": [],
   "source": [
    "def sum_example(num1, num2):\n",
    "    print(num1 + num2)"
   ]
  },
  {
   "cell_type": "code",
   "execution_count": 11,
   "id": "25f0fb1f-3606-4aad-bd25-67ccfc10eae7",
   "metadata": {},
   "outputs": [
    {
     "name": "stdout",
     "output_type": "stream",
     "text": [
      "50\n"
     ]
    }
   ],
   "source": [
    "sum_example(20,30)"
   ]
  },
  {
   "cell_type": "code",
   "execution_count": 12,
   "id": "2ac0f742-cd55-4ade-82ca-0f4d3948a223",
   "metadata": {},
   "outputs": [],
   "source": [
    "def sum_example(num1, num2):\n",
    "    result=num1+num2\n",
    "    print(result)"
   ]
  },
  {
   "cell_type": "code",
   "execution_count": 13,
   "id": "37440418-928a-41c3-9807-5ad2e8028fd8",
   "metadata": {},
   "outputs": [
    {
     "name": "stdout",
     "output_type": "stream",
     "text": [
      "50\n"
     ]
    }
   ],
   "source": [
    "sum_example(20,30)"
   ]
  },
  {
   "cell_type": "code",
   "execution_count": 14,
   "id": "2bfb2c88-cc0d-4466-8832-0428bfe87fbc",
   "metadata": {},
   "outputs": [],
   "source": [
    "#optional argument"
   ]
  },
  {
   "cell_type": "code",
   "execution_count": 15,
   "id": "c5b24e15-7deb-4698-a5c4-7447df0e5081",
   "metadata": {},
   "outputs": [],
   "source": [
    "def hello_surname(surname=\"Python\"):\n",
    "    print(surname)\n",
    "#default surname=\"Python\""
   ]
  },
  {
   "cell_type": "code",
   "execution_count": 16,
   "id": "32f931cd-5902-43d5-933c-a8b68a8ba451",
   "metadata": {},
   "outputs": [
    {
     "name": "stdout",
     "output_type": "stream",
     "text": [
      "Python\n"
     ]
    }
   ],
   "source": [
    "hello_surname()"
   ]
  },
  {
   "cell_type": "code",
   "execution_count": 17,
   "id": "c6f361bb-d85b-40fa-b96e-5cd1a3517ee2",
   "metadata": {},
   "outputs": [
    {
     "name": "stdout",
     "output_type": "stream",
     "text": [
      "Programming\n"
     ]
    }
   ],
   "source": [
    "hello_surname(\"Programming\")"
   ]
  },
  {
   "cell_type": "code",
   "execution_count": 18,
   "id": "9d3ca297-ea3d-46d0-a20c-b07d5c0fb9ad",
   "metadata": {},
   "outputs": [],
   "source": [
    "#return"
   ]
  },
  {
   "cell_type": "code",
   "execution_count": 19,
   "id": "6469f3c5-6cbc-48b2-b1d2-11ba16884636",
   "metadata": {},
   "outputs": [],
   "source": [
    "def summation(num1, num2, num3):\n",
    "    print(num1+num2+num3)"
   ]
  },
  {
   "cell_type": "code",
   "execution_count": 20,
   "id": "8e019a77-b261-4bd6-82db-591a623ff49f",
   "metadata": {},
   "outputs": [
    {
     "name": "stdout",
     "output_type": "stream",
     "text": [
      "60\n"
     ]
    }
   ],
   "source": [
    "summation(10,20,30)"
   ]
  },
  {
   "cell_type": "code",
   "execution_count": 21,
   "id": "8546e8cf-1a09-4801-b8bd-b2eb35ee4154",
   "metadata": {},
   "outputs": [
    {
     "name": "stdout",
     "output_type": "stream",
     "text": [
      "60\n"
     ]
    }
   ],
   "source": [
    "result=summation(10,20,30)"
   ]
  },
  {
   "cell_type": "code",
   "execution_count": 22,
   "id": "f7f280c7-a0a5-4ef6-917c-7381868608fa",
   "metadata": {},
   "outputs": [
    {
     "name": "stdout",
     "output_type": "stream",
     "text": [
      "None\n"
     ]
    }
   ],
   "source": [
    "print(result) #None"
   ]
  },
  {
   "cell_type": "code",
   "execution_count": 23,
   "id": "9fc3ef06-4314-49e7-a684-1ddb06eeb079",
   "metadata": {},
   "outputs": [
    {
     "data": {
      "text/plain": [
       "NoneType"
      ]
     },
     "execution_count": 23,
     "metadata": {},
     "output_type": "execute_result"
    }
   ],
   "source": [
    "type(result) #NoneType "
   ]
  },
  {
   "cell_type": "code",
   "execution_count": 24,
   "id": "dea0b9b1-ee5a-47a0-b022-4bee2709f568",
   "metadata": {},
   "outputs": [],
   "source": [
    "def return_summation(num1, num2, num3):\n",
    "    result=num1+num2+num3\n",
    "    print(result)\n",
    "    return result"
   ]
  },
  {
   "cell_type": "code",
   "execution_count": 25,
   "id": "ee3c612c-1cc8-400a-aa52-34e3eabbfc74",
   "metadata": {},
   "outputs": [
    {
     "name": "stdout",
     "output_type": "stream",
     "text": [
      "60\n"
     ]
    }
   ],
   "source": [
    "result=return_summation(10,20,30)"
   ]
  },
  {
   "cell_type": "code",
   "execution_count": 26,
   "id": "15dc3d42-358c-4626-a82d-f7c19e1ee759",
   "metadata": {},
   "outputs": [
    {
     "data": {
      "text/plain": [
       "60"
      ]
     },
     "execution_count": 26,
     "metadata": {},
     "output_type": "execute_result"
    }
   ],
   "source": [
    "result"
   ]
  },
  {
   "cell_type": "code",
   "execution_count": 27,
   "id": "e4e9375c-038c-4657-8b07-4d8f57a4b0e2",
   "metadata": {},
   "outputs": [],
   "source": [
    "def control_string(s):\n",
    "    if s[0]==\"a\":\n",
    "        print(\"a\")"
   ]
  },
  {
   "cell_type": "code",
   "execution_count": 28,
   "id": "015b60e0-aa53-410f-b1dd-848be81c596f",
   "metadata": {},
   "outputs": [
    {
     "name": "stdout",
     "output_type": "stream",
     "text": [
      "a\n"
     ]
    }
   ],
   "source": [
    "control_string(\"apple\")"
   ]
  },
  {
   "cell_type": "code",
   "execution_count": 29,
   "id": "f82ba81f-de54-48c8-8272-64d37106b56e",
   "metadata": {},
   "outputs": [],
   "source": [
    "control_string(\"melon\")"
   ]
  },
  {
   "cell_type": "code",
   "execution_count": 30,
   "id": "e1b68de3-fa9b-46f0-820e-4026cf781c99",
   "metadata": {},
   "outputs": [],
   "source": [
    "#args(arguments), kwarg(key word arguments)"
   ]
  },
  {
   "cell_type": "code",
   "execution_count": 31,
   "id": "ee778f6e-432b-407d-9619-002e68a92449",
   "metadata": {},
   "outputs": [],
   "source": [
    "def args_sum(*args ):\n",
    "    return sum(args)\n",
    "    "
   ]
  },
  {
   "cell_type": "code",
   "execution_count": 32,
   "id": "184f4295-19f9-4dd2-a91b-322f97f8b928",
   "metadata": {},
   "outputs": [
    {
     "data": {
      "text/plain": [
       "60"
      ]
     },
     "execution_count": 32,
     "metadata": {},
     "output_type": "execute_result"
    }
   ],
   "source": [
    "args_sum(10,20,30)"
   ]
  },
  {
   "cell_type": "code",
   "execution_count": 33,
   "id": "f1db172e-0fdb-4c0e-835c-2525e5414861",
   "metadata": {},
   "outputs": [
    {
     "data": {
      "text/plain": [
       "150"
      ]
     },
     "execution_count": 33,
     "metadata": {},
     "output_type": "execute_result"
    }
   ],
   "source": [
    "args_sum(10,20,30,40,50)"
   ]
  },
  {
   "cell_type": "code",
   "execution_count": 34,
   "id": "f0795bb1-04c1-4f00-8b4d-9e0d8bfe1d48",
   "metadata": {},
   "outputs": [
    {
     "data": {
      "text/plain": [
       "190"
      ]
     },
     "execution_count": 34,
     "metadata": {},
     "output_type": "execute_result"
    }
   ],
   "source": [
    "args_sum(10,20,30,45,30,55)"
   ]
  },
  {
   "cell_type": "code",
   "execution_count": 35,
   "id": "7621ddd9-9867-449f-9be4-ab27b2dc44c8",
   "metadata": {},
   "outputs": [],
   "source": [
    "def args_example(*args):\n",
    "    print(args)"
   ]
  },
  {
   "cell_type": "code",
   "execution_count": 36,
   "id": "9b697c79-d4f9-45f6-8f85-6bc3d7996f97",
   "metadata": {},
   "outputs": [
    {
     "name": "stdout",
     "output_type": "stream",
     "text": [
      "('python', 'programming')\n"
     ]
    }
   ],
   "source": [
    "args_example(\"python\",\"programming\")"
   ]
  },
  {
   "cell_type": "code",
   "execution_count": 37,
   "id": "05fc0534-d1a6-415b-9036-bd69ebe17479",
   "metadata": {},
   "outputs": [
    {
     "name": "stdout",
     "output_type": "stream",
     "text": [
      "(10, 20)\n"
     ]
    }
   ],
   "source": [
    "args_example(10, 20)"
   ]
  },
  {
   "cell_type": "code",
   "execution_count": 38,
   "id": "aef93aee-2146-41a9-8358-70a0dcb4074e",
   "metadata": {},
   "outputs": [
    {
     "name": "stdout",
     "output_type": "stream",
     "text": [
      "('python', 'programming', 20)\n"
     ]
    }
   ],
   "source": [
    "args_example(\"python\",\"programming\",20)"
   ]
  },
  {
   "cell_type": "code",
   "execution_count": 39,
   "id": "01ecb4e2-cac4-49b8-b0cf-4bfb18bc3769",
   "metadata": {},
   "outputs": [],
   "source": [
    "def kwargs_example(**kwarg):\n",
    "    print(kwarg)"
   ]
  },
  {
   "cell_type": "code",
   "execution_count": 40,
   "id": "ea8192f1-adf4-45b8-b8cc-088064869c3e",
   "metadata": {},
   "outputs": [
    {
     "name": "stdout",
     "output_type": "stream",
     "text": [
      "{'apple': 100, 'banana': 150, 'melon': 200}\n"
     ]
    }
   ],
   "source": [
    "kwargs_example(apple=100,banana=150, melon=200)"
   ]
  },
  {
   "cell_type": "code",
   "execution_count": 41,
   "id": "445b093f-2fd2-4b39-b966-35f5fce95401",
   "metadata": {},
   "outputs": [],
   "source": [
    "def kwargs_example_2(**kwargs):\n",
    "    if \"apple\" in kwargs:\n",
    "        print(\"appleee\")\n",
    "    else:\n",
    "        print(\":(\")\n",
    "    "
   ]
  },
  {
   "cell_type": "code",
   "execution_count": 42,
   "id": "7087ee1d-e9f6-4ddd-aa6b-e18251849d5c",
   "metadata": {},
   "outputs": [
    {
     "name": "stdout",
     "output_type": "stream",
     "text": [
      "appleee\n"
     ]
    }
   ],
   "source": [
    "kwargs_example_2(apple=10,banana=15)"
   ]
  },
  {
   "cell_type": "code",
   "execution_count": 43,
   "id": "02ba4362-bd30-4e0a-b045-4cb9ed88fae4",
   "metadata": {},
   "outputs": [
    {
     "name": "stdout",
     "output_type": "stream",
     "text": [
      ":(\n"
     ]
    }
   ],
   "source": [
    "kwargs_example_2(banana=15)"
   ]
  },
  {
   "cell_type": "code",
   "execution_count": null,
   "id": "ac82550d-07e6-4522-bd33-5d8524c32ea0",
   "metadata": {},
   "outputs": [],
   "source": []
  }
 ],
 "metadata": {
  "kernelspec": {
   "display_name": "Python [conda env:base] *",
   "language": "python",
   "name": "conda-base-py"
  },
  "language_info": {
   "codemirror_mode": {
    "name": "ipython",
    "version": 3
   },
   "file_extension": ".py",
   "mimetype": "text/x-python",
   "name": "python",
   "nbconvert_exporter": "python",
   "pygments_lexer": "ipython3",
   "version": "3.12.7"
  }
 },
 "nbformat": 4,
 "nbformat_minor": 5
}
