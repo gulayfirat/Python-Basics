{
 "cells": [
  {
   "cell_type": "code",
   "execution_count": 36,
   "id": "44951e78-b447-4dd5-a376-7717e273de12",
   "metadata": {},
   "outputs": [
    {
     "name": "stdin",
     "output_type": "stream",
     "text": [
      "enter age:  sad\n"
     ]
    }
   ],
   "source": [
    "age=input(\"enter age: \")"
   ]
  },
  {
   "cell_type": "code",
   "execution_count": 38,
   "id": "090c5b06-c0b0-41ce-a755-6eb47d7d4904",
   "metadata": {},
   "outputs": [
    {
     "data": {
      "text/plain": [
       "'sad'"
      ]
     },
     "execution_count": 38,
     "metadata": {},
     "output_type": "execute_result"
    }
   ],
   "source": [
    "age"
   ]
  },
  {
   "cell_type": "code",
   "execution_count": 42,
   "id": "dfe413b9-0b30-4997-a218-898b7752f197",
   "metadata": {},
   "outputs": [],
   "source": [
    "int(age)*2 # get ValueError error(if input is string) "
   ]
  },
  {
   "cell_type": "code",
   "execution_count": 17,
   "id": "2f0487c5-f287-4367-a64d-fa1bc4cd630b",
   "metadata": {},
   "outputs": [],
   "source": [
    "#try - except"
   ]
  },
  {
   "cell_type": "code",
   "execution_count": 32,
   "id": "42760488-4291-4cc2-ba5d-d59b47430434",
   "metadata": {},
   "outputs": [
    {
     "name": "stdin",
     "output_type": "stream",
     "text": [
      "enter age:  gkjsdl\n"
     ]
    },
    {
     "name": "stdout",
     "output_type": "stream",
     "text": [
      "enter your age\n"
     ]
    }
   ],
   "source": [
    "try:\n",
    "    myAge=int(input(\"enter age: \"))\n",
    "    print(myAge*2)\n",
    "except:\n",
    "    print(\"enter your age\")"
   ]
  },
  {
   "cell_type": "code",
   "execution_count": null,
   "id": "073ed4d9-7bbe-4b81-be3d-21c9b45000c0",
   "metadata": {},
   "outputs": [],
   "source": []
  }
 ],
 "metadata": {
  "kernelspec": {
   "display_name": "Python [conda env:base] *",
   "language": "python",
   "name": "conda-base-py"
  },
  "language_info": {
   "codemirror_mode": {
    "name": "ipython",
    "version": 3
   },
   "file_extension": ".py",
   "mimetype": "text/x-python",
   "name": "python",
   "nbconvert_exporter": "python",
   "pygments_lexer": "ipython3",
   "version": "3.12.7"
  }
 },
 "nbformat": 4,
 "nbformat_minor": 5
}
