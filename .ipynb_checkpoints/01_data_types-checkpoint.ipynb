{
 "cells": [
  {
   "cell_type": "markdown",
   "id": "ed4c0887-5fda-4fff-ac8f-d7e0bc625dc8",
   "metadata": {},
   "source": [
    "# DataTypes"
   ]
  },
  {
   "cell_type": "code",
   "execution_count": null,
   "id": "813f6e9c-5d7c-41b4-8471-80dd6259402c",
   "metadata": {},
   "outputs": [],
   "source": [
    "# type()  find variable type"
   ]
  },
  {
   "cell_type": "code",
   "execution_count": 3,
   "id": "01d59a3d-4193-4f7d-8ba7-434fa1ec6194",
   "metadata": {},
   "outputs": [],
   "source": [
    "# Int vs Float"
   ]
  },
  {
   "cell_type": "code",
   "execution_count": 4,
   "id": "aeae7fe2-730d-44e4-ad40-0f2f44cd7b61",
   "metadata": {},
   "outputs": [],
   "source": [
    "number=10 "
   ]
  },
  {
   "cell_type": "code",
   "execution_count": 5,
   "id": "d996e741-a4e7-4a3d-b50e-ca6767a23e54",
   "metadata": {},
   "outputs": [
    {
     "data": {
      "text/plain": [
       "int"
      ]
     },
     "execution_count": 5,
     "metadata": {},
     "output_type": "execute_result"
    }
   ],
   "source": [
    "type(number) #int"
   ]
  },
  {
   "cell_type": "code",
   "execution_count": 6,
   "id": "95db0f7a-8ba9-4638-b60a-d75b6606cc62",
   "metadata": {},
   "outputs": [],
   "source": [
    "pi=3.14 "
   ]
  },
  {
   "cell_type": "code",
   "execution_count": 7,
   "id": "a33d40d6-9b80-4cf8-b336-b18033634242",
   "metadata": {},
   "outputs": [
    {
     "data": {
      "text/plain": [
       "float"
      ]
     },
     "execution_count": 7,
     "metadata": {},
     "output_type": "execute_result"
    }
   ],
   "source": [
    "type(pi) # float"
   ]
  },
  {
   "cell_type": "code",
   "execution_count": 8,
   "id": "b68937c4-c281-466b-97c5-86f26c727f21",
   "metadata": {},
   "outputs": [
    {
     "data": {
      "text/plain": [
       "31.400000000000002"
      ]
     },
     "execution_count": 8,
     "metadata": {},
     "output_type": "execute_result"
    }
   ],
   "source": [
    "number*pi # 31.400000000000002"
   ]
  },
  {
   "cell_type": "code",
   "execution_count": 9,
   "id": "8c97ade7-80cb-4ecb-9499-29d5fa1383fa",
   "metadata": {},
   "outputs": [
    {
     "data": {
      "text/plain": [
       "3.184713375796178"
      ]
     },
     "execution_count": 9,
     "metadata": {},
     "output_type": "execute_result"
    }
   ],
   "source": [
    "number/pi #3.184713375796178"
   ]
  },
  {
   "cell_type": "code",
   "execution_count": 10,
   "id": "21787743-5576-4c5b-9b85-5eb7f5e486f6",
   "metadata": {},
   "outputs": [
    {
     "data": {
      "text/plain": [
       "6.859999999999999"
      ]
     },
     "execution_count": 10,
     "metadata": {},
     "output_type": "execute_result"
    }
   ],
   "source": [
    "number-pi # 6.859999999999999"
   ]
  },
  {
   "cell_type": "code",
   "execution_count": 11,
   "id": "9d741d93-4804-4eea-8a0f-8e609f25452c",
   "metadata": {},
   "outputs": [
    {
     "data": {
      "text/plain": [
       "13.14"
      ]
     },
     "execution_count": 11,
     "metadata": {},
     "output_type": "execute_result"
    }
   ],
   "source": [
    "number+pi # 13.14"
   ]
  },
  {
   "cell_type": "code",
   "execution_count": 12,
   "id": "982ae0af-7f82-4877-87b6-ba86a9f50165",
   "metadata": {},
   "outputs": [],
   "source": [
    "# String"
   ]
  },
  {
   "cell_type": "code",
   "execution_count": 13,
   "id": "3446315e-2613-404d-a04c-be35115f776f",
   "metadata": {},
   "outputs": [],
   "source": [
    "hello=\"Hello World\""
   ]
  },
  {
   "cell_type": "code",
   "execution_count": 14,
   "id": "e096ae83-1f62-45ed-a19d-4c92864412b0",
   "metadata": {},
   "outputs": [
    {
     "data": {
      "text/plain": [
       "'Hello World'"
      ]
     },
     "execution_count": 14,
     "metadata": {},
     "output_type": "execute_result"
    }
   ],
   "source": [
    "hello # 'Hello World'"
   ]
  },
  {
   "cell_type": "code",
   "execution_count": 15,
   "id": "ded88764-6691-470d-9d3d-64a8f0c4ec8a",
   "metadata": {},
   "outputs": [
    {
     "data": {
      "text/plain": [
       "str"
      ]
     },
     "execution_count": 15,
     "metadata": {},
     "output_type": "execute_result"
    }
   ],
   "source": [
    "type(hello) # str (String)"
   ]
  },
  {
   "cell_type": "code",
   "execution_count": 16,
   "id": "a39f8af8-8b54-4184-9612-b1e2e3f12186",
   "metadata": {},
   "outputs": [
    {
     "data": {
      "text/plain": [
       "'HelloWorld'"
      ]
     },
     "execution_count": 16,
     "metadata": {},
     "output_type": "execute_result"
    }
   ],
   "source": [
    "hello=\"Hello\"\n",
    "world=\"World\"\n",
    "hello+world # 'HelloWorld'"
   ]
  },
  {
   "cell_type": "code",
   "execution_count": 17,
   "id": "d12b3370-68d9-46d6-a0d4-c5ab0d7a68ea",
   "metadata": {},
   "outputs": [
    {
     "name": "stdout",
     "output_type": "stream",
     "text": [
      "Hello\n"
     ]
    }
   ],
   "source": [
    "print(hello) # Hello "
   ]
  },
  {
   "cell_type": "code",
   "execution_count": 19,
   "id": "886c420c-6d81-4272-86db-1fc5c4535ff9",
   "metadata": {},
   "outputs": [],
   "source": [
    "#String Methods"
   ]
  },
  {
   "cell_type": "code",
   "execution_count": 20,
   "id": "c48982cf-a9bd-4d33-b798-43ea9f9e2eec",
   "metadata": {},
   "outputs": [],
   "source": [
    "name=\"python programming\""
   ]
  },
  {
   "cell_type": "code",
   "execution_count": 21,
   "id": "d9339ca2-8df3-48c5-85ae-7615eb4e359d",
   "metadata": {},
   "outputs": [
    {
     "data": {
      "text/plain": [
       "'Python programming'"
      ]
     },
     "execution_count": 21,
     "metadata": {},
     "output_type": "execute_result"
    }
   ],
   "source": [
    "#capitalize() first \n",
    "name.capitalize() # 'Python programming' "
   ]
  },
  {
   "cell_type": "code",
   "execution_count": 22,
   "id": "277ede0e-60f2-4d37-9b53-6c2d55fdbf70",
   "metadata": {},
   "outputs": [
    {
     "name": "stdout",
     "output_type": "stream",
     "text": [
      "Help on built-in function count:\n",
      "\n",
      "count(...) method of builtins.str instance\n",
      "    S.count(sub[, start[, end]]) -> int\n",
      "\n",
      "    Return the number of non-overlapping occurrences of substring sub in\n",
      "    string S[start:end].  Optional arguments start and end are\n",
      "    interpreted as in slice notation.\n",
      "\n"
     ]
    }
   ],
   "source": [
    "help(name.count)"
   ]
  },
  {
   "cell_type": "code",
   "execution_count": 23,
   "id": "a1a4d294-37d2-40d3-ae00-6cb60ebfcacc",
   "metadata": {},
   "outputs": [
    {
     "name": "stdout",
     "output_type": "stream",
     "text": [
      "Help on built-in function capitalize:\n",
      "\n",
      "capitalize() method of builtins.str instance\n",
      "    Return a capitalized version of the string.\n",
      "\n",
      "    More specifically, make the first character have upper case and the rest lower\n",
      "    case.\n",
      "\n"
     ]
    }
   ],
   "source": [
    "help(name.capitalize)"
   ]
  },
  {
   "cell_type": "code",
   "execution_count": 24,
   "id": "93b564bc-6d94-4283-ba83-d52d4cb5ab0c",
   "metadata": {},
   "outputs": [
    {
     "data": {
      "text/plain": [
       "2"
      ]
     },
     "execution_count": 24,
     "metadata": {},
     "output_type": "execute_result"
    }
   ],
   "source": [
    "name.count(\"p\") #2"
   ]
  },
  {
   "cell_type": "code",
   "execution_count": 25,
   "id": "65c7a936-515d-4fec-8fd5-d8aa42a83a76",
   "metadata": {},
   "outputs": [
    {
     "data": {
      "text/plain": [
       "'PYTHON PROGRAMMING'"
      ]
     },
     "execution_count": 25,
     "metadata": {},
     "output_type": "execute_result"
    }
   ],
   "source": [
    "name.upper() # 'PYTHON PROGRAMMING'"
   ]
  },
  {
   "cell_type": "code",
   "execution_count": 26,
   "id": "aa785429-56d7-449a-93c4-6df9bf208326",
   "metadata": {},
   "outputs": [
    {
     "data": {
      "text/plain": [
       "18"
      ]
     },
     "execution_count": 26,
     "metadata": {},
     "output_type": "execute_result"
    }
   ],
   "source": [
    "len(name) # 18 (String lenght)"
   ]
  },
  {
   "cell_type": "code",
   "execution_count": 27,
   "id": "864bdae1-79c4-45c7-ab1a-33a4c8a00afa",
   "metadata": {},
   "outputs": [
    {
     "name": "stdout",
     "output_type": "stream",
     "text": [
      "Python \n",
      "Programmng\n"
     ]
    }
   ],
   "source": [
    "print(\"Python \\nProgrammng\") # \\n : new line"
   ]
  },
  {
   "cell_type": "code",
   "execution_count": 28,
   "id": "acd16be9-e25c-469b-8859-738ed505fece",
   "metadata": {},
   "outputs": [
    {
     "name": "stdout",
     "output_type": "stream",
     "text": [
      "Python \tProgrammng\n"
     ]
    }
   ],
   "source": [
    "print(\"Python \\tProgrammng\") # \\t : tab"
   ]
  }
 ],
 "metadata": {
  "kernelspec": {
   "display_name": "Python [conda env:base] *",
   "language": "python",
   "name": "conda-base-py"
  },
  "language_info": {
   "codemirror_mode": {
    "name": "ipython",
    "version": 3
   },
   "file_extension": ".py",
   "mimetype": "text/x-python",
   "name": "python",
   "nbconvert_exporter": "python",
   "pygments_lexer": "ipython3",
   "version": "3.12.7"
  }
 },
 "nbformat": 4,
 "nbformat_minor": 5
}
