{
 "cells": [
  {
   "cell_type": "code",
   "execution_count": 1,
   "id": "795b93db-ffb4-42c1-9781-1b80b848b4b8",
   "metadata": {},
   "outputs": [],
   "source": [
    "#continue, break, pass"
   ]
  },
  {
   "cell_type": "code",
   "execution_count": 3,
   "id": "b68b480b-0f09-4e4a-88dd-4b08419ec7ba",
   "metadata": {},
   "outputs": [],
   "source": [
    "my_list=[10,20,30,40,50,60,70]"
   ]
  },
  {
   "cell_type": "code",
   "execution_count": 7,
   "id": "1af21dc4-1878-4cb6-be04-540cc033cf6a",
   "metadata": {},
   "outputs": [
    {
     "name": "stdout",
     "output_type": "stream",
     "text": [
      "started for loop\n",
      "10\n",
      "20\n",
      "30\n",
      "40\n",
      "50\n",
      "60\n",
      "70\n",
      "ended for loop\n"
     ]
    }
   ],
   "source": [
    "print(\"started for loop\")\n",
    "for i in my_list:\n",
    "    print(i)\n",
    "print(\"ended for loop\")"
   ]
  },
  {
   "cell_type": "code",
   "execution_count": 19,
   "id": "0385f851-3188-427f-9853-78712bedc1bb",
   "metadata": {},
   "outputs": [
    {
     "name": "stdout",
     "output_type": "stream",
     "text": [
      "10\n",
      "20\n",
      "30\n",
      "40\n",
      "yes\n"
     ]
    }
   ],
   "source": [
    "for number in my_list:\n",
    "    print(number)\n",
    "    if number==40:\n",
    "        print(\"yes\")\n",
    "        break\n"
   ]
  },
  {
   "cell_type": "code",
   "execution_count": 21,
   "id": "7689f907-7deb-425a-8ded-5916c28ecbe0",
   "metadata": {},
   "outputs": [
    {
     "name": "stdout",
     "output_type": "stream",
     "text": [
      "10\n",
      "20\n",
      "30\n",
      "40\n",
      "yes\n",
      "50\n",
      "60\n",
      "70\n"
     ]
    }
   ],
   "source": [
    "for number in my_list:\n",
    "    print(number)\n",
    "    if number==40:\n",
    "        continue\n",
    "        print(\"yes\")\n",
    "        "
   ]
  },
  {
   "cell_type": "code",
   "execution_count": null,
   "id": "06153bf6-f5db-43d2-aa27-eab014508fb1",
   "metadata": {},
   "outputs": [],
   "source": []
  }
 ],
 "metadata": {
  "kernelspec": {
   "display_name": "Python [conda env:base] *",
   "language": "python",
   "name": "conda-base-py"
  },
  "language_info": {
   "codemirror_mode": {
    "name": "ipython",
    "version": 3
   },
   "file_extension": ".py",
   "mimetype": "text/x-python",
   "name": "python",
   "nbconvert_exporter": "python",
   "pygments_lexer": "ipython3",
   "version": "3.12.7"
  }
 },
 "nbformat": 4,
 "nbformat_minor": 5
}
