{
 "cells": [
  {
   "cell_type": "code",
   "execution_count": null,
   "id": "84bbc182-b783-4a22-9f63-ecbf8fd8f61b",
   "metadata": {},
   "outputs": [],
   "source": [
    "# Restart Kernel and Run All Cell..."
   ]
  },
  {
   "cell_type": "markdown",
   "id": "de96dc44-e1e7-47b9-a337-f6b75f2ec64c",
   "metadata": {},
   "source": [
    "# Classes"
   ]
  },
  {
   "cell_type": "code",
   "execution_count": 2,
   "id": "08387840-36e4-4a85-bcb5-28db963ce819",
   "metadata": {},
   "outputs": [],
   "source": [
    "aliName=\"Ali\""
   ]
  },
  {
   "cell_type": "code",
   "execution_count": 3,
   "id": "29172879-ff4b-4786-b601-a43bf4153650",
   "metadata": {},
   "outputs": [],
   "source": [
    "aliAge=60"
   ]
  },
  {
   "cell_type": "code",
   "execution_count": 4,
   "id": "85cf8154-aa57-4420-bd5f-b9f111d6c52d",
   "metadata": {},
   "outputs": [],
   "source": [
    "aliGender=\"Male\""
   ]
  },
  {
   "cell_type": "code",
   "execution_count": 5,
   "id": "19550ba8-b1e8-4820-bdfd-de1b371fdee0",
   "metadata": {},
   "outputs": [],
   "source": [
    "ayseName=\"Ayse\""
   ]
  },
  {
   "cell_type": "code",
   "execution_count": 6,
   "id": "153152c7-00e8-40db-9321-1c974361413c",
   "metadata": {},
   "outputs": [],
   "source": [
    "ayseAge=70"
   ]
  },
  {
   "cell_type": "code",
   "execution_count": 7,
   "id": "00789ba4-6b64-4934-baa4-7ecb23859f7f",
   "metadata": {},
   "outputs": [],
   "source": [
    "ayseGender=\"Female\""
   ]
  },
  {
   "cell_type": "code",
   "execution_count": 8,
   "id": "b79dae5e-5d96-483c-a448-0466bf39c4a9",
   "metadata": {},
   "outputs": [],
   "source": [
    "class Person():\n",
    "    #property\n",
    "    #name=\"\"\n",
    "    #age=0\n",
    "    #gender=\"\"\n",
    "    job = \"\" # not required\n",
    "    #initializer method \n",
    "    def __init__(self, name, age, gender):\n",
    "        # all required\n",
    "        self.name=name\n",
    "        self.age=age\n",
    "        self.gender=gender\n",
    "        print(\"init executed\")\n",
    "    def printName(self):\n",
    "        print(self.name)\n",
    "        "
   ]
  },
  {
   "cell_type": "code",
   "execution_count": 9,
   "id": "df665303-a03a-4d87-9a38-ab144ecdaa87",
   "metadata": {},
   "outputs": [
    {
     "name": "stdout",
     "output_type": "stream",
     "text": [
      "init executed\n"
     ]
    }
   ],
   "source": [
    "ali=Person(\"Ali\",35,\"Male\")"
   ]
  },
  {
   "cell_type": "code",
   "execution_count": 10,
   "id": "08fb2bfb-e202-482e-a975-50ec010aabe0",
   "metadata": {},
   "outputs": [
    {
     "data": {
      "text/plain": [
       "__main__.Person"
      ]
     },
     "execution_count": 10,
     "metadata": {},
     "output_type": "execute_result"
    }
   ],
   "source": [
    "type(ali)"
   ]
  },
  {
   "cell_type": "code",
   "execution_count": 11,
   "id": "3231d189-85c7-4460-ba12-194a6659c5ee",
   "metadata": {},
   "outputs": [
    {
     "data": {
      "text/plain": [
       "'Ali'"
      ]
     },
     "execution_count": 11,
     "metadata": {},
     "output_type": "execute_result"
    }
   ],
   "source": [
    "ali.name"
   ]
  },
  {
   "cell_type": "code",
   "execution_count": 12,
   "id": "9d3a046a-6785-494d-b376-7e13575dc266",
   "metadata": {},
   "outputs": [
    {
     "data": {
      "text/plain": [
       "35"
      ]
     },
     "execution_count": 12,
     "metadata": {},
     "output_type": "execute_result"
    }
   ],
   "source": [
    "ali.age"
   ]
  },
  {
   "cell_type": "code",
   "execution_count": 13,
   "id": "40ba7f00-7e68-430e-9af2-e10cf1ee9b34",
   "metadata": {},
   "outputs": [
    {
     "data": {
      "text/plain": [
       "'Male'"
      ]
     },
     "execution_count": 13,
     "metadata": {},
     "output_type": "execute_result"
    }
   ],
   "source": [
    "ali.gender"
   ]
  },
  {
   "cell_type": "code",
   "execution_count": 14,
   "id": "81d3e8a9-1947-42ac-9ddc-ab853581bf69",
   "metadata": {},
   "outputs": [
    {
     "name": "stdout",
     "output_type": "stream",
     "text": [
      "Ali\n"
     ]
    }
   ],
   "source": [
    "ali.printName()"
   ]
  },
  {
   "cell_type": "code",
   "execution_count": 15,
   "id": "5b843ce6-7d0d-43a9-ae8a-a0010f1c7c0e",
   "metadata": {},
   "outputs": [],
   "source": [
    "ali.job=\"Developer\""
   ]
  },
  {
   "cell_type": "code",
   "execution_count": 16,
   "id": "7f10739a-167f-477c-a53e-12e90eb63731",
   "metadata": {},
   "outputs": [
    {
     "data": {
      "text/plain": [
       "'Developer'"
      ]
     },
     "execution_count": 16,
     "metadata": {},
     "output_type": "execute_result"
    }
   ],
   "source": [
    "ali.job"
   ]
  },
  {
   "cell_type": "code",
   "execution_count": 17,
   "id": "4a93cde4-47c2-4f4e-ae47-60fea6f2a45f",
   "metadata": {},
   "outputs": [],
   "source": [
    "class Dog():\n",
    "    year=7\n",
    "  \n",
    "    def __init__(self,age=5): # age=5 initial age value not required (age)\n",
    "        self.age = age\n",
    "        self.dogHumanAge = age*self.year #same  humanAge(self) method\n",
    "    def humanAge(self):\n",
    "        return self.age*self.year  #self.year->Dog.year\n",
    "        "
   ]
  },
  {
   "cell_type": "code",
   "execution_count": 18,
   "id": "21480634-cece-4c0a-b966-56e097995f7c",
   "metadata": {},
   "outputs": [],
   "source": [
    "myDog=Dog(3)"
   ]
  },
  {
   "cell_type": "code",
   "execution_count": 19,
   "id": "1359ec0c-201d-40e1-b46e-e69d1221270f",
   "metadata": {},
   "outputs": [
    {
     "data": {
      "text/plain": [
       "3"
      ]
     },
     "execution_count": 19,
     "metadata": {},
     "output_type": "execute_result"
    }
   ],
   "source": [
    "myDog.age"
   ]
  },
  {
   "cell_type": "code",
   "execution_count": 20,
   "id": "a2b0c3d0-61ac-4410-8054-6288afba4941",
   "metadata": {},
   "outputs": [
    {
     "data": {
      "text/plain": [
       "21"
      ]
     },
     "execution_count": 20,
     "metadata": {},
     "output_type": "execute_result"
    }
   ],
   "source": [
    "myDog.humanAge()"
   ]
  },
  {
   "cell_type": "code",
   "execution_count": 21,
   "id": "c8c09f57-374d-4d9f-bb86-a73cf639339f",
   "metadata": {},
   "outputs": [
    {
     "data": {
      "text/plain": [
       "21"
      ]
     },
     "execution_count": 21,
     "metadata": {},
     "output_type": "execute_result"
    }
   ],
   "source": [
    "myDog.dogHumanAge"
   ]
  },
  {
   "cell_type": "code",
   "execution_count": 22,
   "id": "4edcdc23-8cf4-4ed1-b1ae-12d1722ec499",
   "metadata": {},
   "outputs": [],
   "source": [
    "barley=Dog()"
   ]
  },
  {
   "cell_type": "code",
   "execution_count": 23,
   "id": "d90bf5cc-f5a7-48e0-95bc-138e8e28cc5e",
   "metadata": {},
   "outputs": [
    {
     "data": {
      "text/plain": [
       "5"
      ]
     },
     "execution_count": 23,
     "metadata": {},
     "output_type": "execute_result"
    }
   ],
   "source": [
    "barley.age"
   ]
  },
  {
   "cell_type": "code",
   "execution_count": 24,
   "id": "b17bc372-c52c-4d16-ade3-6fdacadcfc03",
   "metadata": {},
   "outputs": [
    {
     "data": {
      "text/plain": [
       "35"
      ]
     },
     "execution_count": 24,
     "metadata": {},
     "output_type": "execute_result"
    }
   ],
   "source": [
    "barley.dogHumanAge"
   ]
  },
  {
   "cell_type": "code",
   "execution_count": null,
   "id": "327bc328-d50d-440b-9b8c-36adfdc79875",
   "metadata": {},
   "outputs": [],
   "source": []
  }
 ],
 "metadata": {
  "kernelspec": {
   "display_name": "Python [conda env:base] *",
   "language": "python",
   "name": "conda-base-py"
  },
  "language_info": {
   "codemirror_mode": {
    "name": "ipython",
    "version": 3
   },
   "file_extension": ".py",
   "mimetype": "text/x-python",
   "name": "python",
   "nbconvert_exporter": "python",
   "pygments_lexer": "ipython3",
   "version": "3.12.7"
  }
 },
 "nbformat": 4,
 "nbformat_minor": 5
}
