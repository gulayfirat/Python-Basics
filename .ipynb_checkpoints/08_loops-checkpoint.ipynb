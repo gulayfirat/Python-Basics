{
 "cells": [
  {
   "cell_type": "code",
   "execution_count": 1,
   "id": "40721e65-c9a1-4f6c-84fb-84a1db52240b",
   "metadata": {},
   "outputs": [],
   "source": [
    "# Restart Kernel and Run All Cell..."
   ]
  },
  {
   "cell_type": "code",
   "execution_count": 2,
   "id": "dac3ddb2-010c-4172-8b54-18f6a0b4632f",
   "metadata": {},
   "outputs": [],
   "source": [
    "# for and while loops"
   ]
  },
  {
   "cell_type": "code",
   "execution_count": 3,
   "id": "2915b7f8-ac10-46ab-8a81-4242e26fbbf3",
   "metadata": {},
   "outputs": [],
   "source": [
    "# for loop"
   ]
  },
  {
   "cell_type": "code",
   "execution_count": 4,
   "id": "5ab5d6cb-7cc6-451b-9386-eefcd9b961ff",
   "metadata": {},
   "outputs": [],
   "source": [
    "my_list = [10,20,30,40,50,60,70]"
   ]
  },
  {
   "cell_type": "code",
   "execution_count": 5,
   "id": "0d5673e6-f9a8-4f56-89e1-84cf5ca3a3fe",
   "metadata": {},
   "outputs": [
    {
     "name": "stdout",
     "output_type": "stream",
     "text": [
      "10\n",
      "20\n",
      "30\n",
      "40\n",
      "50\n",
      "60\n",
      "70\n"
     ]
    }
   ],
   "source": [
    "for number in my_list:\n",
    "    print(number)"
   ]
  },
  {
   "cell_type": "code",
   "execution_count": 6,
   "id": "f04ded3f-9c66-484c-ae16-d16216deec4a",
   "metadata": {},
   "outputs": [
    {
     "name": "stdout",
     "output_type": "stream",
     "text": [
      "for loop started\n",
      "4.0\n",
      "8.0\n",
      "12.0\n",
      "16.0\n",
      "20.0\n",
      "24.0\n",
      "28.0\n",
      "for loop ended\n"
     ]
    }
   ],
   "source": [
    "print(\"for loop started\")\n",
    "for x in my_list:\n",
    "    new_number=x/5*2\n",
    "    print(new_number)\n",
    "print(\"for loop ended\")"
   ]
  },
  {
   "cell_type": "code",
   "execution_count": 7,
   "id": "f8ada960-3de4-450e-bffa-a74cfc17ee60",
   "metadata": {},
   "outputs": [
    {
     "name": "stdout",
     "output_type": "stream",
     "text": [
      "Object `random` not found.\n"
     ]
    }
   ],
   "source": [
    "?random"
   ]
  },
  {
   "cell_type": "code",
   "execution_count": 8,
   "id": "7ec58670-9bbd-4dfd-854f-75e80a0b0a92",
   "metadata": {},
   "outputs": [
    {
     "data": {
      "text/plain": [
       "[10, 20, 30, 40, 50, 60, 70]"
      ]
     },
     "execution_count": 8,
     "metadata": {},
     "output_type": "execute_result"
    }
   ],
   "source": [
    "my_list"
   ]
  },
  {
   "cell_type": "code",
   "execution_count": 9,
   "id": "fb92e286-6857-4d70-8388-df1b9c0d1c2a",
   "metadata": {},
   "outputs": [
    {
     "name": "stdout",
     "output_type": "stream",
     "text": [
      "30\n",
      "60\n"
     ]
    }
   ],
   "source": [
    "for i in my_list:\n",
    "    if i%6==0:\n",
    "        print(i)\n"
   ]
  },
  {
   "cell_type": "code",
   "execution_count": 10,
   "id": "d3b05116-d00f-4442-af2c-d68f9b67b68c",
   "metadata": {},
   "outputs": [],
   "source": [
    "number_list=[1,2,3,4,5,6,7,8,9,10]"
   ]
  },
  {
   "cell_type": "code",
   "execution_count": 11,
   "id": "f2301661-04fb-4b82-bc81-19c39b95620f",
   "metadata": {},
   "outputs": [
    {
     "name": "stdout",
     "output_type": "stream",
     "text": [
      "2\n",
      "4\n",
      "6\n",
      "8\n",
      "10\n"
     ]
    }
   ],
   "source": [
    "for i in number_list:\n",
    "    if i%2==0:\n",
    "        print(i)"
   ]
  },
  {
   "cell_type": "code",
   "execution_count": 12,
   "id": "a83bf1d8-4ae5-4736-b53d-58e98c86f713",
   "metadata": {},
   "outputs": [],
   "source": [
    "my_string=\"Python Programming\""
   ]
  },
  {
   "cell_type": "code",
   "execution_count": 13,
   "id": "0879320f-6562-4951-b3e3-9d324d3585ed",
   "metadata": {
    "scrolled": true
   },
   "outputs": [
    {
     "name": "stdout",
     "output_type": "stream",
     "text": [
      "P\n",
      "y\n",
      "t\n",
      "h\n",
      "o\n",
      "n\n",
      " \n",
      "P\n",
      "r\n",
      "o\n",
      "g\n",
      "r\n",
      "a\n",
      "m\n",
      "m\n",
      "i\n",
      "n\n",
      "g\n"
     ]
    }
   ],
   "source": [
    "for char in my_string:\n",
    "    print(char)"
   ]
  },
  {
   "cell_type": "code",
   "execution_count": 35,
   "id": "0491fa26-62c7-4610-95d4-3bc6bf5692c4",
   "metadata": {},
   "outputs": [],
   "source": [
    "my_tuple=(10,20,30,40,50,60,70)"
   ]
  },
  {
   "cell_type": "code",
   "execution_count": 39,
   "id": "56d2e7e6-0900-4cf0-a2a9-600969921186",
   "metadata": {},
   "outputs": [
    {
     "name": "stdout",
     "output_type": "stream",
     "text": [
      "4.0\n",
      "8.0\n",
      "12.0\n",
      "16.0\n",
      "20.0\n",
      "24.0\n",
      "28.0\n"
     ]
    }
   ],
   "source": [
    "for num in my_tuple:\n",
    "    print(num/5*2)"
   ]
  },
  {
   "cell_type": "code",
   "execution_count": 41,
   "id": "3a72d46c-e714-43bc-9f6a-79dea0571d5f",
   "metadata": {},
   "outputs": [
    {
     "data": {
      "text/plain": [
       "(10, 20, 30, 40, 50, 60, 70)"
      ]
     },
     "execution_count": 41,
     "metadata": {},
     "output_type": "execute_result"
    }
   ],
   "source": [
    "my_tuple"
   ]
  },
  {
   "cell_type": "code",
   "execution_count": 43,
   "id": "b52dcd5a-dddf-4d18-a682-a890d96931f6",
   "metadata": {},
   "outputs": [],
   "source": [
    "my_new_list=[(\"a\",\"b\"),(\"c\",\"d\"),(\"e\",\"f\"),(\"g\",\"h\")]"
   ]
  },
  {
   "cell_type": "code",
   "execution_count": 45,
   "id": "d459ba8f-dd1e-4a94-8579-76c01556ac4c",
   "metadata": {},
   "outputs": [
    {
     "data": {
      "text/plain": [
       "4"
      ]
     },
     "execution_count": 45,
     "metadata": {},
     "output_type": "execute_result"
    }
   ],
   "source": [
    "len(my_new_list)"
   ]
  },
  {
   "cell_type": "code",
   "execution_count": 47,
   "id": "0ce0ddb2-6874-4659-90df-c02606d7b1ee",
   "metadata": {},
   "outputs": [
    {
     "data": {
      "text/plain": [
       "('a', 'b')"
      ]
     },
     "execution_count": 47,
     "metadata": {},
     "output_type": "execute_result"
    }
   ],
   "source": [
    "my_new_list[0]"
   ]
  },
  {
   "cell_type": "code",
   "execution_count": 51,
   "id": "210217aa-3dbc-4194-a558-23b8632074b6",
   "metadata": {},
   "outputs": [
    {
     "name": "stdout",
     "output_type": "stream",
     "text": [
      "('a', 'b')\n",
      "('c', 'd')\n",
      "('e', 'f')\n",
      "('g', 'h')\n"
     ]
    }
   ],
   "source": [
    "for element in my_new_list:\n",
    "    print(element)"
   ]
  },
  {
   "cell_type": "code",
   "execution_count": 53,
   "id": "be75874a-d2e7-4e9e-951d-f0bff61c8022",
   "metadata": {},
   "outputs": [],
   "source": [
    "#tuple unpacking"
   ]
  },
  {
   "cell_type": "code",
   "execution_count": 55,
   "id": "b21551ff-5e53-4fc3-bfa3-2d2b15fb7bfe",
   "metadata": {},
   "outputs": [
    {
     "data": {
      "text/plain": [
       "'a'"
      ]
     },
     "execution_count": 55,
     "metadata": {},
     "output_type": "execute_result"
    }
   ],
   "source": [
    "my_new_list[0][0]"
   ]
  },
  {
   "cell_type": "code",
   "execution_count": 57,
   "id": "03153bbf-a9bb-4125-8e9e-0f8563df6203",
   "metadata": {},
   "outputs": [
    {
     "name": "stdout",
     "output_type": "stream",
     "text": [
      "b\n",
      "d\n",
      "f\n",
      "h\n"
     ]
    }
   ],
   "source": [
    "for (x,y) in my_new_list:\n",
    "    print(y)"
   ]
  },
  {
   "cell_type": "code",
   "execution_count": 61,
   "id": "58ee914d-f8db-4800-8584-c061d7bb56e7",
   "metadata": {},
   "outputs": [],
   "source": [
    "my_tuple_list=[(0,1,2),(3,4,5),(6,7,8),(9,10,11)]"
   ]
  },
  {
   "cell_type": "code",
   "execution_count": 63,
   "id": "dbebcc58-3426-418c-aabb-ed4ded3ede3d",
   "metadata": {},
   "outputs": [
    {
     "data": {
      "text/plain": [
       "4"
      ]
     },
     "execution_count": 63,
     "metadata": {},
     "output_type": "execute_result"
    }
   ],
   "source": [
    "len(my_tuple_list)"
   ]
  },
  {
   "cell_type": "code",
   "execution_count": 67,
   "id": "611f6139-f8b8-4b2b-b1e3-9d0637289fe7",
   "metadata": {},
   "outputs": [
    {
     "name": "stdout",
     "output_type": "stream",
     "text": [
      "0\n",
      "3\n",
      "6\n",
      "9\n"
     ]
    }
   ],
   "source": [
    "for (x,y,z) in my_tuple_list:\n",
    "    print(x)"
   ]
  },
  {
   "cell_type": "code",
   "execution_count": 69,
   "id": "fd7c142f-3660-495f-8598-0a34098d677d",
   "metadata": {},
   "outputs": [],
   "source": [
    "my_set={1,2,3,4,5}"
   ]
  },
  {
   "cell_type": "code",
   "execution_count": 71,
   "id": "dbc76a79-b156-434b-ac45-06e8604cb49d",
   "metadata": {},
   "outputs": [
    {
     "data": {
      "text/plain": [
       "5"
      ]
     },
     "execution_count": 71,
     "metadata": {},
     "output_type": "execute_result"
    }
   ],
   "source": [
    "len(my_set)"
   ]
  },
  {
   "cell_type": "code",
   "execution_count": 73,
   "id": "ab2c7234-373f-45c0-800b-c7af2d73d3d4",
   "metadata": {},
   "outputs": [
    {
     "data": {
      "text/plain": [
       "set"
      ]
     },
     "execution_count": 73,
     "metadata": {},
     "output_type": "execute_result"
    }
   ],
   "source": [
    "type(my_set)"
   ]
  },
  {
   "cell_type": "code",
   "execution_count": 75,
   "id": "c015649a-a0ee-4f7c-8d62-63007f27ccd7",
   "metadata": {},
   "outputs": [],
   "source": [
    "my_dictionary={\"k1\":100,\"k2\":200,\"k3\":300}"
   ]
  },
  {
   "cell_type": "code",
   "execution_count": 81,
   "id": "a1e92305-fbf6-4466-ae5a-3f39536ac787",
   "metadata": {},
   "outputs": [
    {
     "name": "stdout",
     "output_type": "stream",
     "text": [
      "k1\n",
      "k2\n",
      "k3\n"
     ]
    }
   ],
   "source": [
    "for element in my_dictionary:\n",
    "    print(element)"
   ]
  },
  {
   "cell_type": "code",
   "execution_count": 83,
   "id": "617b14ec-eecc-45fe-8218-849db3767b20",
   "metadata": {},
   "outputs": [
    {
     "data": {
      "text/plain": [
       "dict_items([('k1', 100), ('k2', 200), ('k3', 300)])"
      ]
     },
     "execution_count": 83,
     "metadata": {},
     "output_type": "execute_result"
    }
   ],
   "source": [
    "my_dictionary.items()"
   ]
  },
  {
   "cell_type": "code",
   "execution_count": 87,
   "id": "023b6cd2-048c-44ec-ba4c-63eda1596eea",
   "metadata": {},
   "outputs": [
    {
     "name": "stdout",
     "output_type": "stream",
     "text": [
      "100\n",
      "200\n",
      "300\n"
     ]
    }
   ],
   "source": [
    "for (key, value) in my_dictionary.items():\n",
    "    print(value)"
   ]
  },
  {
   "cell_type": "code",
   "execution_count": 89,
   "id": "1928275b-bbd8-4f7c-8c54-55d00b42f2fe",
   "metadata": {},
   "outputs": [
    {
     "name": "stdout",
     "output_type": "stream",
     "text": [
      "100\n",
      "200\n",
      "300\n"
     ]
    }
   ],
   "source": [
    "for num in my_dictionary.values():\n",
    "    print(num)"
   ]
  },
  {
   "cell_type": "code",
   "execution_count": null,
   "id": "709ab887-a8af-4660-a66a-b8d0f7787134",
   "metadata": {},
   "outputs": [],
   "source": [
    "#continue, break, pass"
   ]
  },
  {
   "cell_type": "code",
   "execution_count": 96,
   "id": "91acea62-f8cd-4da0-9c45-6bda7a5ad553",
   "metadata": {},
   "outputs": [],
   "source": [
    "my_list=[10,20,30,40,50,60,70]"
   ]
  },
  {
   "cell_type": "code",
   "execution_count": 99,
   "id": "1a6c5b1d-fac4-46f5-8b79-a866cba0e781",
   "metadata": {},
   "outputs": [
    {
     "name": "stdout",
     "output_type": "stream",
     "text": [
      "started for loop\n",
      "10\n",
      "20\n",
      "30\n",
      "40\n",
      "50\n",
      "60\n",
      "70\n",
      "ended for loop\n"
     ]
    }
   ],
   "source": [
    "print(\"started for loop\")\n",
    "for i in my_list:\n",
    "    print(i)\n",
    "print(\"ended for loop\")"
   ]
  },
  {
   "cell_type": "code",
   "execution_count": 102,
   "id": "5714cca6-ef92-4ff0-a403-3a1d8c338f4e",
   "metadata": {},
   "outputs": [
    {
     "name": "stdout",
     "output_type": "stream",
     "text": [
      "10\n",
      "20\n",
      "30\n",
      "40\n",
      "yes\n"
     ]
    }
   ],
   "source": [
    "for number in my_list:\n",
    "    print(number)\n",
    "    if number==40:\n",
    "        print(\"yes\")\n",
    "        break"
   ]
  },
  {
   "cell_type": "code",
   "execution_count": 105,
   "id": "17d68e58-96a0-4f44-93de-02e27eba4190",
   "metadata": {},
   "outputs": [
    {
     "name": "stdout",
     "output_type": "stream",
     "text": [
      "10\n",
      "20\n",
      "30\n",
      "50\n",
      "60\n",
      "70\n"
     ]
    }
   ],
   "source": [
    "for number in my_list:\n",
    "    if number==40:\n",
    "        continue\n",
    "    print(number)"
   ]
  },
  {
   "cell_type": "code",
   "execution_count": 108,
   "id": "08f03476-13f6-4d54-ad64-37b0ed0b1d6e",
   "metadata": {},
   "outputs": [],
   "source": [
    "for number in my_list:\n",
    "    pass"
   ]
  },
  {
   "cell_type": "code",
   "execution_count": 111,
   "id": "5a68d682-502c-4c16-997c-1c9acc0f5667",
   "metadata": {},
   "outputs": [],
   "source": [
    "#while"
   ]
  },
  {
   "cell_type": "code",
   "execution_count": 113,
   "id": "509e5d32-38fa-4091-8d6b-3c3011d7724a",
   "metadata": {},
   "outputs": [],
   "source": [
    "x=0"
   ]
  },
  {
   "cell_type": "code",
   "execution_count": 115,
   "id": "e3f16d89-c5b4-4ec8-a078-836b05a52293",
   "metadata": {},
   "outputs": [
    {
     "name": "stdout",
     "output_type": "stream",
     "text": [
      "started while loop\n",
      "0\n",
      "1\n",
      "2\n",
      "3\n",
      "4\n",
      "5\n",
      "6\n",
      "7\n",
      "8\n",
      "9\n",
      "ended while loop\n"
     ]
    }
   ],
   "source": [
    "print(\"started while loop\")\n",
    "while x<10:\n",
    "    print(x)\n",
    "    x=x+1\n",
    "print(\"ended while loop\")\n"
   ]
  },
  {
   "cell_type": "code",
   "execution_count": 125,
   "id": "9dab1952-ba9a-43ce-bd75-078d1d638050",
   "metadata": {},
   "outputs": [],
   "source": [
    "last_list=[10,20,30,40,50]"
   ]
  },
  {
   "cell_type": "code",
   "execution_count": 119,
   "id": "8e802f4d-8d6f-4891-ad16-3e40f9c8cdc0",
   "metadata": {},
   "outputs": [
    {
     "name": "stdout",
     "output_type": "stream",
     "text": [
      "20 in last_list\n"
     ]
    }
   ],
   "source": [
    "while 20 in last_list:\n",
    "    print(\"20 in last_list\")\n",
    "    last_list.remove(20)"
   ]
  },
  {
   "cell_type": "code",
   "execution_count": 127,
   "id": "2286a2a5-4ee2-4766-8c5e-08be7ce6984d",
   "metadata": {},
   "outputs": [
    {
     "name": "stdout",
     "output_type": "stream",
     "text": [
      "20 in last_list\n",
      "20 in last_list\n",
      "20 in last_list\n",
      "20 in last_list\n"
     ]
    }
   ],
   "source": [
    "while 20 in last_list:\n",
    "    print(\"20 in last_list\")\n",
    "    last_list.pop()"
   ]
  },
  {
   "cell_type": "code",
   "execution_count": 135,
   "id": "8cfb838d-c53f-4813-94e9-18fbcee2f6fe",
   "metadata": {},
   "outputs": [],
   "source": [
    "my_list=[10,20,30]"
   ]
  },
  {
   "cell_type": "code",
   "execution_count": 137,
   "id": "00044b8c-848b-4c41-8375-08d3b0fda8e3",
   "metadata": {},
   "outputs": [
    {
     "data": {
      "text/plain": [
       "[10, 20, 30]"
      ]
     },
     "execution_count": 137,
     "metadata": {},
     "output_type": "execute_result"
    }
   ],
   "source": [
    "my_list"
   ]
  },
  {
   "cell_type": "code",
   "execution_count": 141,
   "id": "cb12fe4a-266d-4a9d-956a-e9ac9086308f",
   "metadata": {},
   "outputs": [
    {
     "name": "stdout",
     "output_type": "stream",
     "text": [
      "my list: [10, 20, 30]\n"
     ]
    }
   ],
   "source": [
    "print(f\"my list: {my_list}\")"
   ]
  },
  {
   "cell_type": "code",
   "execution_count": 143,
   "id": "c1789d2e-9488-41bc-9c04-9302073f3880",
   "metadata": {},
   "outputs": [
    {
     "name": "stdin",
     "output_type": "stream",
     "text": [
      "name:  python\n"
     ]
    }
   ],
   "source": [
    "name=input(\"name: \")"
   ]
  },
  {
   "cell_type": "code",
   "execution_count": 145,
   "id": "17a16425-42f2-4626-81a3-a10cf81685fe",
   "metadata": {},
   "outputs": [
    {
     "name": "stdout",
     "output_type": "stream",
     "text": [
      "name: python\n"
     ]
    }
   ],
   "source": [
    "print(f\"name: {name}\")"
   ]
  },
  {
   "cell_type": "code",
   "execution_count": 147,
   "id": "4a1fb719-b7cd-47e8-afd6-7d95597e2e43",
   "metadata": {},
   "outputs": [
    {
     "name": "stdout",
     "output_type": "stream",
     "text": [
      "name:  python\n"
     ]
    }
   ],
   "source": [
    "print(\"name: \", name)"
   ]
  },
  {
   "cell_type": "code",
   "execution_count": 149,
   "id": "17b55498-6004-4377-856a-d91f18cf17ef",
   "metadata": {},
   "outputs": [],
   "source": [
    "p=0"
   ]
  },
  {
   "cell_type": "code",
   "execution_count": 151,
   "id": "0015ae72-b13f-4bcb-8262-f6932ad0fd08",
   "metadata": {},
   "outputs": [
    {
     "name": "stdout",
     "output_type": "stream",
     "text": [
      "value of p: 0\n",
      "value of p: 1\n",
      "value of p: 2\n",
      "value of p: 3\n",
      "value of p: 4\n",
      "value of p: 5\n",
      "value of p: 6\n",
      "value of p: 7\n",
      "value of p: 8\n",
      "value of p: 9\n",
      "value of p: 10\n",
      "value of p: 11\n",
      "value of p: 12\n",
      "value of p: 13\n",
      "value of p: 14\n",
      "value of p: 15\n",
      "value of p: 16\n",
      "value of p: 17\n",
      "value of p: 18\n",
      "value of p: 19\n"
     ]
    }
   ],
   "source": [
    "while p<20:\n",
    "    print(f\"value of p: {p}\")\n",
    "    p+=1"
   ]
  },
  {
   "cell_type": "code",
   "execution_count": null,
   "id": "e243ff58-3907-478e-913d-4313c08b28b5",
   "metadata": {},
   "outputs": [],
   "source": []
  }
 ],
 "metadata": {
  "kernelspec": {
   "display_name": "Python [conda env:base] *",
   "language": "python",
   "name": "conda-base-py"
  },
  "language_info": {
   "codemirror_mode": {
    "name": "ipython",
    "version": 3
   },
   "file_extension": ".py",
   "mimetype": "text/x-python",
   "name": "python",
   "nbconvert_exporter": "python",
   "pygments_lexer": "ipython3",
   "version": "3.12.7"
  }
 },
 "nbformat": 4,
 "nbformat_minor": 5
}
