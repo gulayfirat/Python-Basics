{
 "cells": [
  {
   "cell_type": "code",
   "execution_count": null,
   "id": "4097f89a-073c-4f50-8df1-4824e58f9fed",
   "metadata": {},
   "outputs": [],
   "source": [
    "# Restart Kernel and Run All Cell..."
   ]
  },
  {
   "cell_type": "code",
   "execution_count": 1,
   "id": "112e48c2-5809-41e8-b76a-6524d06a162b",
   "metadata": {},
   "outputs": [],
   "source": [
    "def divideNumber(number):\n",
    "    return number/2"
   ]
  },
  {
   "cell_type": "code",
   "execution_count": 2,
   "id": "6ea25a96-0695-4177-93e4-7cf9de9b145b",
   "metadata": {},
   "outputs": [
    {
     "data": {
      "text/plain": [
       "10.0"
      ]
     },
     "execution_count": 2,
     "metadata": {},
     "output_type": "execute_result"
    }
   ],
   "source": [
    "divideNumber(20)"
   ]
  },
  {
   "cell_type": "code",
   "execution_count": 3,
   "id": "4ca99c82-baa3-4f25-93a7-00609f869b4a",
   "metadata": {},
   "outputs": [],
   "source": [
    "myList=[3,5,7,10,20,30]"
   ]
  },
  {
   "cell_type": "code",
   "execution_count": 4,
   "id": "57c2ad47-6151-4281-a4dc-287118786bca",
   "metadata": {},
   "outputs": [
    {
     "name": "stdout",
     "output_type": "stream",
     "text": [
      "[0.75, 1.25, 1.75, 2.5, 5.0, 7.5]\n"
     ]
    }
   ],
   "source": [
    "myResultList=[]\n",
    "for num in myList:\n",
    "    myResultList.append(divideNumber(num/2))\n",
    "print(myResultList)"
   ]
  },
  {
   "cell_type": "markdown",
   "id": "6ee0366f-15f4-4006-87a7-0f90f9410f77",
   "metadata": {},
   "source": [
    "# MAP"
   ]
  },
  {
   "cell_type": "code",
   "execution_count": 6,
   "id": "eadd3efc-158c-48a6-9ba4-330f1e51d301",
   "metadata": {},
   "outputs": [
    {
     "name": "stdout",
     "output_type": "stream",
     "text": [
      "Help on class map in module builtins:\n",
      "\n",
      "class map(object)\n",
      " |  map(func, *iterables) --> map object\n",
      " |\n",
      " |  Make an iterator that computes the function using arguments from\n",
      " |  each of the iterables.  Stops when the shortest iterable is exhausted.\n",
      " |\n",
      " |  Methods defined here:\n",
      " |\n",
      " |  __getattribute__(self, name, /)\n",
      " |      Return getattr(self, name).\n",
      " |\n",
      " |  __iter__(self, /)\n",
      " |      Implement iter(self).\n",
      " |\n",
      " |  __next__(self, /)\n",
      " |      Implement next(self).\n",
      " |\n",
      " |  __reduce__(...)\n",
      " |      Return state information for pickling.\n",
      " |\n",
      " |  ----------------------------------------------------------------------\n",
      " |  Static methods defined here:\n",
      " |\n",
      " |  __new__(*args, **kwargs)\n",
      " |      Create and return a new object.  See help(type) for accurate signature.\n",
      "\n"
     ]
    }
   ],
   "source": [
    "help(map)"
   ]
  },
  {
   "cell_type": "code",
   "execution_count": 7,
   "id": "8825f804-641d-4b85-bd13-c59544119afa",
   "metadata": {},
   "outputs": [
    {
     "data": {
      "text/plain": [
       "<map at 0x11d70d5a0>"
      ]
     },
     "execution_count": 7,
     "metadata": {},
     "output_type": "execute_result"
    }
   ],
   "source": [
    "map(divideNumber,myList)"
   ]
  },
  {
   "cell_type": "code",
   "execution_count": 8,
   "id": "9764c729-7fd9-4b56-9d17-48131f85626a",
   "metadata": {},
   "outputs": [
    {
     "data": {
      "text/plain": [
       "[1.5, 2.5, 3.5, 5.0, 10.0, 15.0]"
      ]
     },
     "execution_count": 8,
     "metadata": {},
     "output_type": "execute_result"
    }
   ],
   "source": [
    "list(map(divideNumber,myList))"
   ]
  },
  {
   "cell_type": "code",
   "execution_count": 9,
   "id": "2295b201-9dd5-4e0b-879f-bceeb9404308",
   "metadata": {},
   "outputs": [],
   "source": [
    "def controlString(string):\n",
    "    return \"Python\" in string"
   ]
  },
  {
   "cell_type": "code",
   "execution_count": 10,
   "id": "725e5ca3-adb5-4f14-aad7-9ee2ba539322",
   "metadata": {},
   "outputs": [
    {
     "data": {
      "text/plain": [
       "True"
      ]
     },
     "execution_count": 10,
     "metadata": {},
     "output_type": "execute_result"
    }
   ],
   "source": [
    "controlString(\"Python Programming\")"
   ]
  },
  {
   "cell_type": "code",
   "execution_count": 11,
   "id": "f46c0005-c202-4a11-ab31-381b96d594c2",
   "metadata": {},
   "outputs": [
    {
     "data": {
      "text/plain": [
       "False"
      ]
     },
     "execution_count": 11,
     "metadata": {},
     "output_type": "execute_result"
    }
   ],
   "source": [
    "controlString(\"Dart Programming\")"
   ]
  },
  {
   "cell_type": "code",
   "execution_count": 12,
   "id": "11863792-c70d-4a28-ab4c-2fb89a9fa9f5",
   "metadata": {},
   "outputs": [],
   "source": [
    "myStringList=[\"Python\", \"Dart\", \"Swift\", \"Java\"]"
   ]
  },
  {
   "cell_type": "code",
   "execution_count": 13,
   "id": "5197eb1b-a6e7-4b02-9975-3b90cd3dd798",
   "metadata": {},
   "outputs": [
    {
     "data": {
      "text/plain": [
       "[True, False, False, False]"
      ]
     },
     "execution_count": 13,
     "metadata": {},
     "output_type": "execute_result"
    }
   ],
   "source": [
    "list(map(controlString, myStringList))"
   ]
  },
  {
   "cell_type": "markdown",
   "id": "ec6268e3-dcc5-4128-9665-b485b8f7af2c",
   "metadata": {},
   "source": [
    "# Filter"
   ]
  },
  {
   "cell_type": "code",
   "execution_count": 15,
   "id": "3e8c290c-7278-42ca-a242-ecf16c899113",
   "metadata": {},
   "outputs": [
    {
     "name": "stdout",
     "output_type": "stream",
     "text": [
      "Help on class filter in module builtins:\n",
      "\n",
      "class filter(object)\n",
      " |  filter(function or None, iterable) --> filter object\n",
      " |\n",
      " |  Return an iterator yielding those items of iterable for which function(item)\n",
      " |  is true. If function is None, return the items that are true.\n",
      " |\n",
      " |  Methods defined here:\n",
      " |\n",
      " |  __getattribute__(self, name, /)\n",
      " |      Return getattr(self, name).\n",
      " |\n",
      " |  __iter__(self, /)\n",
      " |      Implement iter(self).\n",
      " |\n",
      " |  __next__(self, /)\n",
      " |      Implement next(self).\n",
      " |\n",
      " |  __reduce__(...)\n",
      " |      Return state information for pickling.\n",
      " |\n",
      " |  ----------------------------------------------------------------------\n",
      " |  Static methods defined here:\n",
      " |\n",
      " |  __new__(*args, **kwargs)\n",
      " |      Create and return a new object.  See help(type) for accurate signature.\n",
      "\n"
     ]
    }
   ],
   "source": [
    "help(filter)"
   ]
  },
  {
   "cell_type": "code",
   "execution_count": 16,
   "id": "93929ef6-e6ad-43f8-927d-054b348087b9",
   "metadata": {},
   "outputs": [
    {
     "data": {
      "text/plain": [
       "['Python']"
      ]
     },
     "execution_count": 16,
     "metadata": {},
     "output_type": "execute_result"
    }
   ],
   "source": [
    "list(filter(controlString, myStringList))"
   ]
  },
  {
   "cell_type": "markdown",
   "id": "a984ef9f-6a8d-4286-95b1-ad85c6fa56d3",
   "metadata": {},
   "source": [
    "# Lambda"
   ]
  },
  {
   "cell_type": "code",
   "execution_count": 18,
   "id": "fcb1eb03-1d60-40fa-92e7-58eafaea9bb2",
   "metadata": {},
   "outputs": [],
   "source": [
    "multiplyLambda=lambda num:num*3"
   ]
  },
  {
   "cell_type": "code",
   "execution_count": 19,
   "id": "99934f73-cb01-483d-b356-7c676d179d47",
   "metadata": {},
   "outputs": [
    {
     "data": {
      "text/plain": [
       "9"
      ]
     },
     "execution_count": 19,
     "metadata": {},
     "output_type": "execute_result"
    }
   ],
   "source": [
    "multiplyLambda(3)"
   ]
  },
  {
   "cell_type": "code",
   "execution_count": 20,
   "id": "0d1c68fc-c912-4a6c-bd03-2cff98e36186",
   "metadata": {},
   "outputs": [
    {
     "data": {
      "text/plain": [
       "36"
      ]
     },
     "execution_count": 20,
     "metadata": {},
     "output_type": "execute_result"
    }
   ],
   "source": [
    "multiplyLambda(12)"
   ]
  },
  {
   "cell_type": "code",
   "execution_count": 21,
   "id": "4c262689-8d4f-4e19-8415-394a33e575e3",
   "metadata": {},
   "outputs": [
    {
     "data": {
      "text/plain": [
       "0"
      ]
     },
     "execution_count": 21,
     "metadata": {},
     "output_type": "execute_result"
    }
   ],
   "source": [
    "multiplyLambda(0)"
   ]
  },
  {
   "cell_type": "code",
   "execution_count": 22,
   "id": "b1b919bc-09a5-4aa6-950a-e132a83dc594",
   "metadata": {},
   "outputs": [],
   "source": [
    "numList=[10,20,30,40,50]"
   ]
  },
  {
   "cell_type": "code",
   "execution_count": 23,
   "id": "93ef96b0-8c6a-4f83-867b-c7d683894ef2",
   "metadata": {},
   "outputs": [
    {
     "data": {
      "text/plain": [
       "[2.5, 5.0, 7.5, 10.0, 12.5]"
      ]
     },
     "execution_count": 23,
     "metadata": {},
     "output_type": "execute_result"
    }
   ],
   "source": [
    "list(map(lambda num:num/4, numList))"
   ]
  },
  {
   "cell_type": "markdown",
   "id": "280a79e3-201e-49ad-bbbc-0bee24a23e17",
   "metadata": {},
   "source": [
    "# scope"
   ]
  },
  {
   "cell_type": "code",
   "execution_count": 25,
   "id": "5e27fb3f-074f-4586-803b-b0216357cd90",
   "metadata": {},
   "outputs": [],
   "source": [
    "x=20\n",
    "def multiply(num):\n",
    "    x=5\n",
    "    return num*x"
   ]
  },
  {
   "cell_type": "code",
   "execution_count": 26,
   "id": "11da77e7-9bc6-40cf-8c29-84100c7f1d38",
   "metadata": {},
   "outputs": [
    {
     "data": {
      "text/plain": [
       "50"
      ]
     },
     "execution_count": 26,
     "metadata": {},
     "output_type": "execute_result"
    }
   ],
   "source": [
    "multiply(10)"
   ]
  },
  {
   "cell_type": "code",
   "execution_count": 27,
   "id": "8a5a78d6-dc5e-4e8c-9d07-a46e90298242",
   "metadata": {},
   "outputs": [
    {
     "name": "stdout",
     "output_type": "stream",
     "text": [
      "20\n"
     ]
    }
   ],
   "source": [
    "print(x)"
   ]
  },
  {
   "cell_type": "code",
   "execution_count": 28,
   "id": "ff609212-aa9d-444e-a9e2-148d31188f82",
   "metadata": {},
   "outputs": [],
   "source": [
    "x=20\n",
    "def multiply(num):\n",
    "    x=5\n",
    "    return num*x\n",
    "x=10"
   ]
  },
  {
   "cell_type": "code",
   "execution_count": 29,
   "id": "a07664fe-26f8-4fd1-a1c4-0b93132c8b4f",
   "metadata": {},
   "outputs": [
    {
     "name": "stdout",
     "output_type": "stream",
     "text": [
      "10\n"
     ]
    }
   ],
   "source": [
    "print(x)"
   ]
  },
  {
   "cell_type": "code",
   "execution_count": 30,
   "id": "774aad88-791b-4027-a5de-954b99e4657a",
   "metadata": {},
   "outputs": [
    {
     "data": {
      "text/plain": [
       "15"
      ]
     },
     "execution_count": 30,
     "metadata": {},
     "output_type": "execute_result"
    }
   ],
   "source": [
    "multiply(3)"
   ]
  },
  {
   "cell_type": "code",
   "execution_count": 31,
   "id": "084e210c-66ad-4351-a485-2c7d31db47ca",
   "metadata": {},
   "outputs": [],
   "source": [
    "x=20\n",
    "def multiply(num):\n",
    "    return num*x"
   ]
  },
  {
   "cell_type": "code",
   "execution_count": 32,
   "id": "0cbd912c-bd53-45a9-8049-bbe1b7fc0468",
   "metadata": {},
   "outputs": [
    {
     "data": {
      "text/plain": [
       "200"
      ]
     },
     "execution_count": 32,
     "metadata": {},
     "output_type": "execute_result"
    }
   ],
   "source": [
    "multiply(10)"
   ]
  },
  {
   "cell_type": "markdown",
   "id": "058fb82d-f870-46e4-bf65-fa1ac07de173",
   "metadata": {},
   "source": [
    "# LEGB: L->Local, E->Enclosing, G->Global, B->Buit-In"
   ]
  },
  {
   "cell_type": "code",
   "execution_count": 34,
   "id": "2350c33b-0b70-4338-a23d-b9468c0b42f8",
   "metadata": {},
   "outputs": [],
   "source": [
    "#Global\n",
    "myString=\"Python1\"\n",
    "def myFunction():\n",
    "    #Enclosing\n",
    "    myString=\"Python2\"\n",
    "    print(myString)\n",
    "    def myFunction2():\n",
    "        #Local\n",
    "        myString=\"Python3\"\n",
    "        print(myString)\n",
    "    myFunction2()"
   ]
  },
  {
   "cell_type": "code",
   "execution_count": 35,
   "id": "72d8b17a-bea2-4c9a-8b9b-d16154e63bd5",
   "metadata": {},
   "outputs": [
    {
     "data": {
      "text/plain": [
       "'Python1'"
      ]
     },
     "execution_count": 35,
     "metadata": {},
     "output_type": "execute_result"
    }
   ],
   "source": [
    "myString"
   ]
  },
  {
   "cell_type": "code",
   "execution_count": 36,
   "id": "af48a3f9-f537-434a-97e5-ea8ae42acc94",
   "metadata": {},
   "outputs": [
    {
     "name": "stdout",
     "output_type": "stream",
     "text": [
      "Python2\n",
      "Python3\n"
     ]
    }
   ],
   "source": [
    "myFunction()"
   ]
  },
  {
   "cell_type": "code",
   "execution_count": 37,
   "id": "0d132fc8-b08e-4ca1-a802-979cf3fdb99d",
   "metadata": {},
   "outputs": [
    {
     "data": {
      "text/plain": [
       "'Python1'"
      ]
     },
     "execution_count": 37,
     "metadata": {},
     "output_type": "execute_result"
    }
   ],
   "source": [
    "myString"
   ]
  },
  {
   "cell_type": "code",
   "execution_count": 38,
   "id": "d36a4afa-bda3-42c0-9ded-fb8cde64f25d",
   "metadata": {},
   "outputs": [
    {
     "name": "stdout",
     "output_type": "stream",
     "text": [
      "Python2\n",
      "Python3\n"
     ]
    }
   ],
   "source": [
    "myFunction()"
   ]
  },
  {
   "cell_type": "code",
   "execution_count": 39,
   "id": "09f8349e-1ced-469c-bddc-8ea8d05dd620",
   "metadata": {},
   "outputs": [
    {
     "data": {
      "text/plain": [
       "'Python1'"
      ]
     },
     "execution_count": 39,
     "metadata": {},
     "output_type": "execute_result"
    }
   ],
   "source": [
    "myString"
   ]
  },
  {
   "cell_type": "code",
   "execution_count": 40,
   "id": "2febe42c-f75b-40a7-b9fc-830a3d183dc3",
   "metadata": {},
   "outputs": [],
   "source": [
    "#Global\n",
    "myString=\"Python1\"\n",
    "def myFunction():\n",
    "    #Enclosing\n",
    "    myString=\"Python2\"\n",
    "    print(myString)\n",
    "    def myFunction2():\n",
    "        #Local\n",
    "        #myString=\"Python3\"\n",
    "        print(myString)\n",
    "    myFunction2()"
   ]
  },
  {
   "cell_type": "code",
   "execution_count": 41,
   "id": "353f0f86-1006-422c-8c9a-6dda31953fb4",
   "metadata": {},
   "outputs": [
    {
     "name": "stdout",
     "output_type": "stream",
     "text": [
      "Python2\n",
      "Python2\n"
     ]
    }
   ],
   "source": [
    "myFunction()"
   ]
  },
  {
   "cell_type": "code",
   "execution_count": 42,
   "id": "3a419636-213a-4000-8144-b75be400b080",
   "metadata": {},
   "outputs": [],
   "source": [
    "#Global\n",
    "myString=\"Python1\"\n",
    "def myFunction():\n",
    "    #Enclosing\n",
    "    #myString=\"Python2\"\n",
    "    print(myString)\n",
    "    def myFunction2():\n",
    "        #Local\n",
    "        #myString=\"Python3\"\n",
    "        print(myString)\n",
    "    myFunction2()"
   ]
  },
  {
   "cell_type": "code",
   "execution_count": 43,
   "id": "d6a1eb05-f6ec-4379-a742-c380254ef6e8",
   "metadata": {},
   "outputs": [
    {
     "name": "stdout",
     "output_type": "stream",
     "text": [
      "Python1\n",
      "Python1\n"
     ]
    }
   ],
   "source": [
    "myFunction()"
   ]
  },
  {
   "cell_type": "code",
   "execution_count": 44,
   "id": "48df25c2-f2d7-4db4-b3cb-6a913a759b8f",
   "metadata": {},
   "outputs": [],
   "source": [
    "def test1():\n",
    "    myVariable=10\n",
    "    print(myVariable*2)"
   ]
  },
  {
   "cell_type": "code",
   "execution_count": 45,
   "id": "4a4011db-fb66-4c9a-a8ff-d216e2a31bc3",
   "metadata": {},
   "outputs": [],
   "source": [
    "def test2():\n",
    "    print(myVariable*3)"
   ]
  },
  {
   "cell_type": "code",
   "execution_count": 46,
   "id": "f5cf5df5-3ac5-4df9-843c-bfc0d1643dc0",
   "metadata": {},
   "outputs": [],
   "source": [
    "# test2()  #error"
   ]
  },
  {
   "cell_type": "code",
   "execution_count": 47,
   "id": "e950ee79-0847-4782-a579-10a364e4513b",
   "metadata": {},
   "outputs": [],
   "source": [
    "myVariable=10\n",
    "def test1():\n",
    "    print(myVariable*2)\n",
    "def test2():\n",
    "    print(myVariable*3)"
   ]
  },
  {
   "cell_type": "code",
   "execution_count": 48,
   "id": "849f244b-c5fe-4b7f-9084-9546e01c3f06",
   "metadata": {},
   "outputs": [
    {
     "name": "stdout",
     "output_type": "stream",
     "text": [
      "20\n"
     ]
    }
   ],
   "source": [
    "test1()"
   ]
  },
  {
   "cell_type": "code",
   "execution_count": 49,
   "id": "6df045c5-efe9-4242-b4f5-6ab59fe74c51",
   "metadata": {},
   "outputs": [
    {
     "name": "stdout",
     "output_type": "stream",
     "text": [
      "30\n"
     ]
    }
   ],
   "source": [
    "test2()"
   ]
  },
  {
   "cell_type": "code",
   "execution_count": 50,
   "id": "c6f0cc86-7490-4c57-a015-97b6754f5f27",
   "metadata": {},
   "outputs": [],
   "source": [
    "y=10\n",
    "def newMyFunction(y):\n",
    "    print(y)\n",
    "    y=5\n",
    "    print(y)\n",
    "    return y"
   ]
  },
  {
   "cell_type": "code",
   "execution_count": 51,
   "id": "4c965759-bde3-43be-bad7-28a38edda8c5",
   "metadata": {},
   "outputs": [
    {
     "name": "stdout",
     "output_type": "stream",
     "text": [
      "10\n",
      "5\n"
     ]
    },
    {
     "data": {
      "text/plain": [
       "5"
      ]
     },
     "execution_count": 51,
     "metadata": {},
     "output_type": "execute_result"
    }
   ],
   "source": [
    "newMyFunction(10)"
   ]
  },
  {
   "cell_type": "code",
   "execution_count": 52,
   "id": "69710a29-ad33-4dd8-957f-990c6da03f88",
   "metadata": {},
   "outputs": [
    {
     "data": {
      "text/plain": [
       "10"
      ]
     },
     "execution_count": 52,
     "metadata": {},
     "output_type": "execute_result"
    }
   ],
   "source": [
    "y"
   ]
  },
  {
   "cell_type": "code",
   "execution_count": 53,
   "id": "87de620e-0e27-469c-b1ca-7eaf456abaef",
   "metadata": {},
   "outputs": [],
   "source": [
    "y=10\n",
    "def changeY():\n",
    "    global y\n",
    "    y=5\n",
    "    print(y)"
   ]
  },
  {
   "cell_type": "code",
   "execution_count": 54,
   "id": "148e1028-ab5e-4c6b-ac12-60505196bf02",
   "metadata": {},
   "outputs": [
    {
     "name": "stdout",
     "output_type": "stream",
     "text": [
      "5\n"
     ]
    }
   ],
   "source": [
    "changeY()"
   ]
  },
  {
   "cell_type": "code",
   "execution_count": 55,
   "id": "968371c0-aa6c-4d79-8fc0-696ca612d7a7",
   "metadata": {},
   "outputs": [
    {
     "data": {
      "text/plain": [
       "5"
      ]
     },
     "execution_count": 55,
     "metadata": {},
     "output_type": "execute_result"
    }
   ],
   "source": [
    "y"
   ]
  },
  {
   "cell_type": "code",
   "execution_count": null,
   "id": "ecf59660-48e5-4bdd-81b9-8b8a6729b255",
   "metadata": {},
   "outputs": [],
   "source": []
  }
 ],
 "metadata": {
  "kernelspec": {
   "display_name": "Python [conda env:base] *",
   "language": "python",
   "name": "conda-base-py"
  },
  "language_info": {
   "codemirror_mode": {
    "name": "ipython",
    "version": 3
   },
   "file_extension": ".py",
   "mimetype": "text/x-python",
   "name": "python",
   "nbconvert_exporter": "python",
   "pygments_lexer": "ipython3",
   "version": "3.12.7"
  }
 },
 "nbformat": 4,
 "nbformat_minor": 5
}
