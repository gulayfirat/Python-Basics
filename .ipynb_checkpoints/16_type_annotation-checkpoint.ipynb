{
 "cells": [
  {
   "cell_type": "code",
   "execution_count": 1,
   "id": "f79c3f47-801e-439e-ad59-50405e98f28e",
   "metadata": {},
   "outputs": [],
   "source": [
    "# Restart Kernel and Run All Cell..."
   ]
  },
  {
   "cell_type": "code",
   "execution_count": 2,
   "id": "48592374-1c8d-4fcb-aeb7-9136644e1975",
   "metadata": {},
   "outputs": [],
   "source": [
    "name: str =\"Ali\"\n",
    "surname: str=20"
   ]
  },
  {
   "cell_type": "code",
   "execution_count": 3,
   "id": "2591fd91-1dc7-4e93-b441-3b22a49b8c2b",
   "metadata": {},
   "outputs": [
    {
     "data": {
      "text/plain": [
       "str"
      ]
     },
     "execution_count": 3,
     "metadata": {},
     "output_type": "execute_result"
    }
   ],
   "source": [
    "type(name)"
   ]
  },
  {
   "cell_type": "code",
   "execution_count": 4,
   "id": "b27ae5f7-6bc2-4a27-8c08-69833d3b25d5",
   "metadata": {},
   "outputs": [
    {
     "data": {
      "text/plain": [
       "int"
      ]
     },
     "execution_count": 4,
     "metadata": {},
     "output_type": "execute_result"
    }
   ],
   "source": [
    "type(surname)"
   ]
  },
  {
   "cell_type": "code",
   "execution_count": 5,
   "id": "815e7912-5d49-4174-bbed-1e931caa8286",
   "metadata": {},
   "outputs": [],
   "source": [
    "name: str = \"Ali\"\n",
    "age: int = 20\n",
    "is_student: bool = False"
   ]
  },
  {
   "cell_type": "code",
   "execution_count": 6,
   "id": "a64c4f44-f3b0-423c-9c33-40516ef74fe3",
   "metadata": {},
   "outputs": [],
   "source": [
    "def add_numbers(a, b):\n",
    "    return a+b"
   ]
  },
  {
   "cell_type": "code",
   "execution_count": 7,
   "id": "3a7b8780-3a7a-4913-973c-84051cbde033",
   "metadata": {},
   "outputs": [
    {
     "data": {
      "text/plain": [
       "8"
      ]
     },
     "execution_count": 7,
     "metadata": {},
     "output_type": "execute_result"
    }
   ],
   "source": [
    "add_numbers(3,5)"
   ]
  },
  {
   "cell_type": "code",
   "execution_count": 8,
   "id": "cbdbff6e-21d6-4923-8d61-01a742cf827f",
   "metadata": {},
   "outputs": [],
   "source": [
    "def add_numbers2(a: int , b: int)->int:\n",
    "    return a+b"
   ]
  },
  {
   "cell_type": "code",
   "execution_count": 9,
   "id": "acc8464d-d0b5-41fb-a059-e1854da6b94d",
   "metadata": {},
   "outputs": [
    {
     "data": {
      "text/plain": [
       "8"
      ]
     },
     "execution_count": 9,
     "metadata": {},
     "output_type": "execute_result"
    }
   ],
   "source": [
    "add_numbers2(3,5)"
   ]
  },
  {
   "cell_type": "code",
   "execution_count": 10,
   "id": "97189633-650e-4a2f-b7c6-118616642c47",
   "metadata": {},
   "outputs": [],
   "source": [
    "def process_value(value: int|str)->str:\n",
    "    if isinstance(value, int):\n",
    "        return f\"processed integer: {value}\"\n",
    "    else:\n",
    "        return f\"processed string: {value}\"\n",
    "    "
   ]
  },
  {
   "cell_type": "code",
   "execution_count": 11,
   "id": "2cfafc25-372f-456e-a98b-9af53007ab39",
   "metadata": {},
   "outputs": [
    {
     "data": {
      "text/plain": [
       "'processed integer: 20'"
      ]
     },
     "execution_count": 11,
     "metadata": {},
     "output_type": "execute_result"
    }
   ],
   "source": [
    "process_value(20)"
   ]
  },
  {
   "cell_type": "code",
   "execution_count": 12,
   "id": "9f28f411-f279-45fa-88a7-9265d60e0d53",
   "metadata": {},
   "outputs": [
    {
     "data": {
      "text/plain": [
       "'processed string: python'"
      ]
     },
     "execution_count": 12,
     "metadata": {},
     "output_type": "execute_result"
    }
   ],
   "source": [
    "process_value(\"python\")"
   ]
  },
  {
   "cell_type": "code",
   "execution_count": 13,
   "id": "b81bde83-1314-4539-9db5-c8e569c00446",
   "metadata": {},
   "outputs": [
    {
     "data": {
      "text/plain": [
       "'processed string: [10, 20]'"
      ]
     },
     "execution_count": 13,
     "metadata": {},
     "output_type": "execute_result"
    }
   ],
   "source": [
    "process_value([10,20]) # else always  as string "
   ]
  },
  {
   "cell_type": "code",
   "execution_count": 14,
   "id": "6d344aab-6f93-4afa-b7b7-6b1c90a85ed9",
   "metadata": {},
   "outputs": [],
   "source": [
    "#for Python 3.9 or later\n",
    "\n",
    "from typing import List\n",
    "def sum_list(numbers: List[int])->int:\n",
    "    return sum(numbers)"
   ]
  },
  {
   "cell_type": "code",
   "execution_count": 15,
   "id": "2e85423d-e93e-4fef-8ee6-e02d3950ed76",
   "metadata": {},
   "outputs": [],
   "source": [
    "numbers=[10,20,30]"
   ]
  },
  {
   "cell_type": "code",
   "execution_count": 16,
   "id": "227db4c7-5be5-4438-ab0f-d6b531da9f34",
   "metadata": {},
   "outputs": [],
   "source": [
    "total=sum_list(numbers)"
   ]
  },
  {
   "cell_type": "code",
   "execution_count": 17,
   "id": "b15867da-2023-4da0-8e34-38930f46957d",
   "metadata": {},
   "outputs": [
    {
     "data": {
      "text/plain": [
       "60"
      ]
     },
     "execution_count": 17,
     "metadata": {},
     "output_type": "execute_result"
    }
   ],
   "source": [
    "total"
   ]
  },
  {
   "cell_type": "code",
   "execution_count": null,
   "id": "f0228607-2b61-4285-a8da-37e024b82a35",
   "metadata": {},
   "outputs": [],
   "source": []
  }
 ],
 "metadata": {
  "kernelspec": {
   "display_name": "Python [conda env:base] *",
   "language": "python",
   "name": "conda-base-py"
  },
  "language_info": {
   "codemirror_mode": {
    "name": "ipython",
    "version": 3
   },
   "file_extension": ".py",
   "mimetype": "text/x-python",
   "name": "python",
   "nbconvert_exporter": "python",
   "pygments_lexer": "ipython3",
   "version": "3.12.7"
  }
 },
 "nbformat": 4,
 "nbformat_minor": 5
}
